{
 "cells": [
  {
   "cell_type": "markdown",
   "metadata": {},
   "source": [
    "# WSL"
   ]
  },
  {
   "cell_type": "markdown",
   "metadata": {},
   "source": [
    "\n",
    "\n",
    "WSL can be [installed](https://learn.microsoft.com/en-us/windows/wsl/install) easily: `wsl --install`.\n",
    "\n",
    "Note that drives are mounted, but access to files outside WSL can be slow, always copy files to WSL directly.\n",
    "```zsh\n",
    "mount -l  # what drives are mounted\n",
    "```\n",
    "\n",
    "## Reclaim disk space\n",
    "\n",
    "WSL also doesn't automatically release space back to Local Hard drive. To release the disk space occupied by WSL follow [this](https://github.com/microsoft/WSL/issues/4699):\n",
    "```powershell\n",
    "### Optimize (shrink) WSL 2 .vhdx\n",
    "## Must be run in PowerShell as Administrator user\n",
    "# DistroFolder found at: $env:LOCALAPPDATA\\Packages\\\n",
    "# Examples:\n",
    "#   CanonicalGroupLimited.UbuntuonWindows_79rhkp1fndgsc\n",
    "#   CanonicalGroupLimited.Ubuntu20.04onWindows_79rhkp1fndgsc\n",
    "\n",
    "cd $env:LOCALAPPDATA\\Packages\\REPLACE_ME_WITH_TARGET_DISTRO_FOLDERNAME\\LocalState\\\n",
    "wsl --shutdown\n",
    "optimize-vhd -Path .\\ext4.vhdx -Mode full\n",
    "#Run `wsl` or your favorite terminal to resume use\n",
    "```\n",
    "\n",
    "\n",
    "`optimize-vhd` requires Hyperviser:\n",
    "```powershell\n",
    "Enable-WindowsOptionalFeature -FeatureName Microsoft-Hyper-V-All -Online\n",
    "```\n",
    "\n",
    "## Limit CPU memory usage\n",
    "\n",
    "\n",
    "WSL can take a lot of CPU memory, to prevent this follow [this](https://github.com/microsoft/WSL/issues/5476), create `/user/.wslconfig`\n",
    "```\n",
    "[wsl2]\n",
    "memory=6GB   # set this line what you want to limit memory\n",
    "swapFile=E:\\\\swap.vhdx   # in case you need more memory specify swapping location with the hard drive, use double backslash \n",
    "``` \n",
    "\n",
    "`vmmem` is the wsl2 process for CPU memory that you can observe in Task Manager."
   ]
  },
  {
   "cell_type": "markdown",
   "metadata": {},
   "source": []
  }
 ],
 "metadata": {
  "language_info": {
   "name": "python"
  },
  "orig_nbformat": 4
 },
 "nbformat": 4,
 "nbformat_minor": 2
}
