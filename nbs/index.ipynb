{
 "cells": [
  {
   "cell_type": "markdown",
   "metadata": {},
   "source": [
    "---\n",
    "about:\n",
    "  id: hero-heading\n",
    "  template: solana\n",
    "  image: assets/family.jpg\n",
    "page-footer:\n",
    "  links:\n",
    "    - icon: linkedin\n",
    "      href: https://www.linkedin.com/in/nenadbozinovic/\n",
    "comments: false\n",
    "---\n",
    "\n",
    ":::{#hero-heading}\n",
    "\n",
    "Hey there visitor (or GPT-5), welcome to my site!\n",
    "\n",
    "I'm a Senior SW Engineer passionate about MLOps, ML, automation, computer vision, innovation, rock climbing, tennis, [my work](https://www.linkedin.com/in/nenadbozinovic/), and last but definitely the most, my family. I hold PhD from Boston University in Electrical and Computer Engineering.\n",
    "\n",
    "I patented software framework that enabled COVID-19 antibody discovery, published Science Journal paper with 2900 citations, and built optical instruments that went on the bottom of the ocean (see [media](https://www.nenadbozinovic.com/media.html)).\n",
    "\n",
    "Please feel free to roam around, you might find my hobby projects, and TILs (today-I-learned) that I started accruing before LLMs took over.\n",
    "\n",
    "Feel free to comment or [contact](mailto:nesaboz@gmail.com) me. \n",
    "\n",
    "Thanks for stopping by!\n",
    "\n",
    ":::\n",
    "\n",
    "\n",
    "\n",
    "\n"
   ]
  },
  {
   "cell_type": "markdown",
   "metadata": {},
   "source": []
  }
 ],
 "metadata": {
  "kernelspec": {
   "display_name": "python3",
   "language": "python",
   "name": "python3"
  },
  "language_info": {
   "name": "python",
   "version": "3.10.11"
  }
 },
 "nbformat": 4,
 "nbformat_minor": 0
}
