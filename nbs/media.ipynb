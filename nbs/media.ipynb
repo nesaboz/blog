{
 "cells": [
  {
   "cell_type": "markdown",
   "metadata": {},
   "source": [
    "# Media"
   ]
  },
  {
   "cell_type": "markdown",
   "metadata": {},
   "source": [
    "## Patents\n",
    "\n",
    "Implemented in all BLI instruments the following patent enabled COVID-19 antibody [discovery](https://www.berkeleylights.com/blog/racing-to-find-the-right-cells-our-covid-19-success-stories/){target=\"_blank\"}:\n",
    "\n",
    "- D. Thaker, M. Fowler, S. Nedungadi, D. V. Banda, B. Bruhn, **N. Bozinovic**, K. Mobilia, \"Systems and methods for optimizing an instrument system workflow\", Patent No. US-11802883-B2 (2023) ([submitted](https://patentimages.storage.googleapis.com/46/0b/d2/324da74c8b3ef6/WO2020243015A1.pdf){target=\"_blank\"} and [published](https://image-ppubs.uspto.gov/dirsearch-public/print/downloadPdf/11802883)).\n",
    "\n",
    "## Publications\n",
    "\n",
    "My publications span work from bio-microscopy to fiber-optics and optical networking. I designed complex prototypes as well as built robust systems that went to the bottom of the ocean.\n",
    "\n",
    "For citations visit [Google Scholar](https://scholar.google.com/citations?user=2yl9qR4AAAAJ&hl=en){target=\"_blank\"}.\n",
    "\n",
    "For paper downloads see [below](##Publication-list)."
   ]
  },
  {
   "cell_type": "markdown",
   "metadata": {},
   "source": [
    "## Press\n",
    "\n",
    "Together with Prof. Ramachandran at Boston University I invented fiber-optic system based on [orbital-angular-momentum multiplexing](http://en.wikipedia.org/wiki/Orbital_angular_momentum_multiplexing){target=\"_blank\"}, following are few of the media releases:"
   ]
  },
  {
   "cell_type": "markdown",
   "metadata": {},
   "source": [
    "|                                                                                                                                                                                                                                                   |                                                                                                                       |\n",
    "|:-------------------------------------------------------------------------------------------------------------------------------------------------------------------------------------------------------------------------------------------------:|:---------------------------------------------------------------------------------------------------------------------:|\n",
    "| [<img width=\"400\" src=\"assets/press/science.jpg\">](http://www.sciencemag.org/content/340/6140/1513.summary){target=\"_blank\"} | [<img width=\"400\" src=\"assets/press/nature.jpg\">](https://www.nature.com/articles/nature.2013.13291){target=\"_blank\"} |\n",
    "| [<img width=\"400\" src=\"assets/press/nbc.jpg\">](http://www.nbcnews.com/id/52334356/ns/technology_and_science-tech_and_gadgets/t/researchers-cram-more-info-fiber-optics/){target=\"_blank\"} | [<img width=\"400\" src=\"assets/press/bbc.jpg\">](http://www.bbc.co.uk/news/science-environment-23096320){target=\"_blank\"} |\n",
    "| [<img width=\"400\" src=\"assets/press/boston.jpg\">](http://www.bostonglobe.com/lifestyle/health-wellness/2013/06/30/developing-new-technology-alleviate-coming-bandwidth-bottleneck/MKLhLDB1XSV8WKMl2CZunJ/story.html){target=\"_blank\"} | [<img width=\"400\" src=\"assets/press/IEEE.jpg\">](http://spectrum.ieee.org/tech-talk/semiconductors/design/twisted-light-sends-data-through-optical-fiber-for-first-time){target=\"_blank\"} |\n",
    "| [<img width=\"400\" src=\"assets/press/extreme.jpg\">](http://www.extremetech.com/computing/159986-twisted-laser-vortexes-carry-1-6-terabits-per-second-over-fiber-optic-network){target=\"_blank\"} | [<img width=\"400\" src=\"assets/press/wikipedia.jpg\">](http://en.wikipedia.org/wiki/Orbital_angular_momentum_multiplexing){target=\"_blank\"} |\n"
   ]
  },
  {
   "cell_type": "markdown",
   "metadata": {},
   "source": [
    "## Publication list\n",
    "\n",
    "1. **N. Bozinovic**, Y. Yue, Y. Ren, M. Tur, P. Kristensen, H. Huang, A. E. Willner, S. Ramachandran, \"Terabit-Scale Orbital Angular Momentum Mode Division Multiplexing in Fibers\", **Science**, 28 June 2013: 340 (6140), 1545-1548. ([link](https://www.science.org/doi/10.1126/science.1237861){target=\"_blank\"} / [download](assets/publications/01_NenadBozinovic_Science_2013.pdf){target=\"_blank\"})\n",
    "\n",
    "2. **N. Bozinovic**, \"Orbital Angular Momentum in Fibers\", PhD thesis, 2013. ([download](assets/publications/02_NenadBozinovic_PhD_Thesis_2013.pdf))\n",
    "\n",
    "3. J. Wang, M.J. Padgett, S. Ramachandran, **N. Bozinovic**, S. Golowich, M.P.J. Lavery, H. Huang, Y. Yue, A.E. Willner “Multimode communications using OAM,” in Optical Fiber Telecommunications VI-B, I. Kaminow, T. Li, A.E. Willner, Ed., Academic Press, 2013. ([link](http://www.amazon.com/Optical-Fiber-Telecommunications-Volume-Edition/dp/0123969581/ref=sr_1_3?ie=UTF8&qid=1375221054&sr=8-3&keywords=kaminow){target=\"_blank\"})\n",
    "\n",
    "4. Y. Yue, **N. Bozinovic**, Y. Ren, H. Huang, M. Tur, P. Kristensen, S. Ramachandran, and A. E. Willner, \"1.6-Tbit/s Muxing, Transmission and Demuxing through 1.1-km of Vortex Fiber Carrying 2 OAM Beams Each with 10 Wavelength Channels,\" in Optical Fiber Communication Conference/National Fiber Optic Engineers Conference 2013, OSA Technical Digest, paper OTh4G.2. ([link](http://www.opticsinfobase.org/abstract.cfm?URI=OFC-2013-OTh4G.2){target=\"_blank\"})\n",
    "\n",
    "5. **N. Bozinovic**, Y. Yue, Y. Ren, M. Tur, P. Kristensen, A. Willner, and S. Ramachandran, \"Orbital Angular Momentum (OAM) Based Mode Division Multiplexing (MDM) over a Km-length Fiber,\" in European Conference on Optical Communication, OSA Technical Digest, 2012, post-deadline paper Th.3.C.6. ([link](http://www.opticsinfobase.org/abstract.cfm?URI=ECEOC-2012-Th.3.C.6) / [download](assets/publications/05_NenadBozinovic_ECOC_2012.pdf))\n",
    "\n",
    "6. **N. Bozinovic**, S. Golowich, P. Kristensen, and S. Ramachandran, \"Control of orbital angular momentum of light with optical fibers,\" Optics Letters 37, 2451-2453 (2012). ([link](http://www.opticsinfobase.org/ol/fulltext.cfm?uri=ol-37-13-2451&id=238381){target=\"_blank\"} / [download](assets/publications/06_NenadBozinovic_OpticsLetters_2012.pdf))\n",
    "\n",
    "7. S. Ramachandran, **N. Bozinovic**, P. Gregg, S. Golowich, and P. Kristensen, \"Optical vortices in fibres: A new degree of freedom for mode multiplexing,\" in European Conference on Optical Communication, OSA Technical Digest, 2012, invited paper Tu.3.F.3. ([link](http://www.opticsinfobase.org/abstract.cfm?uri=ECEOC-2012-Tu.3.F.3){target=\"_blank\"})\n",
    "\n",
    "8. S. Golowich, P. Kristensen, **N. Bozinovic**, P. Gregg, and S. Ramachandran, \"Fibers Supporting Orbital Angular Momentum States for Information Capacity Scaling,\" in Frontiers in Optics Conference, OSA Technical Digest, 2012, invited paper FW2D.2. ([link](http://www.opticsinfobase.org/abstract.cfm?uri=FiO-2012-FW2D.2){target=\"_blank\"})\n",
    "\n",
    "9. S. Golowich, **N. Bozinovic**, P. Kristensen, and S. Ramachandran, \"Vortex Fiber Mode Amplitude Estimation,\" in CLEO: Applications and Technology, OSA Technical Digest, 2012, paper JTu2K.2. ([link](http://www.opticsinfobase.org/abstract.cfm?URI=QELS-2012-JTu2K.2){target=\"_blank\"})\n",
    "\n",
    "10. **N. Bozinovic**, S. Ramachandran, M. Brodsky, and P. Kristensen, \"Record-length transmission of entangled photons with orbital angular momentum (vortices),\" in Frontiers in Optics, OSA Technical Digest, 2011, post-deadline paper PDPB1. ([link](http://www.opticsinfobase.org/abstract.cfm?uri=FiO-2011-PDPB1){target=\"_blank\"}) ([download](assets/publications/10_NenadBozinovic_FiO_2011.pdf))\n",
    "\n",
    "11. **N. Bozinovic**, P. Kristensen, and S. Ramachandran, \"Long-range fiber-transmission of photons with orbital angular momentum,\" in CLEO:2011 - Laser Applications to Photonic Applications, OSA Technical Digest , 2011, paper CTuB1. ([link](http://www.opticsinfobase.org/abstract.cfm?URI=CLEO:%20S%20and%20I-2011-CTuB1){target=\"_blank\"} / [download](assets/publications/11_NenadBozinovic_CLEO_2011.pdf))\n",
    "\n",
    "12. **N. Bozinovic**, P. Kristensen, and S. Ramachandran, \"Are Orbital Angular Momentum (OAM/Vortex) States of Light Long-Lived in Fibers?,\" in Frontiers in Optics/Laser Science, OSA Technical Digest, 2011, paper LWL3. ([link](http://www.opticsinfobase.org/abstract.cfm?URI=LS-2011-LWL3){target=\"_blank\"})\n",
    "\n",
    "13. S. Santos, K. Chu, D. Lim, **N. Bozinovic**, T. Ford, C. Hourtoule, A. C. Bartoo, S. K. Singh, J. Mertz,  Optically sectioned fluorescence endomicroscopy with hybrid-illumination imaging through a flexible fiber bundle”, J. Biomed. Opt. 14, 030502, (2009) ([link](http://biomedicaloptics.spiedigitallibrary.org/article.aspx?articleid=1103006){target=\"_blank\"})\n",
    "\n",
    "14. S. Santos, K. Chu, D. Lim, **N. Bozinovic**, T. Ford, C. Hourtoule, A. Bartoo, S. Singh, and J. Mertz, \"Optically Sectioned Fluorescence Endomicroscopy with Hybrid-Illumination Imaging through a Flexible Fiber Bundle,\" in Novel Techniques in Microscopy, OSA Technical Digest, 2009, paper NWC3. ([link](http://www.opticsinfobase.org/abstract.cfm?uri=NTM-2009-NWC3){target=\"_blank\"})\n",
    "\n",
    "15. **N. Bozinovic**, C. Ventalon, T. Ford, and J. Mertz, \"Fluorescence endomicroscopy with structured illumination,\" Opt. Express 16, 8016-8025 (2008). ([link](http://www.opticsinfobase.org/oe/abstract.cfm?uri=oe-16-11-8016){target=\"_blank\"})\n",
    "\n",
    "16. **N. Bozinovic**, C. Ventalon, T. Ford, and J. Mertz, \"Fluorescence Endomicroscopy with Out-of-Focus Background Rejection,\" in Biomedical Optics, OSA Technical Digest, 2008, paper BTuF57. ([link](http://www.opticsinfobase.org/abstract.cfm?uri=BIOMED-2008-BTuF57){target=\"_blank\"} / [download](assets/publications/16_NenadBozinovic_OpticsExpress_2008.pdf))\n"
   ]
  },
  {
   "cell_type": "code",
   "execution_count": null,
   "metadata": {},
   "outputs": [],
   "source": []
  }
 ],
 "metadata": {
  "kernelspec": {
   "display_name": "python3",
   "language": "python",
   "name": "python3"
  }
 },
 "nbformat": 4,
 "nbformat_minor": 4
}
