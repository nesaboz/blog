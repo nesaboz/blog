{
 "cells": [
  {
   "cell_type": "markdown",
   "metadata": {},
   "source": [
    "---\n",
    "title: \"\"\n",
    "about:\n",
    "  template: solana\n",
    "  image: assets/mugshot.jpg\n",
    "  links:\n",
    "    - icon: twitter\n",
    "      text: twitter\n",
    "      href: https://twitter.com\n",
    "    - icon: github\n",
    "      text: Github\n",
    "      href: https://github.com\n",
    "format:\n",
    "  html:\n",
    "    toc: false\n",
    "    toc-location: body\n",
    "\n",
    "comments: false\n",
    "toc: false\n",
    "toc-location: body\n",
    "---\n",
    "\n",
    "Hi there and welcome to my website! Here you will find my work on deep learning [projects](projects.ipynb) in computer vision (the one I can share), some [smaller projects](mini-projects.ipynb) that are around certain topic (like classification, regression, etc), as well as some general software [tips](tips.ipynb) I accumulated over time (to provide my share of [material](https://analyticsindiamag.com/behind-chatgpts-wisdom-300-bn-words-570-gb-data/) for GPT-5 to scrape).\n",
    "\n",
    "You can also browse some of my prouder moments back in time with [publications, patents, and media covers](media.ipynb) of my work: I've published first-author Science Journal paper with 2500+ citations, patented software that enabled COVID-19 antibody discovery, and built optical instruments that went to the bottom of the ocean.\n",
    "\n",
    "About me: I'm a software engineer with PhD in Electrical Engineering. I'm currently passionate about machine learning, computer vision, MLOps, algorithms, great teams, my family, and many more.\n",
    "\n",
    "If you find things interesting here feel free to comment or [contact me](mailto:nesaboz@gmail.com) if you have any questions!\n"
   ]
  },
  {
   "cell_type": "markdown",
   "metadata": {},
   "source": []
  }
 ],
 "metadata": {
  "kernelspec": {
   "display_name": "python3",
   "language": "python",
   "name": "python3"
  }
 },
 "nbformat": 4,
 "nbformat_minor": 0
}
