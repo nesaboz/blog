{
 "cells": [
  {
   "cell_type": "markdown",
   "metadata": {},
   "source": [
    "# Terraform\n",
    "\n",
    "\"\"\"bash\n",
    "terraform init\n",
    "terraform plan\n",
    "terraform show\n",
    "terraform state list\n",
    "terraform apply\n",
    "\"\"\"\n"
   ]
  }
 ],
 "metadata": {
  "language_info": {
   "name": "python"
  }
 },
 "nbformat": 4,
 "nbformat_minor": 2
}
