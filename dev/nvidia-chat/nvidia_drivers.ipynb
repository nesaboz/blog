{
 "cells": [
  {
   "cell_type": "markdown",
   "metadata": {},
   "source": [
    "# Fine-Tune LLM"
   ]
  },
  {
   "cell_type": "markdown",
   "metadata": {},
   "source": [
    "## Install drivers for NVIDIA card\n",
    "\n",
    "```zsh\n",
    "ssh -i MyGPT.pem ubuntu@ec2-3-101-29-168.us-west-1.compute.amazonaws.com\n",
    "```\n",
    "\n",
    "As usual first:\n",
    "```zsh\n",
    "sudo apt update\n",
    "sudo apt upgrade -y\n",
    "```\n",
    "\n",
    "Then find out the GPU driver version: \n",
    "```bash\n",
    "ubuntu-drivers devices\n",
    "```\n",
    "then install the recommended driver:\n",
    "```bash\n",
    "sudo apt install nvidia-driver-XYZ\n",
    "```\n",
    "you will need to reboot the system after the installation.\n",
    "```\n",
    "sudo reboot\n",
    "```\n",
    "finally check the driver version:\n",
    "```zsh\n",
    "nvidia-smi\n",
    "```\n"
   ]
  },
  {
   "cell_type": "markdown",
   "metadata": {},
   "source": [
    "## For Windows machine\n"
   ]
  },
  {
   "cell_type": "code",
   "execution_count": null,
   "metadata": {},
   "outputs": [],
   "source": []
  }
 ],
 "metadata": {
  "language_info": {
   "name": "python"
  }
 },
 "nbformat": 4,
 "nbformat_minor": 2
}
