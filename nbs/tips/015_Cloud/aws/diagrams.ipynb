{
 "cells": [
  {
   "cell_type": "code",
   "execution_count": 2,
   "metadata": {},
   "outputs": [],
   "source": [
    "from diagrams import Diagram\n",
    "from diagrams.aws.compute import EC2\n",
    "from diagrams.aws.database import RDS\n",
    "from diagrams.aws.network import ELB\n",
    "\n",
    "with Diagram(\"Grouped Workers\", show=False, direction=\"TB\"):\n",
    "    ELB(\"lb\") >> [EC2(\"worker1\"),\n",
    "                  EC2(\"worker2\"),\n",
    "                  EC2(\"worker3\"),\n",
    "                  EC2(\"worker4\"),\n",
    "                  EC2(\"worker5\")] >> RDS(\"events\")"
   ]
  },
  {
   "cell_type": "code",
   "execution_count": 9,
   "metadata": {},
   "outputs": [],
   "source": [
    "from diagrams import Diagram, Cluster\n",
    "from diagrams.aws.compute import ECS, EC2\n",
    "from diagrams.aws.network import VPC, PublicSubnet\n",
    "from diagrams.aws.compute import ECR\n",
    "from diagrams.aws.security import IAMRole\n",
    "\n",
    "with Diagram(\"AWS ECS Deployment\", show=False, filename=\"aws_ecs_deployment_diagram\"):\n",
    "    with Cluster(\"AWS Cloud\", ):\n",
    "        with Cluster(\"VPC\"):\n",
    "            with Cluster(\"Availability Zone\"):\n",
    "                with Cluster(\"Public subnet\"):\n",
    "                    ecs_instance = EC2(\"ecs-instance\")\n",
    "\n",
    "        ecs_instance >> ECR(\"Elastic Container Registry\") >> ECS(\"Elastic Container Services Cluster\")\n",
    "        ecs_repo = ECR(\"ecs-container-repo\")\n",
    "        ecs_role = IAMRole(\"ecs-task-role\")\n",
    "\n",
    "        ecs_instance - ecs_repo - ecs_role\n"
   ]
  },
  {
   "cell_type": "code",
   "execution_count": 1,
   "metadata": {},
   "outputs": [],
   "source": [
    "from diagrams import Diagram, Cluster\n",
    "from diagrams.aws.compute import EC2\n",
    "from diagrams.aws.storage import S3\n",
    "from diagrams.onprem.compute import Server\n",
    "from diagrams.onprem.client import Users\n",
    "\n",
    "\n",
    "with Diagram(\"MLOps System\", show=False):\n",
    "    with Cluster(\"AWS\"):\n",
    "        fargate = EC2(\"Fargate Container\")\n",
    "        s3 = S3(\"S3 Bucket\")\n",
    "        ec2 = EC2(\"EC2 Instance\")\n",
    "        with Cluster(\"ML Workflow\"):\n",
    "            processing = Server(\"Data Processing\")\n",
    "            training = Server(\"Model Training\")\n",
    "    \n",
    "    users = Users(\"Users1\")\n",
    "\n",
    "    # Frontend Fargate container triggered by user action\n",
    "    users >> fargate\n",
    "\n",
    "    # Data upload to S3 bucket\n",
    "    fargate >> s3\n",
    "\n",
    "    # Data processing and training\n",
    "    s3 >> processing >> training\n",
    "    \n",
    "    # Report data back to S3 bucket\n",
    "    training >> s3\n",
    "\n"
   ]
  },
  {
   "cell_type": "markdown",
   "metadata": {},
   "source": []
  }
 ],
 "metadata": {
  "kernelspec": {
   "display_name": "venv_blog",
   "language": "python",
   "name": "python3"
  },
  "language_info": {
   "codemirror_mode": {
    "name": "ipython",
    "version": 3
   },
   "file_extension": ".py",
   "mimetype": "text/x-python",
   "name": "python",
   "nbconvert_exporter": "python",
   "pygments_lexer": "ipython3",
   "version": "3.12.3"
  }
 },
 "nbformat": 4,
 "nbformat_minor": 2
}
