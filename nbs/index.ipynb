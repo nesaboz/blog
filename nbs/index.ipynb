{
 "cells": [
  {
   "cell_type": "markdown",
   "metadata": {},
   "source": [
    "---\n",
    "title: \"Home\"\n",
    "listing:\n",
    "  contents: blog/posts\n",
    "  sort: \"date desc\"\n",
    "  type: default\n",
    "  categories: true\n",
    "---\n",
    "\n",
    "Welcome to my website where I'll mainly talk about my deep learning projects.\n",
    "\n",
    "##  My projects"
   ]
  }
 ],
 "metadata": {
  "kernelspec": {
   "display_name": "python3",
   "language": "python",
   "name": "python3"
  }
 },
 "nbformat": 4,
 "nbformat_minor": 0
}
