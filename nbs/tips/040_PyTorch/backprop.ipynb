{
 "cells": [
  {
   "attachments": {},
   "cell_type": "markdown",
   "metadata": {},
   "source": [
    "# Backpropagation"
   ]
  },
  {
   "attachments": {},
   "cell_type": "markdown",
   "metadata": {},
   "source": [
    "According to many smart people backpropagation is one of the main reasons why is AI so successful today. What's even better from backpropagation is the automated backpropagation, or [autograd](https://pytorch.org/docs/stable/notes/autograd.html). This is just an example showing how it works in pytorch:\n"
   ]
  },
  {
   "cell_type": "code",
   "execution_count": null,
   "metadata": {},
   "outputs": [],
   "source": [
    "import torch"
   ]
  },
  {
   "cell_type": "code",
   "execution_count": null,
   "metadata": {},
   "outputs": [],
   "source": [
    "a = torch.randn(2, 3, 6, 6)\n",
    "a.requires_grad_()\n",
    "loss = (a**2).sum()\n",
    "loss.backward()\n",
    "assert (a.grad == 2 * a).all()"
   ]
  }
 ],
 "metadata": {
  "kernelspec": {
   "display_name": "website",
   "language": "python",
   "name": "website"
  }
 },
 "nbformat": 4,
 "nbformat_minor": 2
}
