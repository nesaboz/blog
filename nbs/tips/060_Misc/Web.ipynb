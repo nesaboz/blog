{
 "cells": [
  {
   "cell_type": "markdown",
   "source": [
    "# Web hosting"
   ],
   "metadata": {
    "collapsed": false
   }
  },
  {
   "cell_type": "markdown",
   "source": [
    "To have custom domain host github pages follow [this](https://stackoverflow.com/questions/9082499/custom-domain-for-github-project-pages) stackoverflow post to a T. It is important to have a file CNAME (that is a simple text file that contains a custom domain) in the same folder with `_quarto.yml`."
   ],
   "metadata": {
    "collapsed": false
   }
  },
  {
   "cell_type": "markdown",
   "source": [
    "I'm using google hosting services (GSH) for my website nenadbozinovic.com. GHS can be accessed here: [https://admin.google.com/](https://admin.google.com/)."
   ],
   "metadata": {
    "collapsed": false
   }
  },
  {
   "cell_type": "markdown",
   "source": [
    "To enable comments on a website I'm using [gitcus](https://giscus.app/)."
   ],
   "metadata": {
    "collapsed": false
   }
  }
 ],
 "metadata": {
  "kernelspec": {
   "display_name": "Python 3",
   "language": "python",
   "name": "python3"
  },
  "language_info": {
   "codemirror_mode": {
    "name": "ipython",
    "version": 2
   },
   "file_extension": ".py",
   "mimetype": "text/x-python",
   "name": "python",
   "nbconvert_exporter": "python",
   "pygments_lexer": "ipython2",
   "version": "2.7.6"
  }
 },
 "nbformat": 4,
 "nbformat_minor": 0
}
