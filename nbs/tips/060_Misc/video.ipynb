{
 "cells": [
  {
   "cell_type": "markdown",
   "metadata": {},
   "source": [
    "# Video capture and processing"
   ]
  },
  {
   "cell_type": "markdown",
   "metadata": {},
   "source": [
    "\n",
    "\n",
    "To grab a video on MacOS use `Command + Shift + 5`.\n",
    "\n",
    "To refer to the video in markdown like README.md use this (btw GitHub automatically embeds video):\n",
    "```markdown\n",
    "![description](demo.mov)\n",
    "```\n",
    "\n",
    "## Speed up video\n",
    "\n",
    "To speed up video install moviepy, provide input and output video, and speed_factor (default is 2):\n",
    "\n",
    "```zsh\n",
    "pip install moviepy\n",
    "```\n",
    "\n",
    "```python\n",
    "from moviepy.editor import VideoFileClip\n",
    "\n",
    "def speed_up_video(input_video_path, output_video_path, speed_factor=2):\n",
    "    # Load the video file\n",
    "    video_clip = VideoFileClip(input_video_path)\n",
    "    \n",
    "    # Speed up the video\n",
    "    new_clip = video_clip.speedx(factor=speed_factor)\n",
    "    \n",
    "    # Write the resulting video to the output file\n",
    "    new_clip.write_videofile(output_video_path, codec='libx264', audio_codec='aac')\n",
    "\n",
    "# Example usage\n",
    "input_video_path = 'demo.mov'\n",
    "output_video_path = 'demo_2x.mov'\n",
    "speed_up_video(input_video_path, output_video_path, 2)\n",
    "```\n"
   ]
  },
  {
   "cell_type": "markdown",
   "metadata": {},
   "source": []
  },
  {
   "cell_type": "markdown",
   "metadata": {},
   "source": []
  }
 ],
 "metadata": {
  "language_info": {
   "name": "python"
  }
 },
 "nbformat": 4,
 "nbformat_minor": 2
}
