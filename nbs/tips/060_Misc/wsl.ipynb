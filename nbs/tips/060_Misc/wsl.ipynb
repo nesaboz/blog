{
 "cells": [
  {
   "cell_type": "markdown",
   "metadata": {},
   "source": [
    "# WSL"
   ]
  },
  {
   "cell_type": "markdown",
   "metadata": {},
   "source": [
    "\n",
    "\n",
    "WSL can be [installed](https://learn.microsoft.com/en-us/windows/wsl/install) easily: `wsl --install`.\n",
    "\n",
    "Note that drives are mounted, but access to files outside WSL can be slow, always copy files to WSL directly.\n",
    "```zsh\n",
    "mount -l  # what drives are mounted\n",
    "```\n",
    "\n",
    "WSL also doesn't automatically release space back to Local Hard drive. To release the disk space occupied by WSL follow [this](https://github.com/microsoft/WSL/issues/4699).\n",
    "\n",
    "WSL can take a lot of CPU memory, to prevent this follow [this](https://github.com/microsoft/WSL/issues/5476), create `/user/.wslconfig`\n",
    "```\n",
    "[wsl2]\n",
    "memory=6GB   # set this line what you want to limit memory\n",
    "swapFile=E:\\\\swap.vhdx   # in case you need more memory specify swapping location with the hard drive, use double backslash \n",
    "``` \n",
    "\n",
    "`vmmem` is the wsl2 process for CPU memory that you can observe in Task Manager."
   ]
  },
  {
   "cell_type": "markdown",
   "metadata": {},
   "source": []
  }
 ],
 "metadata": {
  "language_info": {
   "name": "python"
  },
  "orig_nbformat": 4
 },
 "nbformat": 4,
 "nbformat_minor": 2
}
