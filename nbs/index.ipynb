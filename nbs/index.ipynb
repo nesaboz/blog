{
 "cells": [
  {
   "cell_type": "markdown",
   "source": [
    "---\n",
    "title: \"Home\"\n",
    "listing:\n",
    "  contents: projects\n",
    "  sort: \"date desc\"\n",
    "  type: default\n",
    "  categories: true\n",
    "---"
   ],
   "metadata": {
    "collapsed": false
   }
  },
  {
   "cell_type": "markdown",
   "metadata": {},
   "source": [
    "# Home"
   ]
  },
  {
   "cell_type": "markdown",
   "metadata": {},
   "source": [
    "Welcome to my website where I'll mainly talk about my deep learning projects. You can also check my Publications and Press releases covering some of my older work.\n",
    "\n",
    "##  My projects\n"
   ]
  }
 ],
 "metadata": {
  "kernelspec": {
   "display_name": "python3",
   "language": "python",
   "name": "python3"
  }
 },
 "nbformat": 4,
 "nbformat_minor": 0
}
