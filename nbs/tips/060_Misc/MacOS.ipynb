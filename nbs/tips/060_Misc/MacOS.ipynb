{
 "cells": [
  {
   "attachments": {},
   "cell_type": "markdown",
   "metadata": {},
   "source": [
    "# MacOS"
   ]
  },
  {
   "attachments": {},
   "cell_type": "markdown",
   "metadata": {},
   "source": [
    "To see hidden files on Mac in finder: `Command + Shift + .\n",
    "\n",
    "Home/End: Fn + Left/Right Arrow\n",
    "Beggining/End of the file:  Fn + Cmd + Left/Right"
   ]
  },
  {
   "attachments": {},
   "cell_type": "markdown",
   "metadata": {},
   "source": [
    "# VSCode\n",
    "\n",
    "To prevent empty copy/paste go to Settings and search for `editor.emptySelectionClipboard`, then set to False."
   ]
  },
  {
   "cell_type": "markdown",
   "metadata": {},
   "source": []
  }
 ],
 "metadata": {
  "kernelspec": {
   "display_name": "python3",
   "language": "python",
   "name": "python3"
  }
 },
 "nbformat": 4,
 "nbformat_minor": 1
}
