{
 "cells": [
  {
   "attachments": {},
   "cell_type": "markdown",
   "metadata": {},
   "source": [
    "# zsh"
   ]
  },
  {
   "attachments": {},
   "cell_type": "markdown",
   "metadata": {},
   "source": [
    "Nice Linux [tutorial](https://ubuntu.com/tutorials/command-line-for-beginners#1-overview).\n",
    "\n",
    "There are many shells one can use, Mac default is `zsh` (located at `/bin/zsh`). I set up PyCharm to use it as well in the `Preferences\\Tools\\Terminal\\Shell Path`\n",
    "\n",
    "Bash/zsh comment is the same as python: `#`\n",
    "\n",
    "```zsh\n",
    "# To open Pycharm/VSCode from terminal:\n",
    "open -na \"PyCharm.app\" .\n",
    "open -na \"Visual Studio Code.app\" .\n",
    "# To open a finder from terminal:\n",
    "open .\n",
    "```\n",
    "\n",
    "To open terminal from folder I added a shortcut:\n",
    "`Control + Alt + Shift + T`\n",
    "\n",
    "To see hidden files on Mac in finder: `Command + Shift + .`"
   ]
  },
  {
   "attachments": {},
   "cell_type": "markdown",
   "metadata": {},
   "source": [
    "# Variable"
   ]
  },
  {
   "attachments": {},
   "cell_type": "markdown",
   "metadata": {},
   "source": [
    "```zsh\n",
    "variable=<some_value>  # make sure there are no spaces around =\n",
    "variable=solar\n",
    "```\n"
   ]
  },
  {
   "attachments": {},
   "cell_type": "markdown",
   "metadata": {},
   "source": [
    "To replace chars inside a string:"
   ]
  },
  {
   "attachments": {},
   "cell_type": "markdown",
   "metadata": {},
   "source": [
    "```bash\n",
    "repo_name=\"home/solar\"\n",
    "echo $repo_name\n",
    "repo_name=${repo_name//[\\/l]/_}\n",
    "echo $repo_name\n",
    "```"
   ]
  },
  {
   "attachments": {},
   "cell_type": "markdown",
   "metadata": {},
   "source": [
    "\n",
    "## `ls` command\n",
    "\n",
    "To [count files](https://devconnected.com/how-to-count-files-in-directory-on-linux/) in a folder from terminal:\n",
    "```zsh\n",
    "ls /etc | wc -l\n",
    "```\n",
    "recursively:\n",
    "```\n",
    "find <directory> -type f | wc -l\n",
    "```\n",
    "\n",
    "for example:\n",
    "```\n",
    "ls '/Users/nenad.bozinovic/work/Frame/elasticity_logs' | head -4\n",
    "```\n",
    "to see file sizes:\n",
    "```zsh\n",
    "ls -l\n",
    "ls -l --block-size=M\n",
    "```\n",
    "\n",
    "to see size of the whole folder:\n",
    "```zsh\n",
    "du -sh share\n",
    "```\n",
    "\n",
    "to see hiden files:\n",
    "```zsh\n",
    "ls -a\n",
    "ls -la\n",
    "```"
   ]
  },
  {
   "attachments": {},
   "cell_type": "markdown",
   "metadata": {},
   "source": [
    "## `tree` command"
   ]
  },
  {
   "attachments": {},
   "cell_type": "markdown",
   "metadata": {},
   "source": [
    "To see tree of directories use `tree` command:\n",
    "```zsh\n",
    "tree --help\n",
    "```\n",
    "To install on Linux:\n",
    "```zsh\n",
    "!sudo apt install tree\n",
    "```\n",
    "to install on Mac:\n",
    "```zsh\n",
    "brew install tree\n",
    "```"
   ]
  },
  {
   "attachments": {},
   "cell_type": "markdown",
   "metadata": {},
   "source": [
    "## gz files\n",
    "\n",
    "To [zip/unzip gz](https://www.cyberciti.biz/faq/unpacking-or-uncompressing-gz-files/):\n",
    "\n",
    "Install gnu-tar if seeing warning with the `tar`, then use `gtar`:\n",
    "```zsh\n",
    "brew install gnu-tar\n",
    "```\n",
    "\n",
    "\n",
    "To zip:\n",
    "```zsh\n",
    "gtar -zcvf myfolder.tar.gz myfolder\n",
    "gzip filename  # zip it back\n",
    "gzip -k filename  # to zip it and keep original\n",
    "```\n",
    "\n",
    "to see the content of a zipped file:\n",
    "\n",
    "```zsh\n",
    "gtar -tf myfolder.tar.gz\n",
    "```\n",
    "\n",
    "to [unzip](https://phoenixnap.com/kb/extract-tar-gz-files-linux-command-line):\n",
    "\n",
    "```zsh\n",
    "tar -xf labeled_data.tar.gz\n",
    "tar -xf labeled_data.tar.gz -C /home/user/destination\n",
    "```\n"
   ]
  },
  {
   "attachments": {},
   "cell_type": "markdown",
   "metadata": {},
   "source": [
    "\n",
    "## zip files\n",
    "\n",
    "```zsh\n",
    "zip filename.zip file1.txt file2.txt file3.txt\n",
    "unzip -vl titanic.zip  # to see content without unzipping\n",
    "unzip filename.zip\n",
    "unzip filename.zip -d /home/user/destination\n",
    "```"
   ]
  },
  {
   "attachments": {},
   "cell_type": "markdown",
   "metadata": {},
   "source": [
    "\n",
    "## Download\n",
    "\n",
    "To download a file from URL:\n",
    "```zsh\n",
    "!curl -OL <URL>\n",
    "```\n",
    "\n",
    "From Google drive (FILE_ID can be found in the sharable link between `/d` and `/view`):\n",
    "\n",
    "```python\n",
    "import gdown\n",
    "gdown.download(\"https://drive.google.com/uc?id=FILE_ID\", 'NEW_NAME.jpg')\n",
    "```"
   ]
  },
  {
   "attachments": {},
   "cell_type": "markdown",
   "metadata": {},
   "source": [
    "## Paths\n",
    "\n",
    "Print path:\n",
    "\n",
    "```zsh\n",
    "echo \"${PATH//:/$'\\n'}\"\n",
    "```\n",
    "\n",
    "[To add folder to PATH](https://www.cyberciti.biz/faq/appleosx-bash-unix-change-set-path-environment-variable/)"
   ]
  },
  {
   "attachments": {},
   "cell_type": "markdown",
   "metadata": {},
   "source": [
    "## Homebrew\n",
    "\n",
    "[Homebrew](https://brew.sh/) is a package manager for macOS, it might have some unique packages that pip doesn't have, to install `wget` for example:\n",
    "\n",
    "```zsh\n",
    "brew install wget\n",
    "wget https://your.link.png\n",
    "```"
   ]
  },
  {
   "attachments": {},
   "cell_type": "markdown",
   "metadata": {},
   "source": [
    "## pip\n",
    "\n",
    "To install package:\n",
    "```zsh\n",
    "pip install torch torchvision tensorboard\n",
    "```\n",
    "\n",
    "When using `[]` with `pip` it is important to use `\"\"` to avoid shell parsing for example:\n",
    "```zsh\n",
    "pip install \"mpl_interactions[jupyter]\"\n",
    "```\n",
    "\n",
    "To see version of the package installed:\n",
    "```zsh\n",
    "pip show torch\n",
    "```\n",
    "\n",
    "To see all packages installed:\n",
    "```zsh\n",
    "pip list\n",
    "```"
   ]
  },
  {
   "attachments": {},
   "cell_type": "markdown",
   "metadata": {},
   "source": [
    "## vim\n",
    "\n",
    "\n",
    "| Command | Explanation |\n",
    "| -| - | \n",
    "| `i`  |      insert mode |\n",
    "| Esc  |  exit insert mode |\n",
    "| `:w`  |   Saves the file you are working on | \n",
    "| `:w [filename]` | Allows you to save your file with the name you've defined |\n",
    "| `:wq` | Save your file and close Vim |\n",
    "| `:q!` | Quit without first saving the file you were working on |\n",
    "| `v`   | visual mode, this allows you to select the text you want to copy |\n",
    "| `y`   | yank (i.e. copy)  |\n",
    "| `p`   | paste    |"
   ]
  },
  {
   "attachments": {},
   "cell_type": "markdown",
   "metadata": {},
   "source": [
    "## if statement in zsh\n",
    "\n",
    "```zsh\n",
    "if ! [[ -n $repo_name ]] || ! [[ -n $python_ver ]]; then  \n",
    "  echo \"you didn't enter repo name and/or python version\"  \n",
    "  exit 0  \n",
    "fi\n",
    "```"
   ]
  },
  {
   "attachments": {},
   "cell_type": "markdown",
   "metadata": {},
   "source": [
    "# Get IP address"
   ]
  },
  {
   "attachments": {},
   "cell_type": "markdown",
   "metadata": {},
   "source": [
    "To be able to use `ip`:"
   ]
  },
  {
   "attachments": {},
   "cell_type": "markdown",
   "metadata": {},
   "source": [
    "```zsh\n",
    "brew install iproute2mac\n",
    "```"
   ]
  },
  {
   "attachments": {},
   "cell_type": "markdown",
   "metadata": {},
   "source": [
    "Before you generate ssh key pair check if you have one:"
   ]
  },
  {
   "attachments": {},
   "cell_type": "markdown",
   "metadata": {},
   "source": [
    "```zsh\n",
    "cat ~/.ssh/id_rsa.pub\n",
    "```"
   ]
  },
  {
   "attachments": {},
   "cell_type": "markdown",
   "metadata": {},
   "source": [
    "# SSH"
   ]
  },
  {
   "attachments": {},
   "cell_type": "markdown",
   "metadata": {},
   "source": [
    "In order to establish ssh connection with other servers (GitHub, Paperspace, etc) one must set exchange ssh public keys. \n",
    "\n",
    "To generate ssh key pair (`rsa` type) use:"
   ]
  },
  {
   "attachments": {},
   "cell_type": "markdown",
   "metadata": {},
   "source": [
    "```zsh\n",
    "ssh-keygen\n",
    "```\n",
    "(you should see `id_rsa` and `id_rsa.pub` files that relate to private and public keys).\n",
    "\n",
    "To print public key:\n",
    "```zsh\n",
    "cat ~/.ssh/id_rsa.pub\n",
    "```\n",
    "\n",
    "\n",
    "\n",
    "You can directly copy the key to the remote machine if you know username and the server address (use `whoami` and `hostname` to get user@server):\n",
    "```zsh\n",
    "ssh-copy-id -i ~/.ssh/id_rsa.pub user@server\n",
    "```"
   ]
  },
  {
   "attachments": {},
   "cell_type": "markdown",
   "metadata": {},
   "source": [
    "## ssh config\n",
    "\n",
    "To see all remote machines added to local computer:\n",
    "```\n",
    "cat ~/.ssh/config\n",
    "```"
   ]
  },
  {
   "attachments": {},
   "cell_type": "markdown",
   "metadata": {},
   "source": [
    "# Alias\n",
    "\n",
    "To change the prompt when ssh into a machine edit `.bashrc` file:\n",
    "```\n",
    "vim ~/.bashrc\n",
    "```\n",
    "Look for the line that sets the `PS1` variable, which defines the shell prompt. It may look something like this:\n",
    "```shell\n",
    "PS1=\"\\u@\\h \\w $ \"\n",
    "```\n",
    "The `\\u` represents the username, `\\h` represents the hostname, and `\\w` represents the current working directory.\n",
    "\n",
    "Modify the `PS1` line to include the desired alias instead of the hostname. For example:\n",
    "```shell\n",
    "PS1=\"\\u@alias_name \\w $ \"\n",
    "```\n",
    "\n",
    "To apply the changes, either log out and log back in, or run the following command:\n",
    "```shell\n",
    "source ~/.bashrc\n",
    "```\n",
    "This will reload the shell configuration file and update the shell prompt."
   ]
  },
  {
   "attachments": {},
   "cell_type": "markdown",
   "metadata": {},
   "source": [
    "# GPU stats\n",
    "\n",
    "Use `nvidia-smi` to see GPU stats (`nvidia-smi -L` for GPU full name)."
   ]
  },
  {
   "attachments": {},
   "cell_type": "markdown",
   "metadata": {},
   "source": [
    "# [List of basic linux commands](https://www.hostinger.com/tutorials/linux-commands)"
   ]
  },
  {
   "attachments": {},
   "cell_type": "markdown",
   "metadata": {},
   "source": [
    "# Python version"
   ]
  },
  {
   "attachments": {},
   "cell_type": "markdown",
   "metadata": {},
   "source": [
    "```zsh\n",
    "which python\n",
    "```"
   ]
  },
  {
   "attachments": {},
   "cell_type": "markdown",
   "metadata": {},
   "source": [
    "Gives for example: `/opt/conda/bin/python`"
   ]
  },
  {
   "attachments": {},
   "cell_type": "markdown",
   "metadata": {},
   "source": [
    "# Copy files/folders"
   ]
  },
  {
   "attachments": {},
   "cell_type": "markdown",
   "metadata": {},
   "source": [
    "Use [scp](https://linuxize.com/post/how-to-use-scp-command-to-securely-transfer-files/). For example, to copy file to server:\n",
    "\n",
    "```zsh\n",
    "scp fiename.txt root@ip_address:/home/user\n",
    "scp fiename.txt root@ip_address:/home/user\n",
    "scp fiename.txt root@ip_address:~  # into home directory\n",
    "scp fiename.txt root@ip_address:~/new_name.txt\n",
    "```\n",
    "to copy file from server:\n",
    "```zsh\n",
    "scp root@ip_address:~/filename.txt local_path\n",
    "scp root@ip_address:~/filename.txt .  # into current directory\n",
    "```\n",
    "\n",
    "For folders add `-r`:\n",
    "```zsh\n",
    "scp -r test_folder root@ip_address:path_to_folder\n",
    "```\n",
    "\n",
    "To see status of the copying:\n",
    "```zsh\n",
    "rsync -ah --progress /path/to/source_directory/ /path/to/destination_directory/\n",
    "```"
   ]
  },
  {
   "attachments": {},
   "cell_type": "markdown",
   "metadata": {},
   "source": [
    "## Rename files/folders\n",
    "\n",
    "```zsh\n",
    "mv source dst # to move and/or rename directory\n",
    "```"
   ]
  },
  {
   "attachments": {},
   "cell_type": "markdown",
   "metadata": {},
   "source": [
    "# Delete files/folders\n",
    "\n",
    "```zsh\n",
    "rm file1.txt file2.txt\n",
    "```\n",
    "\n",
    "Delete directory:\n",
    "```zsh\n",
    "rm -r  # delete non empty directory\n",
    "rmdir # to delete empty directory\n",
    "rm -d  # to delete empty directory\n",
    "```\n",
    "\n",
    "```zsh\n",
    "mkdir folder_name\n",
    "```"
   ]
  },
  {
   "attachments": {},
   "cell_type": "markdown",
   "metadata": {},
   "source": [
    "# Username"
   ]
  },
  {
   "attachments": {},
   "cell_type": "markdown",
   "metadata": {},
   "source": [
    "```zsh\n",
    "useradd username\n",
    "passwd username\n",
    "login username\n",
    "whoami\n",
    "```"
   ]
  },
  {
   "attachments": {},
   "cell_type": "markdown",
   "metadata": {},
   "source": [
    "# IP Address"
   ]
  },
  {
   "attachments": {},
   "cell_type": "markdown",
   "metadata": {},
   "source": [
    "To get IP address on Linux, use curl [this](https://www.howtogeek.com/839170/how-to-get-your-public-ip-in-a-linux-bash-script/#:~:text=You%20can%20get%20your%20external,IP%20from%20a%20DNS%20server.):\n",
    "\n",
    "```zsh\n",
    "apt install curl\n",
    "curl ifconfig.me\n",
    "curl checkip.amazonaws.com\n",
    "```"
   ]
  },
  {
   "attachments": {},
   "cell_type": "markdown",
   "metadata": {},
   "source": [
    "# Get system, host, and user names"
   ]
  },
  {
   "attachments": {},
   "cell_type": "markdown",
   "metadata": {},
   "source": [
    "```zsh\n",
    "uname -mrs  # gives system info like Linux version\n",
    "uname -a    # extended system info\n",
    "hostname\n",
    "whoami\n",
    "```"
   ]
  },
  {
   "attachments": {},
   "cell_type": "markdown",
   "metadata": {},
   "source": [
    "To get a hostname in Jupyter:"
   ]
  },
  {
   "cell_type": "code",
   "execution_count": null,
   "metadata": {},
   "outputs": [
    {
     "data": {
      "text/plain": [
       "'Jupiter-2.local'"
      ]
     },
     "execution_count": null,
     "metadata": {},
     "output_type": "execute_result"
    }
   ],
   "source": [
    "hn=!hostname\n",
    "hn[0]"
   ]
  },
  {
   "attachments": {},
   "cell_type": "markdown",
   "metadata": {},
   "source": [
    "# Search"
   ]
  },
  {
   "attachments": {},
   "cell_type": "markdown",
   "metadata": {},
   "source": [
    "To search for a specific file recursively:\n",
    "```zsh\n",
    "find . -name \"pera.exe\"\n",
    "```\n",
    "where . is current directory.\n",
    "\n",
    "To hide error messages:\n",
    "```zsh\n",
    "find . -name \"pera.exe\" 2>/dev/null\n",
    "```\n",
    "\n",
    "To search for \"text\" in all filename.txt files:\n",
    "```zsh \n",
    "grep \"text\" $(find . -name filename.text)\n",
    "```"
   ]
  },
  {
   "attachments": {},
   "cell_type": "markdown",
   "metadata": {},
   "source": [
    "# Concatenate strings\n",
    "\n",
    "```zsh\n",
    "VAR1=\"Hello, \"\n",
    "VAR2=2\n",
    "VAR3=\" Worlds\"\n",
    "VAR4=\"$VAR1$VAR2$VAR3\"\n",
    "echo \"$VAR4\"\n",
    "```"
   ]
  },
  {
   "attachments": {},
   "cell_type": "markdown",
   "metadata": {},
   "source": [
    "# Executable file\n",
    "```zsh\n",
    "chmod +x some_file.ext \n",
    "```\n",
    "Check if there is `x` in front of the name with:\n",
    "```zsh\n",
    "ls -l\n",
    "```"
   ]
  },
  {
   "attachments": {},
   "cell_type": "markdown",
   "metadata": {},
   "source": [
    "# Disk usage"
   ]
  },
  {
   "attachments": {},
   "cell_type": "markdown",
   "metadata": {},
   "source": [
    "Take from [here](https://www.linuxfoundation.org/blog/blog/classic-sysadmin-how-to-check-disk-space-on-linux-from-the-command-line#:~:text=That%20command%20is%20df%20%2DH,your%20system%20(Figure%201).):\n",
    "```zsh\n",
    "df -h   # to check disk space\n",
    "du -h   # to check disk usage\n",
    "du -h <folder>  # specific folder \n",
    "du -a <folder> | sort -n -r | head -n 10  # show top 10 files\n",
    "```"
   ]
  },
  {
   "attachments": {},
   "cell_type": "markdown",
   "metadata": {},
   "source": [
    "# AWS\n",
    "\n",
    "`awscli` is the aws API interface. [Link](https://docs.aws.amazon.com/cli/latest/userguide/getting-started-install.html) to install.\n",
    "\n",
    "```zsh\n",
    "curl \"https://awscli.amazonaws.com/awscli-exe-linux-x86_64.zip\" -o \"awscliv2.zip\"\n",
    "unzip awscliv2.zip\n",
    "sudo ./aws/install\n",
    "```\n",
    "\n",
    "```zsh\n",
    "which aws\n",
    "aws --version\n",
    "```\n",
    "\n",
    "```zsh\n",
    "aws configure  # configures the S3 bucket\n",
    "aws s3 ls      # list all S3 buckets \n",
    "```\n",
    "\n"
   ]
  },
  {
   "attachments": {},
   "cell_type": "markdown",
   "metadata": {},
   "source": [
    "# "
   ]
  }
 ],
 "metadata": {
  "kernelspec": {
   "display_name": "python3",
   "language": "python",
   "name": "python3"
  },
  "language_info": {
   "codemirror_mode": {
    "name": "ipython",
    "version": 3
   },
   "file_extension": ".py",
   "mimetype": "text/x-python",
   "name": "python",
   "nbconvert_exporter": "python",
   "pygments_lexer": "ipython3",
   "version": "3.10.11"
  }
 },
 "nbformat": 4,
 "nbformat_minor": 4
}
