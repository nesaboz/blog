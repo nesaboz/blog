{
 "cells": [
  {
   "cell_type": "markdown",
   "metadata": {},
   "source": [
    "# FileIO"
   ]
  },
  {
   "attachments": {},
   "cell_type": "markdown",
   "metadata": {},
   "source": [
    "## JSON\n",
    "\n",
    "To dump data to json file:\n",
    "\n",
    "```python\n",
    "output_path = <some_dir> / \"some_file.json\"\n",
    "params = {'a': 1, 'b': 2}\n",
    "with output_path.open('w') as f:\n",
    "    json.dump(params, f, indent=4)  # `indent` writes each new input on a new line\n",
    "```"
   ]
  },
  {
   "cell_type": "markdown",
   "metadata": {},
   "source": [
    "to load from json file:"
   ]
  },
  {
   "attachments": {},
   "cell_type": "markdown",
   "metadata": {},
   "source": [
    "```python\n",
    "with input_path.open() as f:\n",
    "    result = json.load(f)\n",
    "```"
   ]
  },
  {
   "attachments": {},
   "cell_type": "markdown",
   "metadata": {},
   "source": [
    "## shutil"
   ]
  },
  {
   "attachments": {},
   "cell_type": "markdown",
   "metadata": {},
   "source": [
    "```python\n",
    "shutil.copy(src_path, dst_path)\n",
    "from shutil import copyfile, rmtree, move\n",
    "```"
   ]
  },
  {
   "cell_type": "markdown",
   "metadata": {},
   "source": [
    "## CSV"
   ]
  },
  {
   "cell_type": "markdown",
   "metadata": {},
   "source": [
    "```python\n",
    "import csv\n",
    "def read_csv_file_into_dict(filename):\n",
    "    with open(filename, newline='') as csvfile:\n",
    "        reader = csv.reader(csvfile, delimiter=',')\n",
    "        x = {row[0]: row[1] for row in reader}\n",
    "    return x\n",
    "```"
   ]
  },
  {
   "attachments": {},
   "cell_type": "markdown",
   "metadata": {},
   "source": [
    "## `Readline` and `Readlines`"
   ]
  },
  {
   "attachments": {},
   "cell_type": "markdown",
   "metadata": {},
   "source": [
    "```python\n",
    "with open(f, \"r\") as f:\n",
    "    a = f.readlines()\n",
    "```"
   ]
  },
  {
   "attachments": {},
   "cell_type": "markdown",
   "metadata": {},
   "source": [
    "## Find and delete files/folders"
   ]
  },
  {
   "attachments": {},
   "cell_type": "markdown",
   "metadata": {},
   "source": [
    "```python\n",
    "from pathlib import Path\n",
    "a = list(Path('path_to_the_folder').glob('**/some_file_name'))\n",
    "for x in a:\n",
    "    x.unlink()\n",
    "```\n",
    "\n",
    "To delete a folder use `shutil.rmtree`:\n",
    "\n",
    "```python\n",
    "import shutil\n",
    "shutil.rmtree(Path(\"a_directory\"))\n",
    "\n",
    "```"
   ]
  }
 ],
 "metadata": {
  "kernelspec": {
   "display_name": "python3",
   "language": "python",
   "name": "python3"
  }
 },
 "nbformat": 4,
 "nbformat_minor": 4
}
