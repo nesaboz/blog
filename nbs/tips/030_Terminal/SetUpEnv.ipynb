{
 "cells": [
  {
   "attachments": {},
   "cell_type": "markdown",
   "metadata": {},
   "source": [
    "# Environments"
   ]
  },
  {
   "attachments": {},
   "cell_type": "markdown",
   "metadata": {},
   "source": [
    "## Get Conda"
   ]
  },
  {
   "attachments": {},
   "cell_type": "markdown",
   "metadata": {},
   "source": [
    "Get mamba which is a faster version of `conda` from [here](https://github.com/conda-forge/miniforge#mambaforge):\n",
    "```zsh\n",
    "wget https://github.com/conda-forge/miniforge/releases/latest/download/Mambaforge-Linux-x86_64.sh\n",
    "```\n",
    "or just get `miniconda`:\n",
    "\n",
    "```zsh\n",
    "wget https://repo.anaconda.com/miniconda/Miniconda3-py310_23.3.1-0-Linux-x86_64.sh\n",
    "```"
   ]
  },
  {
   "attachments": {},
   "cell_type": "markdown",
   "metadata": {},
   "source": [
    "Install it via:\n",
    "```\n",
    "./<file you want to run>.sh\n",
    "```"
   ]
  },
  {
   "attachments": {},
   "cell_type": "markdown",
   "metadata": {},
   "source": [
    "Update mamba/conda:\n",
    "```zsh\n",
    "conda update -n base -c conda-forge conda\n",
    "```"
   ]
  },
  {
   "attachments": {},
   "cell_type": "markdown",
   "metadata": {},
   "source": [
    "Init conda:\n",
    "```zsh\n",
    "conda init zsh  # Must restart terminal if running this one.\n",
    "```"
   ]
  },
  {
   "attachments": {},
   "cell_type": "markdown",
   "metadata": {},
   "source": [
    "### Note for Windows\n",
    "\n",
    "[Install](https://learn.microsoft.com/en-us/windows/wsl/install) WSL for Windows:\n",
    "```\n",
    "wsl --install Ubuntu\n",
    "```\n",
    "will need to add both conda and mamba to PATH: \n",
    "```zsh\n",
    "source \"${CONDA PATH}/etc/profile.d/conda.sh\"\n",
    "source \"${CONDA PATH}/etc/profile.d/mamba.sh\"\n",
    "```\n",
    "also to set up default terminal in VSCode follow quick instructions [here](https://stuartmccoll.github.io/posts/2021-06-08-set-wsl-as-default-vscode-terminal/).\n",
    "\n",
    "Windows C hard drive will be by default monuted in `/mnt/c/` folder. "
   ]
  },
  {
   "attachments": {},
   "cell_type": "markdown",
   "metadata": {},
   "source": [
    "# Create environment"
   ]
  },
  {
   "attachments": {},
   "cell_type": "markdown",
   "metadata": {},
   "source": [
    "Create environment with `env.yml` or from scratch:\n",
    "```zsh\n",
    "conda env create -f env.yml -n custom name # notice there is no keyword env\n",
    "```\n",
    "\n",
    "```zsh\n",
    "yes | conda create -n repo_name python=python_ver\n",
    "conda activate repo_name\n",
    "```"
   ]
  },
  {
   "attachments": {},
   "cell_type": "markdown",
   "metadata": {},
   "source": [
    "Or install requirements via pip:\n",
    "```zsh\n",
    "pip install -r requirements.txt\n",
    "```"
   ]
  },
  {
   "attachments": {},
   "cell_type": "markdown",
   "metadata": {},
   "source": [
    "# Environment management\n",
    "\n",
    "```zsh\n",
    "conda env list  # list all envs\n",
    "pip freeze > requirements.txt   # requirements file uses == for versions\n",
    "conda env remove -n ENV_NAME\n",
    "conda list torch  # lists only package version\n",
    "```"
   ]
  },
  {
   "attachments": {},
   "cell_type": "markdown",
   "metadata": {},
   "source": [
    "# Install packages\n",
    "\n",
    "Or install packages:\n",
    "```zsh\n",
    "pip install -U numpy pandas matplotlib torchviz scikit-learn tensorboard torchvision torch tqdm torch-lr-finder ipyplot ipywidgets opencv-python\n",
    "yes | conda install -c conda-forge jupyter_contrib_nbextensions graphviz python-graphviz\n",
    "```\n",
    "\n",
    "to install specific version of a package:\n",
    "```zsh\n",
    "pip install example-package==2.0.1"
   ]
  },
  {
   "attachments": {},
   "cell_type": "markdown",
   "metadata": {},
   "source": [
    "# Export environment"
   ]
  },
  {
   "attachments": {},
   "cell_type": "markdown",
   "metadata": {},
   "source": [
    "Alternatively, export environment to a file:\n",
    "```zsh\n",
    "conda env export > env.yml\n",
    "```\n",
    "or if it is cross-platform export simpler no-build number environment:\n",
    "```zsh\n",
    "`conda env export --no-builds | grep -v \"prefix\" > env.yml`\n",
    "```\n",
    "\n"
   ]
  },
  {
   "attachments": {},
   "cell_type": "markdown",
   "metadata": {},
   "source": [
    "# Jupyter kernels"
   ]
  },
  {
   "attachments": {},
   "cell_type": "markdown",
   "metadata": {},
   "source": [
    "\n",
    "Add a kernel:\n",
    "```zsh\n",
    "ipython kernel install --name $repo_name --user\n",
    "```"
   ]
  },
  {
   "attachments": {},
   "cell_type": "markdown",
   "metadata": {},
   "source": [
    "# Using bash script\n",
    "\n",
    "- If making shell file make sure it has correct line endings for the system (for example in PyCharm go to File -> File Properties -> Line Separators)\n",
    "\n",
    "Make sure the file is executable:\n",
    "```zsh\n",
    "chmod +x utils/setup_new_project.sh check with ls -l\n",
    "./utils/setup_new_project.sh <repo_name> <python_version>\n",
    "# for example ./setup_new_project.sh test_repo 3.10\n",
    "```\n",
    "\n",
    "To stop execution after a failure use `|| exit`, for example if the folder doesn't exist following command will stop the script:\n",
    "```zsh\n",
    "cd $repo_name || exit\n",
    "```\n"
   ]
  }
 ],
 "metadata": {
  "kernelspec": {
   "display_name": "python3",
   "language": "python",
   "name": "python3"
  }
 },
 "nbformat": 4,
 "nbformat_minor": 4
}
