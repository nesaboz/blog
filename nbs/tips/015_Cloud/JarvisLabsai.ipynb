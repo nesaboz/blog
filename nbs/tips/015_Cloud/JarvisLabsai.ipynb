{
 "cells": [
  {
   "cell_type": "markdown",
   "id": "0011bd25",
   "metadata": {},
   "source": [
    "# Jarvislabs.ai"
   ]
  },
  {
   "attachments": {},
   "cell_type": "markdown",
   "id": "a3bcaf92",
   "metadata": {},
   "source": [
    "At the time of the writing (3/10/2023) there are only servers in India, and my experience was that the response time in US is slow. Beside that immpediement, it's an ok service. I still very much prefer to use [Paperspace](https://www.paperspace.com/).\n",
    "\n",
    "## Setup\n",
    "\n",
    "How to set up an environment [link](https://jarvislabs.ai/docs/env/). Make sure to add a prefix otherwise environment will be deleted after pausing."
   ]
  },
  {
   "cell_type": "markdown",
   "id": "d4b6cbf0",
   "metadata": {},
   "source": [
    "```zsh\n",
    "conda create --prefix /home/some_env_name python=3.10 ipykernel mamba -y\n",
    "conda activate /home/some_env_name\n",
    "```"
   ]
  },
  {
   "cell_type": "markdown",
   "id": "c2c69241",
   "metadata": {},
   "source": [
    "Set up a jupyter kernel:"
   ]
  },
  {
   "cell_type": "markdown",
   "id": "aee11f18",
   "metadata": {},
   "source": [
    "```zsh\n",
    "python -m ipykernel install --user --name=some_env_name\n",
    "```"
   ]
  },
  {
   "cell_type": "markdown",
   "id": "4ec47c28",
   "metadata": {},
   "source": [
    "\n",
    "# Data management"
   ]
  },
  {
   "cell_type": "markdown",
   "id": "e3c7c4e6",
   "metadata": {},
   "source": [
    "See https://jarvislabs.ai/docs/data-management/"
   ]
  },
  {
   "cell_type": "markdown",
   "metadata": {},
   "source": [
    "This is the simplest method just drag and drop one file. Currently folders and not supported."
   ]
  },
  {
   "cell_type": "markdown",
   "metadata": {},
   "source": [
    "Using google drive and curlwget: [CurlWget](https://www.youtube.com/watch?v=22jY0S8r8m4&t=79s)."
   ]
  },
  {
   "cell_type": "markdown",
   "metadata": {},
   "source": [
    "# Set up SSH"
   ]
  },
  {
   "attachments": {},
   "cell_type": "markdown",
   "metadata": {},
   "source": [
    "Following VSCode [tutorial](https://code.visualstudio.com/docs/remote/ssh-tutorial):\n",
    "\n",
    "1) First we locally create a private/public SSH key, this can be done using\n",
    "`ssh-keygen -t rsa -b 4096`\n",
    "for Jarvis we'll use former per [example](https://jarvislabs.ai/docs/accounts-user/setup-ssh/)\n",
    "\n",
    "2) Show the ssh public key:\n",
    "`cat ~/.ssh/id_rsa.pub`\n",
    "\n",
    "3) Copy paste on a Jarvis [here](https://cloud.jarvislabs.ai/addsshkey)\n",
    "\n",
    "4) To get the ssh link **right click on the instance and copy paste ssh code** (this was not obvious):\n",
    "something like `ssh -p some_port_name root@ssha.jarvislabs.ai`\n",
    "In general we want to use `ssh user@hostname` to check the connection.\n",
    "\n",
    "\n"
   ]
  }
 ],
 "metadata": {
  "kernelspec": {
   "display_name": "python3",
   "language": "python",
   "name": "python3"
  }
 },
 "nbformat": 4,
 "nbformat_minor": 5
}
