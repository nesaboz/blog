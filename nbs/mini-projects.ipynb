{
 "cells": [
  {
   "attachments": {},
   "cell_type": "markdown",
   "metadata": {},
   "source": [
    "---\n",
    "title: \"Mini-Projects\"\n",
    "listing:\n",
    "  contents: mini-projects\n",
    "  type: default\n",
    "  sort: \"date desc\"\n",
    "comments: false\n",
    "---"
   ]
  },
  {
   "cell_type": "markdown",
   "metadata": {},
   "source": [
    "Following mini-projects cover my journey through some excellent resources I've learned so much from:\n",
    "\n",
    "- *PyTorch: Step by Step* [books](https://pytorchstepbystep.com/) (3 of them) by Daniel Voigt Godoy \\\n",
    "- *Deep Learning* [course](https://atcold.github.io/pytorch-Deep-Learning/) by Yann LeCun & Alfredo Canziani \\\n",
    "- *Practical Deep Learning for Coders* [course](https://course.fast.ai/) by Jeremy Howard.\n"
   ]
  },
  {
   "cell_type": "markdown",
   "metadata": {},
   "source": [
    "\\"
   ]
  }
 ],
 "metadata": {
  "kernelspec": {
   "display_name": "Python 3 (ipykernel)",
   "language": "python",
   "name": "python3"
  }
 },
 "nbformat": 4,
 "nbformat_minor": 4
}
