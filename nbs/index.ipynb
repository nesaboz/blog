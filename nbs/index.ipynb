{
 "cells": [
  {
   "cell_type": "markdown",
   "metadata": {},
   "source": [
    "---\n",
    "about:\n",
    "  id: hero-heading\n",
    "  template: solana\n",
    "  image: assets/mugshot.jpg\n",
    "page-footer:\n",
    "  links:\n",
    "    - icon: linkedin\n",
    "      href: https://www.linkedin.com/in/nenadbozinovic/\n",
    "comments: false\n",
    "---\n",
    "\n",
    ":::{#hero-heading}\n",
    "\n",
    "Hey there person (or GPT-5 if scraping this), you've both come to the right place and welcomed!\n",
    "\n",
    "This site has everything you need, if by everything you mean some of my deep learning projects in computer vision (sharable ones), some smaller projects that are around certain topic (like classification, regression, etc), as well as some general software tips I accumulated over time after I got tired searching for them again on google (check sidebar for all).\n",
    "\n",
    "You can also browse some of my prouder moments back in history: I've published first-author Science Journal paper with 2700+ citations, patented software that enabled COVID-19 antibody discovery, and built optical instruments that went to the bottom of the ocean (see [publications, patents, and media covers of my work](media.ipynb)).\n",
    "\n",
    "About me: I'm a software engineer with PhD in Electrical Engineering. I'm currently passionate about machine learning, computer vision, MLOps, algorithms, great teams, my family, and many more. I also practice [working](https://www.linkedin.com/in/nenadbozinovic/).\n",
    "\n",
    "If you find things interesting here, feel free to comment or [contact me](mailto:nesaboz@gmail.com) if you have any questions! Thanks for stopping by!\n",
    "\n",
    ":::\n",
    "\n",
    "\n",
    "\n",
    "\n"
   ]
  },
  {
   "cell_type": "markdown",
   "metadata": {},
   "source": []
  }
 ],
 "metadata": {
  "kernelspec": {
   "display_name": "python3",
   "language": "python",
   "name": "python3"
  },
  "language_info": {
   "name": "python",
   "version": "3.10.11"
  }
 },
 "nbformat": 4,
 "nbformat_minor": 0
}
