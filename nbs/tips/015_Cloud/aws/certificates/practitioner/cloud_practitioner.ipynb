{
 "cells": [
  {
   "cell_type": "markdown",
   "metadata": {},
   "source": [
    "# IAM \n",
    "\n",
    "Use IAM/Credential Report to see overview of all users and their access.\n",
    "For each user go to Access Advisor and see what are they actually using.\n",
    "Do not use root account for daily stuff\n",
    "One physical user - one AWS user\n",
    "Create roles for AWS services\n",
    "Assign users to Security Groups\n",
    "Never share IAM users and Access Keys"
   ]
  },
  {
   "cell_type": "markdown",
   "metadata": {},
   "source": [
    "# EC2\n",
    "\n",
    "EC2 User Data script can bootstrap the instance. It is executed only once when the instance is launched.\n",
    "\n",
    "Example: m5.xlarge: m is instance class, 5 is the generation, xlarge is the size.\n",
    "\n",
    "- `c` class: compute optimized\n",
    "- `R`, `X`, `High Memory`, `z1d` type: RAM optimized, for in memory databases, cache, real time big data\n",
    "- 'I', 'D', 'H1': storage intensive (databases, cache, etc.)\n",
    "- and many more: [ec2instances info](https://instances.vantage.sh)"
   ]
  },
  {
   "cell_type": "markdown",
   "metadata": {},
   "source": []
  },
  {
   "cell_type": "markdown",
   "metadata": {},
   "source": [
    "# Security Groups\n",
    "\n",
    "- security group is a firewall, regulate ports, IP ranges, inbound and outbound traffic\n",
    "- 0.0.0.0/0 means all IP addresses\n",
    "- can be attached to multiple instances\n",
    "- locekd to the region\n",
    "- lives outside the instance\n",
    "- **good to maintain a security group for SSH access**\n",
    "- any timeout is security group issue\n",
    "- connection refused is instance issue\n",
    "- by default all inbound is closed, all outbound is open\n",
    "- security group can reference another security group, this is good to allow bunch of instances to talk to - each other in groups\n",
    "\n",
    "- 22 is SSH\n",
    "- 21 is FTP\n",
    "- 80 is HTTP unsecured websites\n",
    "- 443 is HTTPS secured websites\n",
    "- 3389 is RDP (for Windows)\n",
    "\n",
    "\n",
    "If you lose Key pair pem file you will need to create a new public one from it like:\n",
    "```bash\n",
    "ssh-keygen -y -f Test.pem > Test.pub\n",
    "cat Test.pub\n",
    "```\n",
    "then connect to the instance using browser console and add the public key to the authorized_keys file:\n",
    "```bash\n",
    "nano ~/.ssh/authorized_keys\n",
    "```\n",
    "with that you can connect to the instance from local machine::\n",
    "```bash\n",
    "chmod 400 Test.pem  # to change the permissions of the key\n",
    "ssh -i Test.pem ubuntu@<public IP>  # for for Ubuntu and for Amazon Linux AMI use `ec2-user`\n",
    "```\n",
    "\n",
    "Always attach roles to the instance to give access to other AWS services.\n",
    "\n",
    "- On-demand, Reserved, Spot, and Dedicated Hosts are the pricing models for EC2 instances.\n",
    "\n",
    "## EBS (Elastic Block Storage)\n",
    "\n",
    "They are network drives you can attach to your instances while they run. They can persist data after the instance is terminated. They are bound to a specific availability zone. They are automatically replicated within the availability zone. Can be attached only to one instance at a time.\n",
    "\n",
    "## EBS Snapshots feature\n",
    "\n",
    "What if we want to transfer Volume to different AZ or to simply back it up, then we have to snapshot it. We can then recreate a new EBS from the snapshot, even in a different AZ. We can also archive the snapshot but it takes 24-48 hours to get it back.\n",
    "\n",
    "## AMI (Amazon Machine Image)\n",
    "\n",
    "AMI is super useful to speed up the new instance launching, it is equivalent to run bunch of user data and then store the state of the machine.\n",
    "\n",
    "## EC2 Image Builder\n",
    "\n",
    "This is service that can build and test AMIs. One can first create Components, then bundle them to create AMIs. These AMIs can also be tested automatically, updates scheduled, etc.\n",
    "\n",
    "## EC2 Instance Store\n",
    "\n",
    "It is a temporary block storage for EC2 instances. It is lost when the instance is stopped or terminated. It is physically attached to the machine hosting the instance. It is much faster than EBS but it's available only on certain instance types (for example `g4dn`, `i3`, `m5d`, etc. but not on small `t` types).\n",
    "\n",
    "## EFS Elastic File System\n",
    "\n",
    "This is a managed NFS (Network File System) that can be mounted on many EC2 instances. It is highly available, scalable, and expensive. It can be used for content management, web serving, data sharing, etc. It is 2-3X more expensive than EBS. Available in all AZs at the same time. EFS Infrequent Access (EFS-IA) is a cheaper/slower version of EFS with lifecycle policy.\n",
    "\n",
    "## Amazon FSx for 1) Lustre (Linux + Cluster = Lustre) and 2) Windows File Server\n",
    "\n",
    "This is a high-performance file system optimized for fast processing of workloads such as machine learning, high-performance computing, video processing, financial modeling, etc. It is a fully managed service that can be integrated with S3. The data is stored in S3 but managed by AWS with super small latencies.\n",
    "\n",
    " \n",
    "# Load Balancers\n",
    "\n",
    "There is Application (HTTP like, layer 7), Network (high performance, millions request per second, TCP,UDP,TLS, layer 4), and Gateway (IP packets themselves, GENEVE protocol, layer 3, typically used to check security via 3rd party).\n",
    "\n",
    "We run 2 instances, join them in a target group, and then create an Application LB (ALB) and point to the group. The LB is managed for us.\n",
    "\n",
    "\n",
    "## Autoscaling group (ASG)\n",
    "\n",
    "ASG embodies elasticity, across multiple AZ. There is minimum, desired, and maximum number of instances. We need to set up template, type, security group, EBS, the usual. The ASG will now always try to keep desired number of instances even if they crash. There are scaling options (Manual, Dynamic(Simple, Target, Schedule), and Predictive).\n",
    "\n",
    "\n",
    "\n",
    "\n",
    "\n",
    "\n",
    "\n",
    "\n",
    "\n",
    "\n",
    "\n",
    "\n"
   ]
  },
  {
   "cell_type": "markdown",
   "metadata": {},
   "source": [
    "# S3\n",
    "\n",
    "S3 has 11 nines durability and 4 nines availability.\n",
    "\n",
    "Replication works only with versioning enabled. It has to be enabled in the bucket tab Management -> Replication. \n",
    "There is same region replication (SSR) and cross region replication (CRR). It is asynchronous and can be used for disaster recovery, backups, etc.\n"
   ]
  },
  {
   "cell_type": "markdown",
   "metadata": {},
   "source": [
    "There are several storage classes from \"S3 Express One Zone\" via \"Standard\" to \"Glacier\". We can define these when uploading the file or later in the Management tab. We can also set up lifecycle policies to move files between these classes (say move Standard to Intelligent Tiering after 30 days, then to Glacier after 60 days, etc.).\n",
    "\n",
    "Snow Family is a physical device that can be used to transfer data to AWS. It is secure, fast, and can be used for large data transfers. SnowCone and SnowBall are the most popular devices.\n",
    "SSD (Solid State Drive) is more advanced then HDD (Hard Disk Drive)."
   ]
  },
  {
   "cell_type": "markdown",
   "metadata": {},
   "source": [
    "# Machine Learning"
   ]
  },
  {
   "cell_type": "markdown",
   "metadata": {},
   "source": [
    "- Rekognition is for classification, detection, recognition, etc. of images and videos.\n",
    "- Transcribe is for speech to text. Can redact, works on multiple languages. Can create metadata for searchable archive. This can be useful for podcasts. \n",
    "- Polly - text to speech.\n",
    "- Lex - chatbots, bundled with Connect but can trigger Lambda functions.\n",
    "- Comprehend - NLP, sentiment analysis, key phrase extraction, language detection, etc.\n",
    "- SageMaker - ML service, can train, tune, deploy models.\n",
    "- Translate - language translation.\n",
    "- Forecast - time series forecasting.\n",
    "- Kendra - document search service.\n",
    "- Personalize - recommendation service.\n",
    "- Textract - OCR, can extract text, tables, etc. from images.\n",
    "\n",
    "\n"
   ]
  },
  {
   "cell_type": "markdown",
   "metadata": {},
   "source": []
  }
 ],
 "metadata": {
  "language_info": {
   "name": "python"
  }
 },
 "nbformat": 4,
 "nbformat_minor": 2
}
