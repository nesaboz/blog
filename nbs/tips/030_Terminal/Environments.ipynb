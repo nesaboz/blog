{
 "cells": [
  {
   "attachments": {},
   "cell_type": "markdown",
   "metadata": {},
   "source": [
    "# Environments"
   ]
  },
  {
   "cell_type": "markdown",
   "metadata": {},
   "source": [
    "# Access AWS from local machine\n",
    "\n",
    "First and foremost, add AWS access keys to env variables to local machine, ideally in `~/.zsh` (or whatver your $SHELL is).\n",
    "```bash\n",
    "export AWS_ACCESS_KEY_ID=\"...\"\n",
    "export AWS_SECRET_ACCESS_KEY=\"...\"\n",
    "```\n",
    "these can be found in the AWS console under IAM -> Users -> Security credentials."
   ]
  },
  {
   "cell_type": "markdown",
   "metadata": {},
   "source": [
    "# Start/stop an instance\n",
    "\n",
    "```bash\n",
    "aws ec2 start-instances --instance-ids i-0a92dcb7d252071c5\n",
    "aws ec2 stop-instances --instance-ids i-0a92dcb7d252071c5\n",
    "```\n",
    "\n",
    "or via IP address:\n",
    "```bash\n",
    "aws ec2 start-instances --instance-ids $(aws ec2 describe-instances --filters \"Name=ip-address,Values=54.151.70.169\" --query 'Reservations[*].Instances[*].InstanceId' --output text)\n",
    "aws ec2 stop-instances --instance-ids $(aws ec2 describe-instances --filters \"Name=ip-address,Values=54.151.70.169\" --query 'Reservations[*].Instances[*].InstanceId' --output text)\n",
    "```\n"
   ]
  },
  {
   "cell_type": "markdown",
   "metadata": {},
   "source": [
    "## ssh and connect\n",
    "\n",
    "Optionally, create and assign elastic IP to the instance (cost is $3.5 per month) for easier access.\n",
    "\n",
    "If you have a pem key you can just log in with:\n",
    "```bash\n",
    "ssh -i my-aws-gpu-machine.pem ubuntu@54.151.70.169\n",
    "```\n",
    "or if you make a ~/.ssh/config file like this:\n",
    "```bash\n",
    "Host my-aws-gpu-instance \n",
    "  HostName 54.151.70.169\n",
    "  User ubuntu\n",
    "  IdentityFile ~/.ssh/my-aws-gpu-instance.pem   # if you lose this you can use the trick below\n",
    "```\n",
    "then just `ssh my-aws-gpu-instance`.\n",
    "\n",
    "If you happen to lose pem file, just:\n",
    "- create a key pair run this on LOCAL machine (skip this if already exists and just copy it: `cat ~/.ssh/id_rsa.pub`)\n",
    "    ```bash\n",
    "    ssh-keygen -t rsa -b 4096 -C \"<pick a name of a machine you are running this command on>\"\n",
    "    ```\n",
    "- log into remote machine using ec2 instance connect\n",
    "- copy LOCAL public key to `authorized_keys`:\n",
    "`echo public_key_string >> ~/.ssh/authorized_keys`\n",
    "or use `nano` editor.\n",
    "- change permissions on REMOTE machine:\n",
    "    ```bash\n",
    "    chmod 700 ~/.ssh\n",
    "    chmod 600 ~/.ssh/authorized_keys\n",
    "    ```"
   ]
  },
  {
   "cell_type": "markdown",
   "metadata": {},
   "source": [
    "# Change shell prompt appearance\n",
    "\n",
    "Open `~/.bashrc` and add the following lines:\n",
    "```bash\n",
    "# Function to get public IP address\n",
    "get_public_ip() {\n",
    "    curl -s ifconfig.me\n",
    "}\n",
    "\n",
    "# Set the PROMPT variable to include the public IP address\n",
    "PROMPT='%n@$(get_public_ip) %~ %# '\n",
    "```\n"
   ]
  },
  {
   "cell_type": "markdown",
   "metadata": {},
   "source": [
    "# Access via VSCode\n",
    "\n",
    "On the left just add remote instance, or Cmd+Shift+P and type `Remote-SSH: Connect to Host...` and type `ssh my-aws-gpu-instance`.\n"
   ]
  },
  {
   "cell_type": "markdown",
   "metadata": {},
   "source": [
    "## Add github access\n",
    "\n",
    "Take a public key from any machine and copy/paste into GitHub - Settings - SSH and GPG keys - New SSH key.\n",
    "\n"
   ]
  },
  {
   "cell_type": "markdown",
   "metadata": {},
   "source": [
    "## Anything GPU\n",
    "\n",
    "\n",
    "To see recommended drivers:\n",
    "```bash\n",
    "sudo apt install ubuntu-drivers-common\n",
    "ubuntu-drivers devices\n",
    "```\n",
    "for T4 GPU, the recommended driver is 440. To install the latest driver, run the following commands:\n",
    "```bash\n",
    "sudo apt update\n",
    "sudo apt-get upgrade   # conservative upgrade\n",
    "sudo apt-get dist-upgrade   # aggressive upgrade, be careful\n",
    "sudo apt install nvidia-driver-545\n",
    "sudo reboot  # don't forget to reboot, might even need to purge old drivers via `sudo apt-get purge nvidia-driver-XXX`\n",
    "```\n",
    "You can now see stats:\n",
    "```bash\n",
    "lspci | grep -i nvidia\n",
    "nvidia-smi\n",
    "```\n",
    "you should see something like this:\n",
    "```\n",
    "NVIDIA-SMI 545.29.06              Driver Version: 545.29.06    CUDA Version: 12.3    \n",
    "```\n"
   ]
  },
  {
   "cell_type": "markdown",
   "metadata": {},
   "source": [
    "# Install any Python on Linux using pyenv\n",
    "\n",
    "You do this only once:\n",
    "```bash\n",
    "# Install pyenv prerequisites\n",
    "sudo apt update\n",
    "sudo apt install -y make build-essential libssl-dev zlib1g-dev libbz2-dev \\\n",
    "libreadline-dev libsqlite3-dev wget curl llvm libncurses5-dev libncursesw5-dev \\\n",
    "xz-utils tk-dev libffi-dev liblzma-dev python3-openssl git\n",
    "\n",
    "# Install pyenv\n",
    "curl https://pyenv.run | bash\n",
    "\n",
    "# Add pyenv to the shell\n",
    "echo 'export PATH=\"$HOME/.pyenv/bin:$PATH\"' >> ~/.bashrc\n",
    "echo 'eval \"$(pyenv init --path)\"' >> ~/.bashrc\n",
    "echo 'eval \"$(pyenv virtualenv-init -)\"' >> ~/.bashrc\n",
    "source ~/.bashrc\n",
    "\n",
    "# Install Python 3.10.14\n",
    "pyenv install 3.10.14\n",
    "```\n",
    "\n",
    "Set global Python version:\n",
    "```bash\n",
    "pyenv global 3.10.14\n",
    "```\n",
    "or local:\n",
    "```bash\n",
    "pyenv local 3.10.14\n",
    "```\n",
    "\n",
    "\n",
    "Also have option to add to the PYTHONPATH:\n",
    "```bash\n",
    "export PYTHONPATH=$PYTHONPATH:$PWD \n",
    "```\n",
    "github username can also come handy:\n",
    "```bash\n",
    "export GITHUB_USERNAME=\"nesaboz\"\n",
    "```"
   ]
  },
  {
   "cell_type": "markdown",
   "metadata": {},
   "source": [
    "## Install AWS CLI\n",
    "\n",
    "```bash\n",
    "sudo apt install unzip\n",
    "curl \"https://awscli.amazonaws.com/awscli-exe-linux-x86_64.zip\" -o \"awscliv2.zip\"\n",
    "unzip awscliv2.zip\n",
    "sudo ./aws/install\n",
    "source ~/.bashrc\n",
    "rm awscliv2.zip\n",
    "aws --version\n",
    "```\n",
    "`aws-cli/2.15.41 Python/3.11.8 Linux/6.5.0-1018-aws exe/x86_64.ubuntu.22 prompt/off`\n"
   ]
  },
  {
   "cell_type": "markdown",
   "metadata": {},
   "source": [
    "# Install virtual env in a project\n",
    "\n",
    "```bash\n",
    "pyenv local 3.10.14  # set up the local \n",
    "python -m venv .venv\n",
    "source .venv/bin/activate\n",
    "pip install --upgrade pip\n",
    "pip install -r requirements.txt\n",
    "deactivate\n",
    "```\n",
    "\n",
    "to install specific version of a package:\n",
    "```zsh\n",
    "pip install example-package==2.0.1\n",
    "pip install pip-tools\n",
    "pip freeze > requirements.txt  # better is to use pip-compile\n",
    "pip-compile requirements.in\n",
    "pip-compile --output-file dev.txt requirements.in  # if you want different name\n",
    "```\n",
    "requirements file uses == for versions"
   ]
  },
  {
   "cell_type": "markdown",
   "metadata": {},
   "source": [
    "# Encode time zone\n",
    "\n",
    "```bash\n",
    "echo \"export TZ='PST8PDT'\" >> ~/.bashrc\n",
    "```"
   ]
  },
  {
   "attachments": {},
   "cell_type": "markdown",
   "metadata": {},
   "source": [
    "## If you must get Conda"
   ]
  },
  {
   "attachments": {},
   "cell_type": "markdown",
   "metadata": {},
   "source": [
    "Get mamba which is a faster version of `conda` from [here](https://github.com/conda-forge/miniforge#mambaforge):\n",
    "```zsh\n",
    "wget https://github.com/conda-forge/miniforge/releases/latest/download/Mambaforge-Linux-x86_64.sh\n",
    "```\n",
    "or just get `miniconda`:\n",
    "\n",
    "```zsh\n",
    "wget https://repo.anaconda.com/miniconda/Miniconda3-py310_23.3.1-0-Linux-x86_64.sh\n",
    "```"
   ]
  },
  {
   "attachments": {},
   "cell_type": "markdown",
   "metadata": {},
   "source": [
    "Install it via:\n",
    "```bash\n",
    "source <file you want to run>.sh\n",
    "```"
   ]
  },
  {
   "attachments": {},
   "cell_type": "markdown",
   "metadata": {},
   "source": [
    "Update mamba/conda:\n",
    "```zsh\n",
    "conda update -n base -c conda-forge conda\n",
    "```"
   ]
  },
  {
   "attachments": {},
   "cell_type": "markdown",
   "metadata": {},
   "source": [
    "Init conda:\n",
    "```zsh\n",
    "conda init zsh  # Must restart terminal if running this one.\n",
    "```"
   ]
  },
  {
   "attachments": {},
   "cell_type": "markdown",
   "metadata": {},
   "source": [
    "### Note for Windows\n",
    "\n",
    "[Install](https://learn.microsoft.com/en-us/windows/wsl/install) WSL for Windows:\n",
    "```\n",
    "wsl --install Ubuntu\n",
    "```\n",
    "will need to add both conda and mamba to PATH by editing `~/.bashrc` file and adding these two lines to the end: \n",
    "```zsh\n",
    "source \"${CONDA PATH}/etc/profile.d/conda.sh\"\n",
    "source \"${CONDA PATH}/etc/profile.d/mamba.sh\"\n",
    "```\n",
    "Also to set up default terminal in VSCode follow quick instructions [here](https://stuartmccoll.github.io/posts/2021-06-08-set-wsl-as-default-vscode-terminal/).\n",
    "\n",
    "Windows C hard drive will be by default mounted in `/mnt/c/` folder. \n",
    "\n",
    "Use PowerToys/Keyboard Manager to remap the keyboard."
   ]
  },
  {
   "attachments": {},
   "cell_type": "markdown",
   "metadata": {},
   "source": [
    "# Create environment"
   ]
  },
  {
   "attachments": {},
   "cell_type": "markdown",
   "metadata": {},
   "source": [
    "Create environment with `env.yml` or from scratch:\n",
    "```zsh\n",
    "conda create -f env.yml -n custom name # notice there is no keyword env\n",
    "```\n",
    "\n",
    "```zsh\n",
    "yes | conda create -n repo_name python=python_ver\n",
    "conda activate repo_name\n",
    "deactivate\n",
    "```"
   ]
  },
  {
   "attachments": {},
   "cell_type": "markdown",
   "metadata": {},
   "source": [
    "# Environment management\n",
    "\n",
    "```zsh\n",
    "conda env list  # list all envs\n",
    "conda env remove -n ENV_NAME\n",
    "conda list torch  # lists only package version\n",
    "```"
   ]
  },
  {
   "attachments": {},
   "cell_type": "markdown",
   "metadata": {},
   "source": [
    "# Install packages\n",
    "\n",
    "```zsh\n",
    "yes | conda install -c conda-forge jupyter_contrib_nbextensions graphviz python-graphviz\n",
    "```"
   ]
  },
  {
   "attachments": {},
   "cell_type": "markdown",
   "metadata": {},
   "source": [
    "# Export environment"
   ]
  },
  {
   "attachments": {},
   "cell_type": "markdown",
   "metadata": {},
   "source": [
    "Alternatively, export environment to a file:\n",
    "```zsh\n",
    "conda env export > env.yml\n",
    "```\n",
    "or if it is cross-platform export simpler no-build number environment:\n",
    "```zsh\n",
    "conda env export --no-builds | grep -v \"prefix\" > env.yml\n",
    "```\n",
    "\n"
   ]
  },
  {
   "attachments": {},
   "cell_type": "markdown",
   "metadata": {},
   "source": [
    "# Jupyter kernels"
   ]
  },
  {
   "attachments": {},
   "cell_type": "markdown",
   "metadata": {},
   "source": [
    "\n",
    "Add a kernel:\n",
    "```zsh\n",
    "ipython kernel install --name $repo_name --user\n",
    "```"
   ]
  },
  {
   "attachments": {},
   "cell_type": "markdown",
   "metadata": {},
   "source": [
    "# Using bash script\n",
    "\n",
    "- If making shell file make sure it has correct line endings for the system (for example in PyCharm go to File -> File Properties -> Line Separators)\n",
    "\n",
    "Make sure the file is executable:\n",
    "```zsh\n",
    "chmod +x utils/setup_new_project.sh check with ls -l\n",
    "./utils/setup_new_project.sh <repo_name> <python_version>\n",
    "# for example ./setup_new_project.sh test_repo 3.10\n",
    "```\n",
    "\n",
    "To stop execution after a failure use `|| exit`, for example if the folder doesn't exist following command will stop the script:\n",
    "```zsh\n",
    "cd $repo_name || exit\n",
    "```\n"
   ]
  },
  {
   "cell_type": "markdown",
   "metadata": {},
   "source": [
    "# VS Code Extensions"
   ]
  },
  {
   "cell_type": "markdown",
   "metadata": {},
   "source": [
    "Python, Jupyter, autoDocstring, Code Spell Checker, Dev Containers."
   ]
  },
  {
   "cell_type": "markdown",
   "metadata": {},
   "source": []
  }
 ],
 "metadata": {
  "kernelspec": {
   "display_name": "python3",
   "language": "python",
   "name": "python3"
  }
 },
 "nbformat": 4,
 "nbformat_minor": 4
}
