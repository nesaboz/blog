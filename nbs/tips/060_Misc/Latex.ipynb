{
 "cells": [
  {
   "cell_type": "markdown",
   "source": [
    "# Latex"
   ],
   "metadata": {
    "collapsed": false
   }
  },
  {
   "cell_type": "markdown",
   "source": [
    "New line `\\\\`\n",
    "\n",
    "URL link `\\href{link}{label}`\n",
    "\n",
    "To have hyperlinks available one must have proper library installed (use external TypeSetter like MacTeX). Also have this line in a template file `\\usepackage[hidelinks, linkcolor=blue]{hyperref}` to hide the default boxes around links in PDFs.\n"
   ],
   "metadata": {
    "collapsed": false
   }
  }
 ],
 "metadata": {
  "kernelspec": {
   "display_name": "Python 3",
   "language": "python",
   "name": "python3"
  },
  "language_info": {
   "codemirror_mode": {
    "name": "ipython",
    "version": 2
   },
   "file_extension": ".py",
   "mimetype": "text/x-python",
   "name": "python",
   "nbconvert_exporter": "python",
   "pygments_lexer": "ipython2",
   "version": "2.7.6"
  }
 },
 "nbformat": 4,
 "nbformat_minor": 0
}
