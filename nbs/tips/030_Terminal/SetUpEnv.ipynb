{
 "cells": [
  {
   "attachments": {},
   "cell_type": "markdown",
   "metadata": {},
   "source": [
    "# Set up env"
   ]
  },
  {
   "cell_type": "markdown",
   "metadata": {},
   "source": [
    "Update conda:\n",
    "```zsh\n",
    "conda update -n base -c conda-forge conda\n",
    "```"
   ]
  },
  {
   "cell_type": "markdown",
   "metadata": {},
   "source": [
    "Init conda:\n",
    "```zsh\n",
    "conda init zsh  # Must restart terminal if running this one.\n",
    "```"
   ]
  },
  {
   "attachments": {},
   "cell_type": "markdown",
   "metadata": {},
   "source": [
    "Create environment:\n",
    "```zsh\n",
    "yes | conda create -n repo_name python=python_ver\n",
    "conda activate repo_name\n",
    "```"
   ]
  },
  {
   "cell_type": "markdown",
   "metadata": {},
   "source": [
    "\n",
    "Install packages:\n",
    "```zsh\n",
    "pip install -U numpy pandas matplotlib torchviz scikit-learn tensorboard torchvision torch tqdm torch-lr-finder ipyplot ipywidgets opencv-python\n",
    "yes | conda install -c conda-forge jupyter_contrib_nbextensions graphviz python-graphviz\n",
    "```"
   ]
  },
  {
   "cell_type": "markdown",
   "metadata": {},
   "source": [
    "\n",
    "Add a kernel:\n",
    "```zsh\n",
    "ipython kernel install --name $repo_name --user\n",
    "```"
   ]
  },
  {
   "attachments": {},
   "cell_type": "markdown",
   "metadata": {},
   "source": [
    "# Using bash script\n",
    "\n",
    "- If making shell file make sure it has correct line endings for the system (for example in PyCharm go to File -> File Properties -> Line Separators)\n",
    "\n",
    "Make sure the file is executable:\n",
    "```zsh\n",
    "chmod +x utils/setup_new_project.sh check with ls -l\n",
    "./utils/setup_new_project.sh <repo_name> <python_version>\n",
    "# for example ./setup_new_project.sh test_repo 3.10\n",
    "```\n",
    "\n",
    "To stop execution after a failure use `|| exit`, for example if the folder doesn't exist following command will stop the script:\n",
    "```zsh\n",
    "cd $repo_name || exit\n",
    "```\n"
   ]
  }
 ],
 "metadata": {
  "kernelspec": {
   "display_name": "python3",
   "language": "python",
   "name": "python3"
  },
  "language_info": {
   "codemirror_mode": {
    "name": "ipython",
    "version": 3
   },
   "file_extension": ".py",
   "mimetype": "text/x-python",
   "name": "python",
   "nbconvert_exporter": "python",
   "pygments_lexer": "ipython3",
   "version": "3.10.9"
  }
 },
 "nbformat": 4,
 "nbformat_minor": 4
}
