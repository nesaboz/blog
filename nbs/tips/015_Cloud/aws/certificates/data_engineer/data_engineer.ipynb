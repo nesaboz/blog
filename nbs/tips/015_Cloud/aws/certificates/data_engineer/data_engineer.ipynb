{
 "cells": [
  {
   "cell_type": "markdown",
   "metadata": {},
   "source": [
    "## Setup mysql database\n",
    "\n",
    "```bash\n",
    "brew install mysql\n",
    "brew services start mysql\n",
    "brew services stop mysql\n",
    "brew services list\n",
    "mysql_secure_installation\n",
    "mysql --version\n",
    "mysql -u root -p\n",
    "```\n",
    "\n",
    "Put this into a file `sudo nano /etc/my.cnf`:\n",
    "```bash\n",
    "[client]\n",
    "local_infile=1\n",
    "\n",
    "[mysqld]\n",
    "local_infile=1\n",
    "```\n",
    "\n",
    "```bash\n",
    "brew services restart mysql\n",
    "```\n",
    "\n",
    "CREATE DATABASE database_name;\n",
    "\n"
   ]
  },
  {
   "cell_type": "markdown",
   "metadata": {},
   "source": [
    "\n",
    "\n",
    "## Setup postgres SQL database\n",
    "\n",
    "Install Postgres via website or via brew:\n",
    "```bash\n",
    "brew install postgresql\n",
    "brew services start postgresql\n",
    "psql --version\n",
    "```\n",
    "\n",
    "Add psql to path to ~/.zshrc:\n",
    "```bash\n",
    "nano ~/.zshrc\n",
    "export PATH=\"/Library/PostgreSQL/16/bin:$PATH\"\n",
    "```\n",
    "\n",
    "Now login as postgres user:\n",
    "```bash\n",
    "psql -U postgres\n",
    "```\n",
    "\n",
    "Crate a new database:\n",
    "```bash\n",
    "CREATE DATABASE hello_world_db;\n",
    "```\n",
    "\n",
    "List all databases:\n",
    "```bash\n",
    "\\l\n",
    "```\n",
    "\n",
    "Now one can use `SQLTools` extension in VSCode, and connect to database.\n",
    "\n"
   ]
  },
  {
   "cell_type": "markdown",
   "metadata": {},
   "source": [
    "# Create table and copy data from csv file\n",
    "\n",
    "```\n",
    "\\copy employees(id, first_name, last_name, email, department_id) FROM '/Users/nenadbozinovic/Documents/blog/nbs/tips/015_Cloud/aws/certificates/data_engineer/employees.csv' DELIMITER ',' CSV HEADER;\n",
    "```\n"
   ]
  },
  {
   "cell_type": "markdown",
   "metadata": {},
   "source": [
    "## Constraint in SQL\n",
    "\n",
    "Foreign key (FK) constraint can be added to a table, for example below, `Orders` table must have a `CustomerID` that matches `Customer(CustomerID)`. This ensures data integrity, so we don't have nonsense Orders that have no matching Customer.\n",
    "\n",
    "```sql\n",
    "CREATE TABLE Customers (\n",
    "    CustomerID INT PRIMARY KEY,\n",
    "    CustomerName VARCHAR(100)\n",
    ");\n",
    "\n",
    "CREATE TABLE Orders (\n",
    "    OrderID INT PRIMARY KEY,\n",
    "    OrderDate DATE,\n",
    "    CustomerID INT,\n",
    "    CONSTRAINT FK_CustomerOrder FOREIGN KEY (CustomerID) REFERENCES Customers(CustomerID)\n",
    ");\n",
    "```\n"
   ]
  },
  {
   "cell_type": "markdown",
   "metadata": {},
   "source": [
    "## Sample multipart upload calls\n",
    "\n",
    "For this example, assume that you are generating a multipart upload for a 100 GB file. In this case, you would have the following API calls for the entire process. There would be a total of 1002 API calls.\n",
    "\n",
    "A CreateMultipartUpload call to start the process.\n",
    "1000 individual UploadPart calls, each uploading a part of 100 MB, for a total size of 100 GB.\n",
    "A CompleteMultipartUpload call to finish the process.\n",
    "\n",
    "```bash\n",
    "aws s3 cp your-file.txt s3://your-bucket-name/your-file.txt --storage-class DEEP_ARCHIVE\n",
    "```"
   ]
  },
  {
   "cell_type": "markdown",
   "metadata": {},
   "source": [
    "## Exercises\n",
    "\n",
    "hint: `avg(Survived)`  is the same as `(COUNT(CASE WHEN Survived = 1 THEN 1 END) * 1.0 / count(*))` since Survived is 0 or 1.\n",
    "\n",
    "```sql\n",
    "SELECT * FROM titanic LIMIT 10;\n",
    "select (COUNT(CASE WHEN Survived = 1 THEN 1 END) * 1.0 / count(*)) as overall_rate FROM titanic;\n",
    "select avg(Survived) as women_children_rate FROM titanic WHERE (Sex=\"female\" OR Age<=12);\n",
    "select avg(Survived) as others_rate FROM titanic WHERE NOT (Sex=\"female\" OR Age<=12);\n",
    "```"
   ]
  },
  {
   "cell_type": "markdown",
   "metadata": {},
   "source": [
    "```sql\n",
    "SELECT \n",
    "    Pclass, \n",
    "    AVG(Survived) AS survival_rate\n",
    "FROM \n",
    "    titanic\n",
    "GROUP BY \n",
    "    Pclass\n",
    "ORDER BY \n",
    "    Pclass;\n",
    "```"
   ]
  },
  {
   "cell_type": "markdown",
   "metadata": {},
   "source": [
    "```sql\n",
    "select\n",
    "    Products.ProductName,\n",
    "    Suppliers.CompanyName\n",
    "from\n",
    "    Products\n",
    "left join\n",
    "    Suppliers\n",
    "on\n",
    "    Products.SupplierID = Suppliers.SupplierID\n",
    "order by\n",
    "    Products.ProductName;\n",
    "```"
   ]
  },
  {
   "cell_type": "markdown",
   "metadata": {},
   "source": []
  },
  {
   "cell_type": "code",
   "execution_count": null,
   "metadata": {},
   "outputs": [],
   "source": []
  }
 ],
 "metadata": {
  "kernelspec": {
   "display_name": "venv_blog",
   "language": "python",
   "name": "python3"
  },
  "language_info": {
   "name": "python",
   "version": "3.12.3"
  }
 },
 "nbformat": 4,
 "nbformat_minor": 2
}
