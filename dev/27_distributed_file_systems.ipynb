{
 "cells": [
  {
   "cell_type": "markdown",
   "metadata": {},
   "source": [
    "# Distributed File Systems\n",
    "\n",
    "Credits: Educative.io\n",
    "\n",
    "\n",
    "Distributed files systems are paramount to achieve scale, reliability, availability, fault tolerance, durability, easy management, of the modern data use. We discuss 3 systems, all meant for internal use within Google and Facebook:\n",
    "- Google File System, \n",
    "- Google Colossus System, \n",
    "- Facebook's Tectonic System.\n"
   ]
  },
  {
   "cell_type": "markdown",
   "metadata": {},
   "source": [
    "Functional requirements describe what a system should do, non-functional how it should do it. Both are essential."
   ]
  },
  {
   "cell_type": "markdown",
   "metadata": {},
   "source": [
    "### GFS \n",
    "\n",
    "GFS is optimized for append, not so much random write consistency (required by POSIX). The focus is on high throughput, not low latency. It's use case is internal Google use like MapRediuce (which is used to index webpages, create search rankings, process logs).\n",
    "\n",
    "GFS design has manager and data servers where chunks of data are stored. A client asks manager about the file chunks, manager stores all info in memory (it's negligible info, 2x64 bytes per chunk), the client also caches this info. We store operational log (persistent record of metadata changes) and in case of soft-failure we restart the server and replay logs, in case of hardware failures we move onto another back up server that also replays logs. Top reduce size of logs we create checkpoints once in a while."
   ]
  },
  {
   "cell_type": "markdown",
   "metadata": {},
   "source": [
    "GFS Manager also does garbage collection, i.e., find file chunks deleted by user and marks them for deletion, deletes obsolete checkpoints, logs, updates metadata, etc."
   ]
  },
  {
   "cell_type": "markdown",
   "metadata": {},
   "source": [
    "Many APIs are supported by GFS: create file/dir, open, read, write, append, close, delete, snapshot, list."
   ]
  },
  {
   "cell_type": "markdown",
   "metadata": {},
   "source": [
    "### Colossus"
   ]
  },
  {
   "cell_type": "markdown",
   "metadata": {},
   "source": [
    "Colossus replaces bottleneck of GFS (the single manager) with distributed manager system comprised of: curators (carry out control operations), BigTable database, and custodians (garbage collection, replication, re-replication, rebalancing)."
   ]
  },
  {
   "cell_type": "markdown",
   "metadata": {},
   "source": [
    "Log-Structured Merge (LSM) Tree is a data structure used in high performance write-intensive databases. All operations are append-only and sequential. There is in-memory (memtables) and sorted data files (SSTables). SSTables are immutable, only new SSTables are created."
   ]
  },
  {
   "cell_type": "markdown",
   "metadata": {},
   "source": []
  }
 ],
 "metadata": {
  "language_info": {
   "name": "python"
  }
 },
 "nbformat": 4,
 "nbformat_minor": 2
}
