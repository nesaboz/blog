{
 "cells": [
  {
   "cell_type": "markdown",
   "source": [
    "---\n",
    "title: \"Projects\"\n",
    "listing:\n",
    "  contents: projects\n",
    "  sort: \"date desc\"\n",
    "  type: default\n",
    "  categories: true\n",
    "comments: false\n",
    "---"
   ],
   "metadata": {
    "collapsed": false
   }
  }
 ],
 "metadata": {
  "kernelspec": {
   "display_name": "python3",
   "language": "python",
   "name": "python3"
  }
 },
 "nbformat": 4,
 "nbformat_minor": 0
}
