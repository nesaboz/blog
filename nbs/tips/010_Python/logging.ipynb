{
 "cells": [
  {
   "cell_type": "markdown",
   "metadata": {},
   "source": [
    "# Logging"
   ]
  },
  {
   "cell_type": "markdown",
   "metadata": {},
   "source": [
    "```python\n",
    "import logging\n",
    "\n",
    "logging.basicConfig(level=logging.INFO)\n",
    "\n",
    "logging.debug(\"This is a DEBUG message\")\n",
    "logging.info(\"This is an INFO message\")\n",
    "logging.warning(\"This is a WARNING message\")\n",
    "logging.error(\"This is an ERROR message\")\n",
    "logging.critical(\"This is a CRITICAL message\")\n",
    "```\n"
   ]
  },
  {
   "cell_type": "markdown",
   "metadata": {},
   "source": [
    "\n",
    "One can add handlers so one log even can be handled in multiple ways, for example FileHandler stores to SDD:\n"
   ]
  },
  {
   "cell_type": "markdown",
   "metadata": {},
   "source": [
    "```python\n",
    "handler = logging.FileHandler('myclass1.log')\n",
    "            handler.setLevel(logging.INFO)\n",
    "            self.logger.addHandler(handler)\n",
    "            self.logger.setLevel(logging.INFO)\n",
    "```\n",
    "\n",
    "Finally one can also parse log using grep:\n",
    "\n",
    "\n",
    "```bash\n",
    "grep \"ERROR\" your_log_file.log > errors_only.log\n",
    "\n",
    "grep \"^W\" your_log_file.log > warnings.log\n",
    "\n",
    "# to get every 100th line of file x.txt\n",
    "awk 'NR % 100 == 0' x.txt > y.txt\n",
    "```"
   ]
  },
  {
   "cell_type": "code",
   "execution_count": null,
   "metadata": {
    "vscode": {
     "languageId": "plaintext"
    }
   },
   "outputs": [],
   "source": []
  }
 ],
 "metadata": {
  "language_info": {
   "name": "python"
  }
 },
 "nbformat": 4,
 "nbformat_minor": 2
}
