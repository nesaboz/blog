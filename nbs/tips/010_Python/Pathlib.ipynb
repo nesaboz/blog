{
 "cells": [
  {
   "cell_type": "markdown",
   "metadata": {},
   "source": [
    "# Pathlib"
   ]
  },
  {
   "cell_type": "markdown",
   "metadata": {},
   "source": [
    "\n",
    "```python\n",
    "from pathlib import Path\n",
    "assert Path(<some_file>).is_file()\n",
    "```\n",
    "To get the Path of the current file, or a parent:\n",
    "```python\n",
    "Path('.').resolve()\n",
    "Path('.').resolve().parent\n",
    "```"
   ]
  },
  {
   "cell_type": "markdown",
   "metadata": {},
   "source": [
    "\n",
    "## Platform\n",
    "\n",
    "```\n",
    "import platform\n",
    "if 'macOS' in platform.platform():\n",
    "\tprint('This is Mac')\n",
    "```\n"
   ]
  },
  {
   "cell_type": "code",
   "execution_count": null,
   "metadata": {},
   "outputs": [],
   "source": [
    "<some_path>.mkdir(parents=True, exist_ok=True)"
   ]
  }
 ],
 "metadata": {
  "kernelspec": {
   "display_name": "python3",
   "language": "python",
   "name": "python3"
  }
 },
 "nbformat": 4,
 "nbformat_minor": 4
}
