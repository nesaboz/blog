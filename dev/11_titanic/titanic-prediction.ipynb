{
 "metadata": {
  "kernelspec": {
   "name": "website",
   "language": "python",
   "display_name": "website"
  },
  "language_info": {
   "name": "python",
   "version": "3.7.12",
   "mimetype": "text/x-python",
   "codemirror_mode": {
    "name": "ipython",
    "version": 3
   },
   "pygments_lexer": "ipython3",
   "nbconvert_exporter": "python",
   "file_extension": ".py"
  }
 },
 "nbformat_minor": 4,
 "nbformat": 4,
 "cells": [
  {
   "cell_type": "markdown",
   "source": [
    "#### Importing Libraries"
   ],
   "metadata": {
    "papermill": {
     "duration": 0.065829,
     "end_time": "2023-02-25T10:28:15.247956",
     "exception": false,
     "start_time": "2023-02-25T10:28:15.182127",
     "status": "completed"
    },
    "tags": []
   }
  },
  {
   "cell_type": "code",
   "source": [
    "import pandas as pd\n",
    "import numpy as np\n",
    "import matplotlib.pyplot as plt\n",
    "%matplotlib inline\n",
    "import seaborn as sns"
   ],
   "metadata": {
    "papermill": {
     "duration": 1.405789,
     "end_time": "2023-02-25T10:28:16.717741",
     "exception": false,
     "start_time": "2023-02-25T10:28:15.311952",
     "status": "completed"
    },
    "tags": [],
    "execution": {
     "iopub.status.busy": "2023-03-06T18:15:32.233683Z",
     "iopub.execute_input": "2023-03-06T18:15:32.234595Z",
     "iopub.status.idle": "2023-03-06T18:15:33.609258Z",
     "shell.execute_reply.started": "2023-03-06T18:15:32.234536Z",
     "shell.execute_reply": "2023-03-06T18:15:33.607893Z"
    },
    "trusted": true
   },
   "execution_count": 79,
   "outputs": []
  },
  {
   "cell_type": "markdown",
   "source": [
    "#### Importing Dataset"
   ],
   "metadata": {
    "papermill": {
     "duration": 0.056458,
     "end_time": "2023-02-25T10:28:16.83377",
     "exception": false,
     "start_time": "2023-02-25T10:28:16.777312",
     "status": "completed"
    },
    "tags": []
   }
  },
  {
   "cell_type": "code",
   "source": [
    "train_data=pd.read_csv(\"data/train.csv\")\n",
    "test_data=pd.read_csv(\"data/test.csv\")"
   ],
   "metadata": {
    "papermill": {
     "duration": 0.100134,
     "end_time": "2023-02-25T10:28:16.993687",
     "exception": false,
     "start_time": "2023-02-25T10:28:16.893553",
     "status": "completed"
    },
    "tags": [],
    "execution": {
     "iopub.status.busy": "2023-03-06T18:15:33.611271Z",
     "iopub.execute_input": "2023-03-06T18:15:33.611698Z",
     "iopub.status.idle": "2023-03-06T18:15:33.643695Z",
     "shell.execute_reply.started": "2023-03-06T18:15:33.611657Z",
     "shell.execute_reply": "2023-03-06T18:15:33.642258Z"
    },
    "trusted": true
   },
   "execution_count": 80,
   "outputs": []
  },
  {
   "cell_type": "markdown",
   "source": [
    "### Performing Exploratory Data Analysis"
   ],
   "metadata": {
    "papermill": {
     "duration": 0.059671,
     "end_time": "2023-02-25T10:28:17.110641",
     "exception": false,
     "start_time": "2023-02-25T10:28:17.05097",
     "status": "completed"
    },
    "tags": []
   }
  },
  {
   "cell_type": "code",
   "execution_count": 32,
   "outputs": [
    {
     "data": {
      "text/plain": "   PassengerId  Survived  Pclass  \\\n0            1         0       3   \n1            2         1       1   \n2            3         1       3   \n3            4         1       1   \n4            5         0       3   \n\n                                                Name     Sex   Age  SibSp  \\\n0                            Braund, Mr. Owen Harris    male  22.0      1   \n1  Cumings, Mrs. John Bradley (Florence Briggs Th...  female  38.0      1   \n2                             Heikkinen, Miss. Laina  female  26.0      0   \n3       Futrelle, Mrs. Jacques Heath (Lily May Peel)  female  35.0      1   \n4                           Allen, Mr. William Henry    male  35.0      0   \n\n   Parch            Ticket     Fare Cabin Embarked  \n0      0         A/5 21171   7.2500   NaN        S  \n1      0          PC 17599  71.2833   C85        C  \n2      0  STON/O2. 3101282   7.9250   NaN        S  \n3      0            113803  53.1000  C123        S  \n4      0            373450   8.0500   NaN        S  ",
      "text/html": "<div>\n<style scoped>\n    .dataframe tbody tr th:only-of-type {\n        vertical-align: middle;\n    }\n\n    .dataframe tbody tr th {\n        vertical-align: top;\n    }\n\n    .dataframe thead th {\n        text-align: right;\n    }\n</style>\n<table border=\"1\" class=\"dataframe\">\n  <thead>\n    <tr style=\"text-align: right;\">\n      <th></th>\n      <th>PassengerId</th>\n      <th>Survived</th>\n      <th>Pclass</th>\n      <th>Name</th>\n      <th>Sex</th>\n      <th>Age</th>\n      <th>SibSp</th>\n      <th>Parch</th>\n      <th>Ticket</th>\n      <th>Fare</th>\n      <th>Cabin</th>\n      <th>Embarked</th>\n    </tr>\n  </thead>\n  <tbody>\n    <tr>\n      <th>0</th>\n      <td>1</td>\n      <td>0</td>\n      <td>3</td>\n      <td>Braund, Mr. Owen Harris</td>\n      <td>male</td>\n      <td>22.0</td>\n      <td>1</td>\n      <td>0</td>\n      <td>A/5 21171</td>\n      <td>7.2500</td>\n      <td>NaN</td>\n      <td>S</td>\n    </tr>\n    <tr>\n      <th>1</th>\n      <td>2</td>\n      <td>1</td>\n      <td>1</td>\n      <td>Cumings, Mrs. John Bradley (Florence Briggs Th...</td>\n      <td>female</td>\n      <td>38.0</td>\n      <td>1</td>\n      <td>0</td>\n      <td>PC 17599</td>\n      <td>71.2833</td>\n      <td>C85</td>\n      <td>C</td>\n    </tr>\n    <tr>\n      <th>2</th>\n      <td>3</td>\n      <td>1</td>\n      <td>3</td>\n      <td>Heikkinen, Miss. Laina</td>\n      <td>female</td>\n      <td>26.0</td>\n      <td>0</td>\n      <td>0</td>\n      <td>STON/O2. 3101282</td>\n      <td>7.9250</td>\n      <td>NaN</td>\n      <td>S</td>\n    </tr>\n    <tr>\n      <th>3</th>\n      <td>4</td>\n      <td>1</td>\n      <td>1</td>\n      <td>Futrelle, Mrs. Jacques Heath (Lily May Peel)</td>\n      <td>female</td>\n      <td>35.0</td>\n      <td>1</td>\n      <td>0</td>\n      <td>113803</td>\n      <td>53.1000</td>\n      <td>C123</td>\n      <td>S</td>\n    </tr>\n    <tr>\n      <th>4</th>\n      <td>5</td>\n      <td>0</td>\n      <td>3</td>\n      <td>Allen, Mr. William Henry</td>\n      <td>male</td>\n      <td>35.0</td>\n      <td>0</td>\n      <td>0</td>\n      <td>373450</td>\n      <td>8.0500</td>\n      <td>NaN</td>\n      <td>S</td>\n    </tr>\n  </tbody>\n</table>\n</div>"
     },
     "execution_count": 32,
     "metadata": {},
     "output_type": "execute_result"
    }
   ],
   "source": [
    "train_data.head()"
   ],
   "metadata": {
    "collapsed": false
   }
  },
  {
   "cell_type": "code",
   "execution_count": 33,
   "outputs": [
    {
     "data": {
      "text/plain": "(891, 12)"
     },
     "execution_count": 33,
     "metadata": {},
     "output_type": "execute_result"
    }
   ],
   "source": [
    "train_data.shape"
   ],
   "metadata": {
    "collapsed": false
   }
  },
  {
   "cell_type": "code",
   "source": [
    "train_data.columns"
   ],
   "metadata": {
    "papermill": {
     "duration": 0.065746,
     "end_time": "2023-02-25T10:28:17.507702",
     "exception": false,
     "start_time": "2023-02-25T10:28:17.441956",
     "status": "completed"
    },
    "tags": [],
    "execution": {
     "iopub.status.busy": "2023-03-06T18:16:11.189390Z",
     "iopub.execute_input": "2023-03-06T18:16:11.189841Z",
     "iopub.status.idle": "2023-03-06T18:16:11.200016Z",
     "shell.execute_reply.started": "2023-03-06T18:16:11.189799Z",
     "shell.execute_reply": "2023-03-06T18:16:11.198426Z"
    },
    "trusted": true
   },
   "execution_count": 34,
   "outputs": [
    {
     "data": {
      "text/plain": "Index(['PassengerId', 'Survived', 'Pclass', 'Name', 'Sex', 'Age', 'SibSp',\n       'Parch', 'Ticket', 'Fare', 'Cabin', 'Embarked'],\n      dtype='object')"
     },
     "execution_count": 34,
     "metadata": {},
     "output_type": "execute_result"
    }
   ]
  },
  {
   "cell_type": "code",
   "source": [
    "train_data.info()"
   ],
   "metadata": {
    "papermill": {
     "duration": 0.091357,
     "end_time": "2023-02-25T10:28:17.655986",
     "exception": false,
     "start_time": "2023-02-25T10:28:17.564629",
     "status": "completed"
    },
    "tags": [],
    "execution": {
     "iopub.status.busy": "2023-03-06T18:16:13.513788Z",
     "iopub.execute_input": "2023-03-06T18:16:13.514378Z",
     "iopub.status.idle": "2023-03-06T18:16:13.548852Z",
     "shell.execute_reply.started": "2023-03-06T18:16:13.514304Z",
     "shell.execute_reply": "2023-03-06T18:16:13.547504Z"
    },
    "trusted": true
   },
   "execution_count": 35,
   "outputs": [
    {
     "name": "stdout",
     "output_type": "stream",
     "text": [
      "<class 'pandas.core.frame.DataFrame'>\n",
      "RangeIndex: 891 entries, 0 to 890\n",
      "Data columns (total 12 columns):\n",
      " #   Column       Non-Null Count  Dtype  \n",
      "---  ------       --------------  -----  \n",
      " 0   PassengerId  891 non-null    int64  \n",
      " 1   Survived     891 non-null    int64  \n",
      " 2   Pclass       891 non-null    int64  \n",
      " 3   Name         891 non-null    object \n",
      " 4   Sex          891 non-null    object \n",
      " 5   Age          714 non-null    float64\n",
      " 6   SibSp        891 non-null    int64  \n",
      " 7   Parch        891 non-null    int64  \n",
      " 8   Ticket       891 non-null    object \n",
      " 9   Fare         891 non-null    float64\n",
      " 10  Cabin        204 non-null    object \n",
      " 11  Embarked     889 non-null    object \n",
      "dtypes: float64(2), int64(5), object(5)\n",
      "memory usage: 83.7+ KB\n"
     ]
    }
   ]
  },
  {
   "cell_type": "markdown",
   "source": [
    "#### Checking various null entries in the dataset, with the help of heatmap"
   ],
   "metadata": {
    "papermill": {
     "duration": 0.055091,
     "end_time": "2023-02-25T10:28:17.76977",
     "exception": false,
     "start_time": "2023-02-25T10:28:17.714679",
     "status": "completed"
    },
    "tags": []
   }
  },
  {
   "cell_type": "code",
   "source": [
    "train_data.isnull().sum()"
   ],
   "metadata": {
    "papermill": {
     "duration": 0.07348,
     "end_time": "2023-02-25T10:28:17.898226",
     "exception": false,
     "start_time": "2023-02-25T10:28:17.824746",
     "status": "completed"
    },
    "tags": [],
    "execution": {
     "iopub.status.busy": "2023-03-06T19:13:55.384635Z",
     "iopub.execute_input": "2023-03-06T19:13:55.385190Z",
     "iopub.status.idle": "2023-03-06T19:13:55.420806Z",
     "shell.execute_reply.started": "2023-03-06T19:13:55.385146Z",
     "shell.execute_reply": "2023-03-06T19:13:55.419565Z"
    },
    "trusted": true
   },
   "execution_count": 36,
   "outputs": [
    {
     "data": {
      "text/plain": "PassengerId      0\nSurvived         0\nPclass           0\nName             0\nSex              0\nAge            177\nSibSp            0\nParch            0\nTicket           0\nFare             0\nCabin          687\nEmbarked         2\ndtype: int64"
     },
     "execution_count": 36,
     "metadata": {},
     "output_type": "execute_result"
    }
   ]
  },
  {
   "cell_type": "markdown",
   "source": [
    "#### Visualization of various relationships between variables"
   ],
   "metadata": {
    "papermill": {
     "duration": 0.054603,
     "end_time": "2023-02-25T10:28:18.017675",
     "exception": false,
     "start_time": "2023-02-25T10:28:17.963072",
     "status": "completed"
    },
    "tags": []
   }
  },
  {
   "cell_type": "code",
   "source": [
    "sns.countplot(x='Survived', data=train_data)"
   ],
   "metadata": {
    "papermill": {
     "duration": 0.331705,
     "end_time": "2023-02-25T10:28:18.414438",
     "exception": false,
     "start_time": "2023-02-25T10:28:18.082733",
     "status": "completed"
    },
    "tags": [],
    "execution": {
     "iopub.status.busy": "2023-03-06T19:14:00.865600Z",
     "iopub.execute_input": "2023-03-06T19:14:00.866080Z",
     "iopub.status.idle": "2023-03-06T19:14:01.081041Z",
     "shell.execute_reply.started": "2023-03-06T19:14:00.866018Z",
     "shell.execute_reply": "2023-03-06T19:14:01.079518Z"
    },
    "trusted": true
   },
   "execution_count": 37,
   "outputs": [
    {
     "data": {
      "text/plain": "<Axes: xlabel='Survived', ylabel='count'>"
     },
     "execution_count": 37,
     "metadata": {},
     "output_type": "execute_result"
    },
    {
     "data": {
      "text/plain": "<Figure size 640x480 with 1 Axes>",
      "image/png": "[encoded data removed]"
     },
     "metadata": {},
     "output_type": "display_data"
    }
   ]
  },
  {
   "cell_type": "code",
   "source": [
    "sns.countplot(x='Survived',hue='Sex',data=train_data)"
   ],
   "metadata": {
    "papermill": {
     "duration": 0.293665,
     "end_time": "2023-02-25T10:28:18.773436",
     "exception": false,
     "start_time": "2023-02-25T10:28:18.479771",
     "status": "completed"
    },
    "tags": [],
    "execution": {
     "iopub.status.busy": "2023-03-06T19:14:05.657769Z",
     "iopub.execute_input": "2023-03-06T19:14:05.658576Z",
     "iopub.status.idle": "2023-03-06T19:14:05.883827Z",
     "shell.execute_reply.started": "2023-03-06T19:14:05.658519Z",
     "shell.execute_reply": "2023-03-06T19:14:05.882551Z"
    },
    "trusted": true
   },
   "execution_count": 38,
   "outputs": [
    {
     "data": {
      "text/plain": "<Axes: xlabel='Survived', ylabel='count'>"
     },
     "execution_count": 38,
     "metadata": {},
     "output_type": "execute_result"
    },
    {
     "data": {
      "text/plain": "<Figure size 640x480 with 1 Axes>",
      "image/png": "[encoded data removed]"
     },
     "metadata": {},
     "output_type": "display_data"
    }
   ]
  },
  {
   "cell_type": "code",
   "source": [
    "sns.catplot(x='Pclass',hue='Survived', kind='count',data=train_data)"
   ],
   "metadata": {
    "papermill": {
     "duration": 0.505559,
     "end_time": "2023-02-25T10:28:19.337422",
     "exception": false,
     "start_time": "2023-02-25T10:28:18.831863",
     "status": "completed"
    },
    "tags": [],
    "execution": {
     "iopub.status.busy": "2023-03-06T19:16:58.248937Z",
     "iopub.execute_input": "2023-03-06T19:16:58.249373Z",
     "iopub.status.idle": "2023-03-06T19:16:58.551866Z",
     "shell.execute_reply.started": "2023-03-06T19:16:58.249321Z",
     "shell.execute_reply": "2023-03-06T19:16:58.550273Z"
    },
    "trusted": true
   },
   "execution_count": 39,
   "outputs": [
    {
     "data": {
      "text/plain": "<seaborn.axisgrid.FacetGrid at 0x12a339480>"
     },
     "execution_count": 39,
     "metadata": {},
     "output_type": "execute_result"
    },
    {
     "data": {
      "text/plain": "<Figure size 565.361x500 with 1 Axes>",
      "image/png": "[encoded data removed]"
     },
     "metadata": {},
     "output_type": "display_data"
    }
   ]
  },
  {
   "cell_type": "code",
   "source": [
    "plt.figure(figsize=(10,10))\n",
    "plt.subplot(3,2,6)\n",
    "sns.boxplot(x='Pclass',y='Age',data=train_data)"
   ],
   "metadata": {
    "papermill": {
     "duration": 0.303616,
     "end_time": "2023-02-25T10:28:19.700551",
     "exception": false,
     "start_time": "2023-02-25T10:28:19.396935",
     "status": "completed"
    },
    "tags": [],
    "execution": {
     "iopub.status.busy": "2023-03-06T19:15:27.226731Z",
     "iopub.execute_input": "2023-03-06T19:15:27.228116Z",
     "iopub.status.idle": "2023-03-06T19:15:27.443617Z",
     "shell.execute_reply.started": "2023-03-06T19:15:27.228065Z",
     "shell.execute_reply": "2023-03-06T19:15:27.442229Z"
    },
    "trusted": true
   },
   "execution_count": 40,
   "outputs": [
    {
     "data": {
      "text/plain": "<Axes: xlabel='Pclass', ylabel='Age'>"
     },
     "execution_count": 40,
     "metadata": {},
     "output_type": "execute_result"
    },
    {
     "data": {
      "text/plain": "<Figure size 1000x1000 with 1 Axes>",
      "image/png": "[encoded data removed]"
     },
     "metadata": {},
     "output_type": "display_data"
    }
   ]
  },
  {
   "cell_type": "markdown",
   "source": [
    "#### Replacing null values in Age column using function\n"
   ],
   "metadata": {
    "papermill": {
     "duration": 0.069083,
     "end_time": "2023-02-25T10:28:19.843666",
     "exception": false,
     "start_time": "2023-02-25T10:28:19.774583",
     "status": "completed"
    },
    "tags": []
   }
  },
  {
   "cell_type": "code",
   "source": [
    "def add_age(cols):\n",
    "    age, pclass = cols\n",
    "    if pd.isnull(age):\n",
    "        if pclass==1:\n",
    "            return train_data[train_data['Pclass']==1]['Age'].median()\n",
    "        elif pclass==2:\n",
    "            return train_data[train_data['Pclass']==2]['Age'].median()\n",
    "        elif pclass==3:\n",
    "            return train_data[train_data['Pclass']==3]['Age'].median()\n",
    "    else:\n",
    "        return age\n",
    "        "
   ],
   "metadata": {
    "execution": {
     "iopub.execute_input": "2023-02-25T10:28:19.995872Z",
     "iopub.status.busy": "2023-02-25T10:28:19.994562Z",
     "iopub.status.idle": "2023-02-25T10:28:19.997803Z",
     "shell.execute_reply": "2023-02-25T10:28:19.997242Z",
     "shell.execute_reply.started": "2022-03-14T09:14:49.22382Z"
    },
    "papermill": {
     "duration": 0.082668,
     "end_time": "2023-02-25T10:28:19.997969",
     "exception": false,
     "start_time": "2023-02-25T10:28:19.915301",
     "status": "completed"
    },
    "tags": []
   },
   "execution_count": null,
   "outputs": []
  },
  {
   "cell_type": "code",
   "source": [
    "train_data['Age']=train_data[['Age','Pclass']].apply(add_age, axis=1)"
   ],
   "metadata": {
    "execution": {
     "iopub.execute_input": "2023-02-25T10:28:20.243636Z",
     "iopub.status.busy": "2023-02-25T10:28:20.133766Z",
     "iopub.status.idle": "2023-02-25T10:28:20.320918Z",
     "shell.execute_reply": "2023-02-25T10:28:20.320292Z",
     "shell.execute_reply.started": "2022-03-14T09:14:49.233564Z"
    },
    "papermill": {
     "duration": 0.255144,
     "end_time": "2023-02-25T10:28:20.321083",
     "exception": false,
     "start_time": "2023-02-25T10:28:20.065939",
     "status": "completed"
    },
    "tags": []
   },
   "execution_count": 42,
   "outputs": []
  },
  {
   "cell_type": "markdown",
   "source": [
    "#### Convert sex and embarked columns to numerical values"
   ],
   "metadata": {
    "papermill": {
     "duration": 0.068388,
     "end_time": "2023-02-25T10:28:20.455375",
     "exception": false,
     "start_time": "2023-02-25T10:28:20.386987",
     "status": "completed"
    },
    "tags": []
   }
  },
  {
   "cell_type": "code",
   "source": [
    "train_data.Sex=train_data.Sex.map({'female':0, 'male':1})\n",
    "train_data.Embarked=train_data.Embarked.map({'S':0, 'C':1, 'Q':2, 'nan':'NaN'})"
   ],
   "metadata": {
    "execution": {
     "iopub.execute_input": "2023-02-25T10:28:20.595373Z",
     "iopub.status.busy": "2023-02-25T10:28:20.594681Z",
     "iopub.status.idle": "2023-02-25T10:28:20.598001Z",
     "shell.execute_reply": "2023-02-25T10:28:20.598798Z",
     "shell.execute_reply.started": "2022-03-14T09:14:49.356631Z"
    },
    "papermill": {
     "duration": 0.074651,
     "end_time": "2023-02-25T10:28:20.599144",
     "exception": false,
     "start_time": "2023-02-25T10:28:20.524493",
     "status": "completed"
    },
    "tags": []
   },
   "execution_count": 43,
   "outputs": []
  },
  {
   "cell_type": "markdown",
   "source": [
    "#### Dropping Null Data"
   ],
   "metadata": {
    "papermill": {
     "duration": 0.060777,
     "end_time": "2023-02-25T10:28:20.721847",
     "exception": false,
     "start_time": "2023-02-25T10:28:20.66107",
     "status": "completed"
    },
    "tags": []
   }
  },
  {
   "cell_type": "code",
   "source": [
    "train_data.drop('Cabin',axis=1,inplace=True)"
   ],
   "metadata": {
    "execution": {
     "iopub.execute_input": "2023-02-25T10:28:20.853295Z",
     "iopub.status.busy": "2023-02-25T10:28:20.852587Z",
     "iopub.status.idle": "2023-02-25T10:28:20.857545Z",
     "shell.execute_reply": "2023-02-25T10:28:20.858138Z",
     "shell.execute_reply.started": "2022-03-14T09:14:49.366898Z"
    },
    "papermill": {
     "duration": 0.073118,
     "end_time": "2023-02-25T10:28:20.858328",
     "exception": false,
     "start_time": "2023-02-25T10:28:20.78521",
     "status": "completed"
    },
    "tags": []
   },
   "execution_count": 44,
   "outputs": []
  },
  {
   "cell_type": "markdown",
   "source": [
    "Removing rows with null values"
   ],
   "metadata": {
    "papermill": {
     "duration": 0.06399,
     "end_time": "2023-02-25T10:28:20.981849",
     "exception": false,
     "start_time": "2023-02-25T10:28:20.917859",
     "status": "completed"
    },
    "tags": []
   }
  },
  {
   "cell_type": "code",
   "source": [
    "train_data.dropna(inplace=True)"
   ],
   "metadata": {
    "execution": {
     "iopub.execute_input": "2023-02-25T10:28:21.112585Z",
     "iopub.status.busy": "2023-02-25T10:28:21.111286Z",
     "iopub.status.idle": "2023-02-25T10:28:21.120217Z",
     "shell.execute_reply": "2023-02-25T10:28:21.119608Z",
     "shell.execute_reply.started": "2022-03-14T09:14:49.381526Z"
    },
    "papermill": {
     "duration": 0.072683,
     "end_time": "2023-02-25T10:28:21.120379",
     "exception": false,
     "start_time": "2023-02-25T10:28:21.047696",
     "status": "completed"
    },
    "tags": []
   },
   "execution_count": 45,
   "outputs": []
  },
  {
   "cell_type": "code",
   "source": [
    "train_data.drop(['Name', 'PassengerId', 'Ticket'], axis = 1, inplace = True)"
   ],
   "metadata": {
    "execution": {
     "iopub.execute_input": "2023-02-25T10:28:21.247755Z",
     "iopub.status.busy": "2023-02-25T10:28:21.247048Z",
     "iopub.status.idle": "2023-02-25T10:28:21.252241Z",
     "shell.execute_reply": "2023-02-25T10:28:21.252801Z",
     "shell.execute_reply.started": "2022-03-14T09:14:49.394483Z"
    },
    "papermill": {
     "duration": 0.071762,
     "end_time": "2023-02-25T10:28:21.25299",
     "exception": false,
     "start_time": "2023-02-25T10:28:21.181228",
     "status": "completed"
    },
    "tags": []
   },
   "execution_count": 46,
   "outputs": []
  },
  {
   "cell_type": "markdown",
   "source": [
    "#### Feature engineering"
   ],
   "metadata": {
    "papermill": {
     "duration": 0.062928,
     "end_time": "2023-02-25T10:28:21.375928",
     "exception": false,
     "start_time": "2023-02-25T10:28:21.313",
     "status": "completed"
    },
    "tags": []
   }
  },
  {
   "cell_type": "code",
   "source": [
    "min_age=min(train_data.Age)\n",
    "max_age=max(train_data.Age)\n",
    "min_fare=min(train_data.Fare)\n",
    "max_fare=max(train_data.Fare)"
   ],
   "metadata": {
    "execution": {
     "iopub.execute_input": "2023-02-25T10:28:21.507073Z",
     "iopub.status.busy": "2023-02-25T10:28:21.506372Z",
     "iopub.status.idle": "2023-02-25T10:28:21.512692Z",
     "shell.execute_reply": "2023-02-25T10:28:21.513254Z",
     "shell.execute_reply.started": "2022-03-14T09:14:49.410904Z"
    },
    "papermill": {
     "duration": 0.072583,
     "end_time": "2023-02-25T10:28:21.513448",
     "exception": false,
     "start_time": "2023-02-25T10:28:21.440865",
     "status": "completed"
    },
    "tags": []
   },
   "execution_count": 47,
   "outputs": []
  },
  {
   "cell_type": "code",
   "source": [
    "train_data.Age = (train_data.Age-min_age)/(max_age-min_age)\n",
    "train_data.Fare = (train_data.Fare-min_fare)/(max_fare-min_fare)"
   ],
   "metadata": {
    "execution": {
     "iopub.execute_input": "2023-02-25T10:28:21.637612Z",
     "iopub.status.busy": "2023-02-25T10:28:21.636931Z",
     "iopub.status.idle": "2023-02-25T10:28:21.644289Z",
     "shell.execute_reply": "2023-02-25T10:28:21.644887Z",
     "shell.execute_reply.started": "2022-03-14T09:14:49.426996Z"
    },
    "papermill": {
     "duration": 0.070288,
     "end_time": "2023-02-25T10:28:21.645094",
     "exception": false,
     "start_time": "2023-02-25T10:28:21.574806",
     "status": "completed"
    },
    "tags": []
   },
   "execution_count": 48,
   "outputs": []
  },
  {
   "cell_type": "markdown",
   "source": [
    "#### Print the finalised data"
   ],
   "metadata": {
    "papermill": {
     "duration": 0.061941,
     "end_time": "2023-02-25T10:28:21.767106",
     "exception": false,
     "start_time": "2023-02-25T10:28:21.705165",
     "status": "completed"
    },
    "tags": []
   }
  },
  {
   "cell_type": "code",
   "source": [
    "train_data.head()"
   ],
   "metadata": {
    "execution": {
     "iopub.execute_input": "2023-02-25T10:28:21.909008Z",
     "iopub.status.busy": "2023-02-25T10:28:21.907708Z",
     "iopub.status.idle": "2023-02-25T10:28:21.912068Z",
     "shell.execute_reply": "2023-02-25T10:28:21.912642Z",
     "shell.execute_reply.started": "2022-03-14T09:14:49.4408Z"
    },
    "papermill": {
     "duration": 0.081186,
     "end_time": "2023-02-25T10:28:21.912845",
     "exception": false,
     "start_time": "2023-02-25T10:28:21.831659",
     "status": "completed"
    },
    "tags": []
   },
   "execution_count": 49,
   "outputs": [
    {
     "data": {
      "text/plain": "   Survived  Pclass  Sex       Age  SibSp  Parch      Fare Embarked\n0         0       3    1  0.271174      1      0  0.014151        0\n1         1       1    0  0.472229      1      0  0.139136        1\n2         1       3    0  0.321438      0      0  0.015469        0\n3         1       1    0  0.434531      1      0  0.103644        0\n4         0       3    1  0.434531      0      0  0.015713        0",
      "text/html": "<div>\n<style scoped>\n    .dataframe tbody tr th:only-of-type {\n        vertical-align: middle;\n    }\n\n    .dataframe tbody tr th {\n        vertical-align: top;\n    }\n\n    .dataframe thead th {\n        text-align: right;\n    }\n</style>\n<table border=\"1\" class=\"dataframe\">\n  <thead>\n    <tr style=\"text-align: right;\">\n      <th></th>\n      <th>Survived</th>\n      <th>Pclass</th>\n      <th>Sex</th>\n      <th>Age</th>\n      <th>SibSp</th>\n      <th>Parch</th>\n      <th>Fare</th>\n      <th>Embarked</th>\n    </tr>\n  </thead>\n  <tbody>\n    <tr>\n      <th>0</th>\n      <td>0</td>\n      <td>3</td>\n      <td>1</td>\n      <td>0.271174</td>\n      <td>1</td>\n      <td>0</td>\n      <td>0.014151</td>\n      <td>0</td>\n    </tr>\n    <tr>\n      <th>1</th>\n      <td>1</td>\n      <td>1</td>\n      <td>0</td>\n      <td>0.472229</td>\n      <td>1</td>\n      <td>0</td>\n      <td>0.139136</td>\n      <td>1</td>\n    </tr>\n    <tr>\n      <th>2</th>\n      <td>1</td>\n      <td>3</td>\n      <td>0</td>\n      <td>0.321438</td>\n      <td>0</td>\n      <td>0</td>\n      <td>0.015469</td>\n      <td>0</td>\n    </tr>\n    <tr>\n      <th>3</th>\n      <td>1</td>\n      <td>1</td>\n      <td>0</td>\n      <td>0.434531</td>\n      <td>1</td>\n      <td>0</td>\n      <td>0.103644</td>\n      <td>0</td>\n    </tr>\n    <tr>\n      <th>4</th>\n      <td>0</td>\n      <td>3</td>\n      <td>1</td>\n      <td>0.434531</td>\n      <td>0</td>\n      <td>0</td>\n      <td>0.015713</td>\n      <td>0</td>\n    </tr>\n  </tbody>\n</table>\n</div>"
     },
     "execution_count": 49,
     "metadata": {},
     "output_type": "execute_result"
    }
   ]
  },
  {
   "cell_type": "markdown",
   "source": [
    "#### Split the data set into x and y data"
   ],
   "metadata": {
    "papermill": {
     "duration": 0.062556,
     "end_time": "2023-02-25T10:28:22.035669",
     "exception": false,
     "start_time": "2023-02-25T10:28:21.973113",
     "status": "completed"
    },
    "tags": []
   }
  },
  {
   "cell_type": "code",
   "source": [
    "x_data=train_data.drop('Survived',axis=1)\n",
    "y_data=train_data['Survived']"
   ],
   "metadata": {
    "execution": {
     "iopub.execute_input": "2023-02-25T10:28:22.167581Z",
     "iopub.status.busy": "2023-02-25T10:28:22.166441Z",
     "iopub.status.idle": "2023-02-25T10:28:22.168542Z",
     "shell.execute_reply": "2023-02-25T10:28:22.169055Z",
     "shell.execute_reply.started": "2022-03-14T09:14:49.458113Z"
    },
    "papermill": {
     "duration": 0.073245,
     "end_time": "2023-02-25T10:28:22.169237",
     "exception": false,
     "start_time": "2023-02-25T10:28:22.095992",
     "status": "completed"
    },
    "tags": []
   },
   "execution_count": 50,
   "outputs": []
  },
  {
   "cell_type": "markdown",
   "source": [
    "#### Split the data set into training data and test data"
   ],
   "metadata": {
    "papermill": {
     "duration": 0.062466,
     "end_time": "2023-02-25T10:28:22.29591",
     "exception": false,
     "start_time": "2023-02-25T10:28:22.233444",
     "status": "completed"
    },
    "tags": []
   }
  },
  {
   "cell_type": "code",
   "source": [
    "from sklearn.model_selection import train_test_split"
   ],
   "metadata": {
    "execution": {
     "iopub.execute_input": "2023-02-25T10:28:22.425163Z",
     "iopub.status.busy": "2023-02-25T10:28:22.424396Z",
     "iopub.status.idle": "2023-02-25T10:28:22.64019Z",
     "shell.execute_reply": "2023-02-25T10:28:22.640691Z",
     "shell.execute_reply.started": "2022-03-14T09:14:49.464846Z"
    },
    "papermill": {
     "duration": 0.282995,
     "end_time": "2023-02-25T10:28:22.640898",
     "exception": false,
     "start_time": "2023-02-25T10:28:22.357903",
     "status": "completed"
    },
    "tags": []
   },
   "execution_count": 51,
   "outputs": []
  },
  {
   "cell_type": "code",
   "source": [
    "x_training_data, x_test_data, y_training_data, y_test_data = train_test_split(x_data, y_data, test_size = 0.2, random_state=0, stratify=y_data)"
   ],
   "metadata": {
    "execution": {
     "iopub.execute_input": "2023-02-25T10:28:22.778018Z",
     "iopub.status.busy": "2023-02-25T10:28:22.776873Z",
     "iopub.status.idle": "2023-02-25T10:28:22.783036Z",
     "shell.execute_reply": "2023-02-25T10:28:22.783716Z",
     "shell.execute_reply.started": "2022-03-14T09:14:49.677892Z"
    },
    "papermill": {
     "duration": 0.077981,
     "end_time": "2023-02-25T10:28:22.783981",
     "exception": false,
     "start_time": "2023-02-25T10:28:22.706",
     "status": "completed"
    },
    "tags": []
   },
   "execution_count": 52,
   "outputs": []
  },
  {
   "cell_type": "markdown",
   "source": [
    "#### Create the model"
   ],
   "metadata": {
    "papermill": {
     "duration": 0.065707,
     "end_time": "2023-02-25T10:28:22.915806",
     "exception": false,
     "start_time": "2023-02-25T10:28:22.850099",
     "status": "completed"
    },
    "tags": []
   }
  },
  {
   "cell_type": "code",
   "source": [
    "from sklearn.linear_model import LogisticRegression"
   ],
   "metadata": {
    "execution": {
     "iopub.execute_input": "2023-02-25T10:28:23.052956Z",
     "iopub.status.busy": "2023-02-25T10:28:23.052095Z",
     "iopub.status.idle": "2023-02-25T10:28:23.144104Z",
     "shell.execute_reply": "2023-02-25T10:28:23.143488Z",
     "shell.execute_reply.started": "2022-03-14T09:14:49.689174Z"
    },
    "papermill": {
     "duration": 0.164261,
     "end_time": "2023-02-25T10:28:23.144311",
     "exception": false,
     "start_time": "2023-02-25T10:28:22.98005",
     "status": "completed"
    },
    "tags": []
   },
   "execution_count": 53,
   "outputs": []
  },
  {
   "cell_type": "code",
   "source": [
    "model = LogisticRegression()"
   ],
   "metadata": {
    "execution": {
     "iopub.execute_input": "2023-02-25T10:28:23.286533Z",
     "iopub.status.busy": "2023-02-25T10:28:23.285772Z",
     "iopub.status.idle": "2023-02-25T10:28:23.289336Z",
     "shell.execute_reply": "2023-02-25T10:28:23.288674Z",
     "shell.execute_reply.started": "2022-03-14T09:14:49.77032Z"
    },
    "papermill": {
     "duration": 0.079341,
     "end_time": "2023-02-25T10:28:23.289509",
     "exception": false,
     "start_time": "2023-02-25T10:28:23.210168",
     "status": "completed"
    },
    "tags": []
   },
   "execution_count": 54,
   "outputs": []
  },
  {
   "cell_type": "markdown",
   "source": [
    "#### Train the model and create predictions"
   ],
   "metadata": {
    "papermill": {
     "duration": 0.071554,
     "end_time": "2023-02-25T10:28:23.429728",
     "exception": false,
     "start_time": "2023-02-25T10:28:23.358174",
     "status": "completed"
    },
    "tags": []
   }
  },
  {
   "cell_type": "code",
   "source": [
    "model.fit(x_training_data, y_training_data)\n",
    "predictions = model.predict(x_test_data)"
   ],
   "metadata": {
    "execution": {
     "iopub.execute_input": "2023-02-25T10:28:23.613887Z",
     "iopub.status.busy": "2023-02-25T10:28:23.61277Z",
     "iopub.status.idle": "2023-02-25T10:28:23.635967Z",
     "shell.execute_reply": "2023-02-25T10:28:23.635187Z",
     "shell.execute_reply.started": "2022-03-14T09:14:49.776776Z"
    },
    "papermill": {
     "duration": 0.123047,
     "end_time": "2023-02-25T10:28:23.636142",
     "exception": false,
     "start_time": "2023-02-25T10:28:23.513095",
     "status": "completed"
    },
    "tags": []
   },
   "execution_count": 56,
   "outputs": []
  },
  {
   "cell_type": "markdown",
   "source": [
    "#### Let’s see how accurate is our model for predictions:"
   ],
   "metadata": {
    "papermill": {
     "duration": 0.064229,
     "end_time": "2023-02-25T10:28:23.768501",
     "exception": false,
     "start_time": "2023-02-25T10:28:23.704272",
     "status": "completed"
    },
    "tags": []
   }
  },
  {
   "cell_type": "code",
   "source": [
    "from sklearn.metrics import classification_report"
   ],
   "metadata": {
    "execution": {
     "iopub.execute_input": "2023-02-25T10:28:23.903311Z",
     "iopub.status.busy": "2023-02-25T10:28:23.902358Z",
     "iopub.status.idle": "2023-02-25T10:28:23.904063Z",
     "shell.execute_reply": "2023-02-25T10:28:23.904596Z",
     "shell.execute_reply.started": "2022-03-14T09:14:49.806527Z"
    },
    "papermill": {
     "duration": 0.071878,
     "end_time": "2023-02-25T10:28:23.904786",
     "exception": false,
     "start_time": "2023-02-25T10:28:23.832908",
     "status": "completed"
    },
    "tags": []
   },
   "execution_count": 57,
   "outputs": []
  },
  {
   "cell_type": "code",
   "source": [
    "print(classification_report(y_test_data, predictions))"
   ],
   "metadata": {
    "execution": {
     "iopub.execute_input": "2023-02-25T10:28:24.041681Z",
     "iopub.status.busy": "2023-02-25T10:28:24.040966Z",
     "iopub.status.idle": "2023-02-25T10:28:24.050475Z",
     "shell.execute_reply": "2023-02-25T10:28:24.051082Z",
     "shell.execute_reply.started": "2022-03-14T09:14:49.813813Z"
    },
    "papermill": {
     "duration": 0.081114,
     "end_time": "2023-02-25T10:28:24.05129",
     "exception": false,
     "start_time": "2023-02-25T10:28:23.970176",
     "status": "completed"
    },
    "tags": []
   },
   "execution_count": 58,
   "outputs": [
    {
     "name": "stdout",
     "output_type": "stream",
     "text": [
      "              precision    recall  f1-score   support\n",
      "\n",
      "           0       0.87      0.88      0.88       110\n",
      "           1       0.81      0.79      0.80        68\n",
      "\n",
      "    accuracy                           0.85       178\n",
      "   macro avg       0.84      0.84      0.84       178\n",
      "weighted avg       0.85      0.85      0.85       178\n",
      "\n"
     ]
    }
   ]
  },
  {
   "cell_type": "code",
   "source": [
    "from sklearn.metrics import accuracy_score\n",
    "print (\"Accuracy : \", accuracy_score(y_test_data, predictions))"
   ],
   "metadata": {
    "execution": {
     "iopub.execute_input": "2023-02-25T10:28:24.190583Z",
     "iopub.status.busy": "2023-02-25T10:28:24.189779Z",
     "iopub.status.idle": "2023-02-25T10:28:24.196933Z",
     "shell.execute_reply": "2023-02-25T10:28:24.197871Z",
     "shell.execute_reply.started": "2022-03-14T09:14:49.82903Z"
    },
    "papermill": {
     "duration": 0.081107,
     "end_time": "2023-02-25T10:28:24.198132",
     "exception": false,
     "start_time": "2023-02-25T10:28:24.117025",
     "status": "completed"
    },
    "tags": []
   },
   "execution_count": 59,
   "outputs": [
    {
     "name": "stdout",
     "output_type": "stream",
     "text": [
      "Accuracy :  0.848314606741573\n"
     ]
    }
   ]
  },
  {
   "cell_type": "markdown",
   "source": [
    "#### Let’s see the confusion matrix"
   ],
   "metadata": {
    "papermill": {
     "duration": 0.067923,
     "end_time": "2023-02-25T10:28:24.331875",
     "exception": false,
     "start_time": "2023-02-25T10:28:24.263952",
     "status": "completed"
    },
    "tags": []
   }
  },
  {
   "cell_type": "code",
   "source": [
    "from sklearn.metrics import confusion_matrix\n",
    "confusion_matrix(y_test_data, predictions)\n"
   ],
   "metadata": {
    "execution": {
     "iopub.execute_input": "2023-02-25T10:28:24.467658Z",
     "iopub.status.busy": "2023-02-25T10:28:24.46691Z",
     "iopub.status.idle": "2023-02-25T10:28:24.475843Z",
     "shell.execute_reply": "2023-02-25T10:28:24.476381Z",
     "shell.execute_reply.started": "2022-03-14T09:14:49.839516Z"
    },
    "papermill": {
     "duration": 0.079685,
     "end_time": "2023-02-25T10:28:24.476589",
     "exception": false,
     "start_time": "2023-02-25T10:28:24.396904",
     "status": "completed"
    },
    "tags": []
   },
   "execution_count": 60,
   "outputs": [
    {
     "data": {
      "text/plain": "array([[97, 13],\n       [14, 54]])"
     },
     "execution_count": 60,
     "metadata": {},
     "output_type": "execute_result"
    }
   ]
  },
  {
   "cell_type": "markdown",
   "source": [
    "### confusion matrix using seaborn"
   ],
   "metadata": {
    "papermill": {
     "duration": 0.061684,
     "end_time": "2023-02-25T10:28:24.600324",
     "exception": false,
     "start_time": "2023-02-25T10:28:24.53864",
     "status": "completed"
    },
    "tags": []
   }
  },
  {
   "cell_type": "code",
   "source": [
    "cf_matrix=confusion_matrix(y_test_data, predictions)"
   ],
   "metadata": {
    "execution": {
     "iopub.execute_input": "2023-02-25T10:28:24.729742Z",
     "iopub.status.busy": "2023-02-25T10:28:24.728979Z",
     "iopub.status.idle": "2023-02-25T10:28:24.73349Z",
     "shell.execute_reply": "2023-02-25T10:28:24.73404Z",
     "shell.execute_reply.started": "2022-03-14T09:14:49.856449Z"
    },
    "papermill": {
     "duration": 0.069827,
     "end_time": "2023-02-25T10:28:24.734239",
     "exception": false,
     "start_time": "2023-02-25T10:28:24.664412",
     "status": "completed"
    },
    "tags": []
   },
   "execution_count": 61,
   "outputs": []
  },
  {
   "cell_type": "code",
   "source": [
    "\n",
    "\n",
    "sns.heatmap(cf_matrix, annot=True)"
   ],
   "metadata": {
    "execution": {
     "iopub.execute_input": "2023-02-25T10:28:24.861614Z",
     "iopub.status.busy": "2023-02-25T10:28:24.860874Z",
     "iopub.status.idle": "2023-02-25T10:28:25.154305Z",
     "shell.execute_reply": "2023-02-25T10:28:25.154843Z",
     "shell.execute_reply.started": "2022-03-14T09:14:49.867512Z"
    },
    "papermill": {
     "duration": 0.357912,
     "end_time": "2023-02-25T10:28:25.155024",
     "exception": false,
     "start_time": "2023-02-25T10:28:24.797112",
     "status": "completed"
    },
    "tags": []
   },
   "execution_count": 62,
   "outputs": [
    {
     "data": {
      "text/plain": "<Axes: >"
     },
     "execution_count": 62,
     "metadata": {},
     "output_type": "execute_result"
    },
    {
     "data": {
      "text/plain": "<Figure size 640x480 with 2 Axes>",
      "image/png": "[encoded data removed]"
     },
     "metadata": {},
     "output_type": "display_data"
    }
   ]
  },
  {
   "cell_type": "markdown",
   "source": [
    "#### Cleaning test datset"
   ],
   "metadata": {
    "papermill": {
     "duration": 0.070694,
     "end_time": "2023-02-25T10:28:25.300104",
     "exception": false,
     "start_time": "2023-02-25T10:28:25.22941",
     "status": "completed"
    },
    "tags": []
   }
  },
  {
   "cell_type": "code",
   "source": [
    "test_data.head()"
   ],
   "metadata": {
    "execution": {
     "iopub.execute_input": "2023-02-25T10:28:25.464525Z",
     "iopub.status.busy": "2023-02-25T10:28:25.463414Z",
     "iopub.status.idle": "2023-02-25T10:28:25.468116Z",
     "shell.execute_reply": "2023-02-25T10:28:25.467342Z",
     "shell.execute_reply.started": "2022-03-14T09:14:50.112724Z"
    },
    "papermill": {
     "duration": 0.094532,
     "end_time": "2023-02-25T10:28:25.468285",
     "exception": false,
     "start_time": "2023-02-25T10:28:25.373753",
     "status": "completed"
    },
    "tags": []
   },
   "execution_count": 63,
   "outputs": [
    {
     "data": {
      "text/plain": "   PassengerId  Pclass                                          Name     Sex  \\\n0          892       3                              Kelly, Mr. James    male   \n1          893       3              Wilkes, Mrs. James (Ellen Needs)  female   \n2          894       2                     Myles, Mr. Thomas Francis    male   \n3          895       3                              Wirz, Mr. Albert    male   \n4          896       3  Hirvonen, Mrs. Alexander (Helga E Lindqvist)  female   \n\n    Age  SibSp  Parch   Ticket     Fare Cabin Embarked  \n0  34.5      0      0   330911   7.8292   NaN        Q  \n1  47.0      1      0   363272   7.0000   NaN        S  \n2  62.0      0      0   240276   9.6875   NaN        Q  \n3  27.0      0      0   315154   8.6625   NaN        S  \n4  22.0      1      1  3101298  12.2875   NaN        S  ",
      "text/html": "<div>\n<style scoped>\n    .dataframe tbody tr th:only-of-type {\n        vertical-align: middle;\n    }\n\n    .dataframe tbody tr th {\n        vertical-align: top;\n    }\n\n    .dataframe thead th {\n        text-align: right;\n    }\n</style>\n<table border=\"1\" class=\"dataframe\">\n  <thead>\n    <tr style=\"text-align: right;\">\n      <th></th>\n      <th>PassengerId</th>\n      <th>Pclass</th>\n      <th>Name</th>\n      <th>Sex</th>\n      <th>Age</th>\n      <th>SibSp</th>\n      <th>Parch</th>\n      <th>Ticket</th>\n      <th>Fare</th>\n      <th>Cabin</th>\n      <th>Embarked</th>\n    </tr>\n  </thead>\n  <tbody>\n    <tr>\n      <th>0</th>\n      <td>892</td>\n      <td>3</td>\n      <td>Kelly, Mr. James</td>\n      <td>male</td>\n      <td>34.5</td>\n      <td>0</td>\n      <td>0</td>\n      <td>330911</td>\n      <td>7.8292</td>\n      <td>NaN</td>\n      <td>Q</td>\n    </tr>\n    <tr>\n      <th>1</th>\n      <td>893</td>\n      <td>3</td>\n      <td>Wilkes, Mrs. James (Ellen Needs)</td>\n      <td>female</td>\n      <td>47.0</td>\n      <td>1</td>\n      <td>0</td>\n      <td>363272</td>\n      <td>7.0000</td>\n      <td>NaN</td>\n      <td>S</td>\n    </tr>\n    <tr>\n      <th>2</th>\n      <td>894</td>\n      <td>2</td>\n      <td>Myles, Mr. Thomas Francis</td>\n      <td>male</td>\n      <td>62.0</td>\n      <td>0</td>\n      <td>0</td>\n      <td>240276</td>\n      <td>9.6875</td>\n      <td>NaN</td>\n      <td>Q</td>\n    </tr>\n    <tr>\n      <th>3</th>\n      <td>895</td>\n      <td>3</td>\n      <td>Wirz, Mr. Albert</td>\n      <td>male</td>\n      <td>27.0</td>\n      <td>0</td>\n      <td>0</td>\n      <td>315154</td>\n      <td>8.6625</td>\n      <td>NaN</td>\n      <td>S</td>\n    </tr>\n    <tr>\n      <th>4</th>\n      <td>896</td>\n      <td>3</td>\n      <td>Hirvonen, Mrs. Alexander (Helga E Lindqvist)</td>\n      <td>female</td>\n      <td>22.0</td>\n      <td>1</td>\n      <td>1</td>\n      <td>3101298</td>\n      <td>12.2875</td>\n      <td>NaN</td>\n      <td>S</td>\n    </tr>\n  </tbody>\n</table>\n</div>"
     },
     "execution_count": 63,
     "metadata": {},
     "output_type": "execute_result"
    }
   ]
  },
  {
   "cell_type": "code",
   "source": [
    "test_data.isnull().sum()"
   ],
   "metadata": {
    "execution": {
     "iopub.execute_input": "2023-02-25T10:28:25.625787Z",
     "iopub.status.busy": "2023-02-25T10:28:25.624801Z",
     "iopub.status.idle": "2023-02-25T10:28:25.629704Z",
     "shell.execute_reply": "2023-02-25T10:28:25.629097Z",
     "shell.execute_reply.started": "2022-03-14T09:14:50.131209Z"
    },
    "papermill": {
     "duration": 0.087513,
     "end_time": "2023-02-25T10:28:25.62986",
     "exception": false,
     "start_time": "2023-02-25T10:28:25.542347",
     "status": "completed"
    },
    "tags": []
   },
   "execution_count": 64,
   "outputs": [
    {
     "data": {
      "text/plain": "PassengerId      0\nPclass           0\nName             0\nSex              0\nAge             86\nSibSp            0\nParch            0\nTicket           0\nFare             1\nCabin          327\nEmbarked         0\ndtype: int64"
     },
     "execution_count": 64,
     "metadata": {},
     "output_type": "execute_result"
    }
   ]
  },
  {
   "cell_type": "code",
   "source": [
    "test_data['Age']=test_data[['Age','Pclass']].apply(add_age,axis=1)"
   ],
   "metadata": {
    "execution": {
     "iopub.execute_input": "2023-02-25T10:28:25.782431Z",
     "iopub.status.busy": "2023-02-25T10:28:25.780901Z",
     "iopub.status.idle": "2023-02-25T10:28:25.847969Z",
     "shell.execute_reply": "2023-02-25T10:28:25.848481Z",
     "shell.execute_reply.started": "2022-03-14T09:14:50.145146Z"
    },
    "papermill": {
     "duration": 0.143955,
     "end_time": "2023-02-25T10:28:25.848681",
     "exception": false,
     "start_time": "2023-02-25T10:28:25.704726",
     "status": "completed"
    },
    "tags": []
   },
   "execution_count": 65,
   "outputs": []
  },
  {
   "cell_type": "code",
   "source": [
    "test_data['Fare']=test_data['Fare'].fillna(test_data['Fare'].median())"
   ],
   "metadata": {
    "execution": {
     "iopub.execute_input": "2023-02-25T10:28:25.993567Z",
     "iopub.status.busy": "2023-02-25T10:28:25.992599Z",
     "iopub.status.idle": "2023-02-25T10:28:25.996435Z",
     "shell.execute_reply": "2023-02-25T10:28:25.995306Z",
     "shell.execute_reply.started": "2022-03-14T09:14:50.208102Z"
    },
    "papermill": {
     "duration": 0.078612,
     "end_time": "2023-02-25T10:28:25.996638",
     "exception": false,
     "start_time": "2023-02-25T10:28:25.918026",
     "status": "completed"
    },
    "tags": []
   },
   "execution_count": 66,
   "outputs": []
  },
  {
   "cell_type": "code",
   "source": [
    "test_data.Sex=test_data.Sex.map({'female':0, 'male':1})\n",
    "test_data.Embarked=test_data.Embarked.map({'S':0, 'C':1, 'Q':2, 'nan':'NaN'})"
   ],
   "metadata": {
    "execution": {
     "iopub.execute_input": "2023-02-25T10:28:26.148323Z",
     "iopub.status.busy": "2023-02-25T10:28:26.146583Z",
     "iopub.status.idle": "2023-02-25T10:28:26.151856Z",
     "shell.execute_reply": "2023-02-25T10:28:26.151283Z",
     "shell.execute_reply.started": "2022-03-14T09:14:50.215215Z"
    },
    "papermill": {
     "duration": 0.084246,
     "end_time": "2023-02-25T10:28:26.152019",
     "exception": false,
     "start_time": "2023-02-25T10:28:26.067773",
     "status": "completed"
    },
    "tags": []
   },
   "execution_count": 67,
   "outputs": []
  },
  {
   "cell_type": "code",
   "source": [
    "min_age1=min(test_data.Age)\n",
    "max_age1=max(test_data.Age)\n",
    "min_fare1=min(test_data.Fare)\n",
    "max_fare1=max(test_data.Fare)"
   ],
   "metadata": {
    "execution": {
     "iopub.execute_input": "2023-02-25T10:28:26.305931Z",
     "iopub.status.busy": "2023-02-25T10:28:26.304891Z",
     "iopub.status.idle": "2023-02-25T10:28:26.30726Z",
     "shell.execute_reply": "2023-02-25T10:28:26.307939Z",
     "shell.execute_reply.started": "2022-03-14T09:14:50.230335Z"
    },
    "papermill": {
     "duration": 0.083559,
     "end_time": "2023-02-25T10:28:26.308126",
     "exception": false,
     "start_time": "2023-02-25T10:28:26.224567",
     "status": "completed"
    },
    "tags": []
   },
   "execution_count": 68,
   "outputs": []
  },
  {
   "cell_type": "code",
   "source": [
    "test_data.Age = (test_data.Age-min_age1)/(max_age1-min_age1)\n",
    "test_data.Fare = (test_data.Fare-min_fare1)/(max_fare1-min_fare1)"
   ],
   "metadata": {
    "execution": {
     "iopub.execute_input": "2023-02-25T10:28:26.456057Z",
     "iopub.status.busy": "2023-02-25T10:28:26.451153Z",
     "iopub.status.idle": "2023-02-25T10:28:26.458175Z",
     "shell.execute_reply": "2023-02-25T10:28:26.458779Z",
     "shell.execute_reply.started": "2022-03-14T09:14:50.243651Z"
    },
    "papermill": {
     "duration": 0.083359,
     "end_time": "2023-02-25T10:28:26.458969",
     "exception": false,
     "start_time": "2023-02-25T10:28:26.37561",
     "status": "completed"
    },
    "tags": []
   },
   "execution_count": 69,
   "outputs": []
  },
  {
   "cell_type": "code",
   "source": [
    "test_data.drop(['Cabin','PassengerId','Name','Ticket'],axis=1,inplace=True)"
   ],
   "metadata": {
    "execution": {
     "iopub.execute_input": "2023-02-25T10:28:26.608298Z",
     "iopub.status.busy": "2023-02-25T10:28:26.607609Z",
     "iopub.status.idle": "2023-02-25T10:28:26.60908Z",
     "shell.execute_reply": "2023-02-25T10:28:26.609729Z",
     "shell.execute_reply.started": "2022-03-14T09:14:50.260822Z"
    },
    "papermill": {
     "duration": 0.080425,
     "end_time": "2023-02-25T10:28:26.609918",
     "exception": false,
     "start_time": "2023-02-25T10:28:26.529493",
     "status": "completed"
    },
    "tags": []
   },
   "execution_count": 70,
   "outputs": []
  },
  {
   "cell_type": "code",
   "source": [
    "test_data.isnull().sum()"
   ],
   "metadata": {
    "execution": {
     "iopub.execute_input": "2023-02-25T10:28:26.765269Z",
     "iopub.status.busy": "2023-02-25T10:28:26.764569Z",
     "iopub.status.idle": "2023-02-25T10:28:26.771767Z",
     "shell.execute_reply": "2023-02-25T10:28:26.772288Z",
     "shell.execute_reply.started": "2022-03-14T09:14:50.273725Z"
    },
    "papermill": {
     "duration": 0.08745,
     "end_time": "2023-02-25T10:28:26.772486",
     "exception": false,
     "start_time": "2023-02-25T10:28:26.685036",
     "status": "completed"
    },
    "tags": []
   },
   "execution_count": 71,
   "outputs": [
    {
     "data": {
      "text/plain": "Pclass      0\nSex         0\nAge         0\nSibSp       0\nParch       0\nFare        0\nEmbarked    0\ndtype: int64"
     },
     "execution_count": 71,
     "metadata": {},
     "output_type": "execute_result"
    }
   ]
  },
  {
   "cell_type": "code",
   "source": [
    "test_data.head()"
   ],
   "metadata": {
    "execution": {
     "iopub.execute_input": "2023-02-25T10:28:26.921395Z",
     "iopub.status.busy": "2023-02-25T10:28:26.920497Z",
     "iopub.status.idle": "2023-02-25T10:28:26.933221Z",
     "shell.execute_reply": "2023-02-25T10:28:26.933927Z",
     "shell.execute_reply.started": "2022-03-14T09:14:50.290027Z"
    },
    "papermill": {
     "duration": 0.08774,
     "end_time": "2023-02-25T10:28:26.934136",
     "exception": false,
     "start_time": "2023-02-25T10:28:26.846396",
     "status": "completed"
    },
    "tags": []
   },
   "execution_count": 72,
   "outputs": [
    {
     "data": {
      "text/plain": "   Pclass  Sex       Age  SibSp  Parch      Fare Embarked\n0       3    1  0.452723      0      0  0.015282        2\n1       3    0  0.617566      1      0  0.013663        0\n2       2    1  0.815377      0      0  0.018909        2\n3       3    1  0.353818      0      0  0.016908        0\n4       3    0  0.287881      1      1  0.023984        0",
      "text/html": "<div>\n<style scoped>\n    .dataframe tbody tr th:only-of-type {\n        vertical-align: middle;\n    }\n\n    .dataframe tbody tr th {\n        vertical-align: top;\n    }\n\n    .dataframe thead th {\n        text-align: right;\n    }\n</style>\n<table border=\"1\" class=\"dataframe\">\n  <thead>\n    <tr style=\"text-align: right;\">\n      <th></th>\n      <th>Pclass</th>\n      <th>Sex</th>\n      <th>Age</th>\n      <th>SibSp</th>\n      <th>Parch</th>\n      <th>Fare</th>\n      <th>Embarked</th>\n    </tr>\n  </thead>\n  <tbody>\n    <tr>\n      <th>0</th>\n      <td>3</td>\n      <td>1</td>\n      <td>0.452723</td>\n      <td>0</td>\n      <td>0</td>\n      <td>0.015282</td>\n      <td>2</td>\n    </tr>\n    <tr>\n      <th>1</th>\n      <td>3</td>\n      <td>0</td>\n      <td>0.617566</td>\n      <td>1</td>\n      <td>0</td>\n      <td>0.013663</td>\n      <td>0</td>\n    </tr>\n    <tr>\n      <th>2</th>\n      <td>2</td>\n      <td>1</td>\n      <td>0.815377</td>\n      <td>0</td>\n      <td>0</td>\n      <td>0.018909</td>\n      <td>2</td>\n    </tr>\n    <tr>\n      <th>3</th>\n      <td>3</td>\n      <td>1</td>\n      <td>0.353818</td>\n      <td>0</td>\n      <td>0</td>\n      <td>0.016908</td>\n      <td>0</td>\n    </tr>\n    <tr>\n      <th>4</th>\n      <td>3</td>\n      <td>0</td>\n      <td>0.287881</td>\n      <td>1</td>\n      <td>1</td>\n      <td>0.023984</td>\n      <td>0</td>\n    </tr>\n  </tbody>\n</table>\n</div>"
     },
     "execution_count": 72,
     "metadata": {},
     "output_type": "execute_result"
    }
   ]
  },
  {
   "cell_type": "markdown",
   "source": [
    "#### Prediction"
   ],
   "metadata": {
    "papermill": {
     "duration": 0.076348,
     "end_time": "2023-02-25T10:28:27.083661",
     "exception": false,
     "start_time": "2023-02-25T10:28:27.007313",
     "status": "completed"
    },
    "tags": []
   }
  },
  {
   "cell_type": "code",
   "execution_count": 81,
   "outputs": [],
   "source": [
    "pd.get_dummies?"
   ],
   "metadata": {
    "collapsed": false
   }
  },
  {
   "cell_type": "code",
   "source": [
    "prediction=model.predict(test_data)"
   ],
   "metadata": {
    "execution": {
     "iopub.execute_input": "2023-02-25T10:28:27.236232Z",
     "iopub.status.busy": "2023-02-25T10:28:27.235168Z",
     "iopub.status.idle": "2023-02-25T10:28:27.243586Z",
     "shell.execute_reply": "2023-02-25T10:28:27.244201Z",
     "shell.execute_reply.started": "2022-03-14T09:14:50.309252Z"
    },
    "papermill": {
     "duration": 0.086484,
     "end_time": "2023-02-25T10:28:27.244423",
     "exception": false,
     "start_time": "2023-02-25T10:28:27.157939",
     "status": "completed"
    },
    "tags": []
   },
   "execution_count": 73,
   "outputs": []
  },
  {
   "cell_type": "code",
   "source": [
    "test=pd.read_csv(\"data/test.csv\")"
   ],
   "metadata": {
    "execution": {
     "iopub.execute_input": "2023-02-25T10:28:27.400286Z",
     "iopub.status.busy": "2023-02-25T10:28:27.399343Z",
     "iopub.status.idle": "2023-02-25T10:28:27.408607Z",
     "shell.execute_reply": "2023-02-25T10:28:27.409155Z",
     "shell.execute_reply.started": "2022-03-14T09:14:50.33243Z"
    },
    "papermill": {
     "duration": 0.090567,
     "end_time": "2023-02-25T10:28:27.409367",
     "exception": false,
     "start_time": "2023-02-25T10:28:27.3188",
     "status": "completed"
    },
    "tags": []
   },
   "execution_count": 75,
   "outputs": []
  },
  {
   "cell_type": "code",
   "source": [
    "prediction"
   ],
   "metadata": {
    "execution": {
     "iopub.execute_input": "2023-02-25T10:28:27.567385Z",
     "iopub.status.busy": "2023-02-25T10:28:27.564631Z",
     "iopub.status.idle": "2023-02-25T10:28:27.572749Z",
     "shell.execute_reply": "2023-02-25T10:28:27.57219Z",
     "shell.execute_reply.started": "2022-03-14T09:14:50.350436Z"
    },
    "papermill": {
     "duration": 0.090821,
     "end_time": "2023-02-25T10:28:27.572908",
     "exception": false,
     "start_time": "2023-02-25T10:28:27.482087",
     "status": "completed"
    },
    "tags": []
   },
   "execution_count": 78,
   "outputs": [
    {
     "data": {
      "text/plain": "array([0, 0, 0, 0, 1, 0, 1, 0, 1, 0, 0, 0, 1, 0, 1, 1, 0, 0, 0, 0, 0, 0,\n       1, 1, 1, 0, 1, 0, 0, 0, 0, 0, 0, 1, 0, 0, 1, 1, 0, 0, 0, 1, 0, 1,\n       1, 0, 0, 0, 1, 1, 0, 0, 1, 1, 1, 0, 0, 0, 0, 1, 0, 0, 0, 1, 1, 1,\n       1, 0, 1, 1, 1, 0, 1, 1, 1, 1, 0, 1, 0, 1, 0, 0, 0, 0, 1, 0, 1, 1,\n       1, 0, 1, 0, 1, 0, 1, 0, 1, 0, 1, 0, 1, 0, 0, 0, 1, 0, 0, 0, 0, 0,\n       0, 1, 1, 1, 1, 0, 0, 1, 0, 1, 1, 0, 1, 0, 0, 1, 0, 1, 0, 0, 0, 0,\n       1, 0, 0, 0, 0, 0, 1, 0, 0, 1, 0, 0, 0, 0, 1, 0, 1, 0, 1, 0, 0, 1,\n       0, 0, 1, 1, 0, 1, 1, 0, 1, 0, 0, 1, 0, 0, 1, 1, 0, 0, 0, 0, 0, 1,\n       1, 0, 1, 1, 0, 0, 1, 0, 1, 0, 1, 0, 0, 0, 0, 1, 0, 0, 0, 0, 1, 1,\n       0, 1, 1, 0, 0, 1, 0, 1, 1, 0, 1, 0, 0, 0, 0, 0, 0, 0, 1, 0, 1, 0,\n       1, 0, 1, 0, 1, 1, 0, 1, 0, 0, 0, 1, 0, 0, 0, 0, 0, 0, 1, 1, 1, 1,\n       0, 0, 0, 0, 1, 0, 1, 1, 1, 0, 1, 0, 0, 0, 0, 0, 1, 0, 0, 0, 1, 1,\n       0, 0, 1, 0, 1, 0, 0, 0, 1, 1, 0, 1, 0, 0, 0, 0, 1, 0, 1, 1, 1, 0,\n       0, 0, 0, 0, 1, 1, 0, 0, 0, 0, 1, 0, 0, 0, 0, 1, 0, 0, 1, 1, 0, 0,\n       0, 0, 0, 0, 0, 1, 1, 1, 0, 0, 0, 0, 0, 0, 0, 0, 1, 0, 1, 0, 0, 0,\n       1, 0, 0, 1, 0, 0, 0, 0, 0, 0, 0, 0, 0, 1, 0, 1, 0, 1, 0, 1, 1, 0,\n       0, 0, 1, 0, 1, 0, 0, 0, 0, 1, 1, 0, 1, 1, 0, 1, 1, 0, 0, 1, 0, 0,\n       1, 1, 0, 0, 0, 0, 0, 0, 1, 1, 0, 1, 0, 0, 0, 0, 1, 1, 0, 0, 0, 1,\n       0, 1, 0, 0, 1, 0, 1, 1, 0, 0, 0, 0, 1, 1, 1, 1, 1, 0, 1, 0, 0, 0])"
     },
     "execution_count": 78,
     "metadata": {},
     "output_type": "execute_result"
    }
   ]
  },
  {
   "cell_type": "code",
   "source": [
    "submission = pd.DataFrame({\"PassengerId\": test[\"PassengerId\"],\"Survived\": prediction})\n",
    "submission.to_csv('submission.csv', index=False)"
   ],
   "metadata": {
    "execution": {
     "iopub.execute_input": "2023-02-25T10:28:27.728234Z",
     "iopub.status.busy": "2023-02-25T10:28:27.726711Z",
     "iopub.status.idle": "2023-02-25T10:28:27.733978Z",
     "shell.execute_reply": "2023-02-25T10:28:27.734519Z",
     "shell.execute_reply.started": "2022-03-14T09:14:50.361141Z"
    },
    "papermill": {
     "duration": 0.087112,
     "end_time": "2023-02-25T10:28:27.734725",
     "exception": false,
     "start_time": "2023-02-25T10:28:27.647613",
     "status": "completed"
    },
    "tags": []
   },
   "execution_count": 77,
   "outputs": []
  }
 ]
}
