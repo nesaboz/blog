{
 "cells": [
  {
   "attachments": {},
   "cell_type": "markdown",
   "metadata": {},
   "source": [
    "# `copy` module"
   ]
  },
  {
   "cell_type": "code",
   "execution_count": 60,
   "metadata": {},
   "outputs": [],
   "source": [
    "import copy"
   ]
  },
  {
   "cell_type": "code",
   "execution_count": 61,
   "metadata": {},
   "outputs": [],
   "source": [
    "class Something():\n",
    "    a = 1\n",
    "    def __init__(self):        \n",
    "        self.b = 1\n",
    "        self._value = 1\n",
    "        self.list = [1,1,1]\n",
    "\n",
    "    @property\n",
    "    def value(self):\n",
    "        return self._value\n",
    "    \n",
    "    @value.setter\n",
    "    def value(self, value):\n",
    "        self._value = value\n"
   ]
  },
  {
   "attachments": {},
   "cell_type": "markdown",
   "metadata": {},
   "source": [
    "Let's just assing a new variable `p=s`, this will not make a copy at all:"
   ]
  },
  {
   "cell_type": "code",
   "execution_count": 62,
   "metadata": {},
   "outputs": [],
   "source": [
    "s = Something()\n",
    "p = s"
   ]
  },
  {
   "cell_type": "code",
   "execution_count": 66,
   "metadata": {},
   "outputs": [],
   "source": [
    "def change_and_print(p, s):\n",
    "    print('s is initially:', s.a, s.b, s.value, s.list)\n",
    "    p.a = 10\n",
    "    p.b = 10\n",
    "    p.value = 10\n",
    "    p.list.append(10)\n",
    "    print('p is:          ', p.a, p.b, p.value, p.list)\n",
    "    print('s is now:      ', s.a, s.b, s.value, s.list)\n",
    "    print('s id:', id(s))\n",
    "    print('s id:', id(p))"
   ]
  },
  {
   "cell_type": "code",
   "execution_count": 67,
   "metadata": {},
   "outputs": [
    {
     "name": "stdout",
     "output_type": "stream",
     "text": [
      "s is initially: 1 1 1 [1, 1, 1, 10]\n",
      "p is:           10 10 10 [1, 1, 1, 10, 10]\n",
      "s is now:       1 1 1 [1, 1, 1, 10, 10]\n",
      "s id: 140382688560800\n",
      "s id: 140382688559504\n"
     ]
    }
   ],
   "source": [
    "change_and_print(p, s)"
   ]
  },
  {
   "attachments": {},
   "cell_type": "markdown",
   "metadata": {},
   "source": [
    "So all variables are identical, no surprise since `id` is the same:"
   ]
  },
  {
   "attachments": {},
   "cell_type": "markdown",
   "metadata": {},
   "source": [
    "Let's now make a copy (aka shallow copy):"
   ]
  },
  {
   "cell_type": "code",
   "execution_count": 68,
   "metadata": {},
   "outputs": [
    {
     "name": "stdout",
     "output_type": "stream",
     "text": [
      "s is initially: 1 1 1 [1, 1, 1]\n",
      "p is:           10 10 10 [1, 1, 1, 10]\n",
      "s is now:       1 1 1 [1, 1, 1, 10]\n",
      "s id: 140382687176176\n",
      "s id: 140382687180400\n"
     ]
    }
   ],
   "source": [
    "s = Something()\n",
    "p = copy.copy(s)\n",
    "change_and_print(p, s)"
   ]
  },
  {
   "attachments": {},
   "cell_type": "markdown",
   "metadata": {},
   "source": [
    "So we see that non-list variables are now copied, but `list` variable is still just referenced, and can be changed. As [this](https://www.programiz.com/python-programming/shallow-deep-copy#:~:text=Copy%20an%20Object%20in%20Python,reference%20of%20the%20original%20object.) website puts it: \"a shallow copy doesn't create a copy of nested objects, instead it just copies the reference of nested objects. This means, a copy process does not recurse or create copies of nested objects itself.\". `id`-s are now different."
   ]
  },
  {
   "cell_type": "code",
   "execution_count": 69,
   "metadata": {},
   "outputs": [
    {
     "name": "stdout",
     "output_type": "stream",
     "text": [
      "1 1 1 [1, 1, 1]\n",
      "s is initially: 1 1 1 [1, 1, 1]\n",
      "p is:           10 10 10 [1, 1, 1, 10]\n",
      "s is now:       1 1 1 [1, 1, 1]\n",
      "s id: 140382687179728\n",
      "s id: 140382688522352\n"
     ]
    }
   ],
   "source": [
    "s = Something()\n",
    "print(s.a, s.b, s.value, s.list)\n",
    "p = copy.deepcopy(s)\n",
    "change_and_print(p, s)"
   ]
  }
 ],
 "metadata": {
  "kernelspec": {
   "display_name": "cs231n",
   "language": "python",
   "name": "cs231n"
  },
  "language_info": {
   "codemirror_mode": {
    "name": "ipython",
    "version": 3
   },
   "file_extension": ".py",
   "mimetype": "text/x-python",
   "name": "python",
   "nbconvert_exporter": "python",
   "pygments_lexer": "ipython3",
   "version": "3.10.9"
  },
  "orig_nbformat": 4
 },
 "nbformat": 4,
 "nbformat_minor": 2
}
