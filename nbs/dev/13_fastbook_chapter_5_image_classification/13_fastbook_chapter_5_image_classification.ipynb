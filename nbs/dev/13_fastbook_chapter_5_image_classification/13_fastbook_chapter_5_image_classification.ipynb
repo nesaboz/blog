{
 "cells": [
  {
   "cell_type": "markdown",
   "metadata": {
    "collapsed": false
   },
   "source": [
    "# Image Classification"
   ]
  },
  {
   "cell_type": "markdown",
   "metadata": {
    "collapsed": false
   },
   "source": [
    "Let's first download the data:"
   ]
  },
  {
   "cell_type": "code",
   "execution_count": 14,
   "metadata": {
    "collapsed": false,
    "vscode": {
     "languageId": "python"
    }
   },
   "outputs": [
    {
     "name": "stdout",
     "output_type": "stream",
     "text": [
      "Requirement already satisfied: nbdev in /usr/local/lib/python3.9/dist-packages (2.3.12)\n",
      "Requirement already satisfied: fastcore>=1.5.27 in /usr/local/lib/python3.9/dist-packages (from nbdev) (1.5.27)\n",
      "Requirement already satisfied: watchdog in /usr/local/lib/python3.9/dist-packages (from nbdev) (2.3.1)\n",
      "Requirement already satisfied: PyYAML in /usr/lib/python3/dist-packages (from nbdev) (5.3.1)\n",
      "Requirement already satisfied: execnb>=0.1.4 in /usr/local/lib/python3.9/dist-packages (from nbdev) (0.1.5)\n",
      "Requirement already satisfied: asttokens in /usr/local/lib/python3.9/dist-packages (from nbdev) (2.0.5)\n",
      "Requirement already satisfied: ghapi>=1.0.3 in /usr/local/lib/python3.9/dist-packages (from nbdev) (1.0.3)\n",
      "Requirement already satisfied: astunparse in /usr/local/lib/python3.9/dist-packages (from nbdev) (1.6.3)\n",
      "Requirement already satisfied: ipython in /usr/local/lib/python3.9/dist-packages (from execnb>=0.1.4->nbdev) (8.4.0)\n",
      "Requirement already satisfied: pip in /usr/local/lib/python3.9/dist-packages (from fastcore>=1.5.27->nbdev) (22.2.2)\n",
      "Requirement already satisfied: packaging in /usr/local/lib/python3.9/dist-packages (from fastcore>=1.5.27->nbdev) (21.3)\n",
      "Requirement already satisfied: six in /usr/lib/python3/dist-packages (from asttokens->nbdev) (1.14.0)\n",
      "Requirement already satisfied: wheel<1.0,>=0.23.0 in /usr/local/lib/python3.9/dist-packages (from astunparse->nbdev) (0.35.1)\n",
      "Requirement already satisfied: pickleshare in /usr/local/lib/python3.9/dist-packages (from ipython->execnb>=0.1.4->nbdev) (0.7.5)\n",
      "Requirement already satisfied: traitlets>=5 in /usr/local/lib/python3.9/dist-packages (from ipython->execnb>=0.1.4->nbdev) (5.3.0)\n",
      "Requirement already satisfied: stack-data in /usr/local/lib/python3.9/dist-packages (from ipython->execnb>=0.1.4->nbdev) (0.3.0)\n",
      "Requirement already satisfied: jedi>=0.16 in /usr/local/lib/python3.9/dist-packages (from ipython->execnb>=0.1.4->nbdev) (0.18.1)\n",
      "Requirement already satisfied: pygments>=2.4.0 in /usr/local/lib/python3.9/dist-packages (from ipython->execnb>=0.1.4->nbdev) (2.12.0)\n",
      "Requirement already satisfied: matplotlib-inline in /usr/local/lib/python3.9/dist-packages (from ipython->execnb>=0.1.4->nbdev) (0.1.3)\n",
      "Requirement already satisfied: prompt-toolkit!=3.0.0,!=3.0.1,<3.1.0,>=2.0.0 in /usr/local/lib/python3.9/dist-packages (from ipython->execnb>=0.1.4->nbdev) (3.0.30)\n",
      "Requirement already satisfied: setuptools>=18.5 in /usr/local/lib/python3.9/dist-packages (from ipython->execnb>=0.1.4->nbdev) (63.1.0)\n",
      "Requirement already satisfied: pexpect>4.3 in /usr/local/lib/python3.9/dist-packages (from ipython->execnb>=0.1.4->nbdev) (4.8.0)\n",
      "Requirement already satisfied: backcall in /usr/local/lib/python3.9/dist-packages (from ipython->execnb>=0.1.4->nbdev) (0.2.0)\n",
      "Requirement already satisfied: decorator in /usr/local/lib/python3.9/dist-packages (from ipython->execnb>=0.1.4->nbdev) (5.1.1)\n",
      "Requirement already satisfied: pyparsing!=3.0.5,>=2.0.2 in /usr/local/lib/python3.9/dist-packages (from packaging->fastcore>=1.5.27->nbdev) (3.0.9)\n",
      "Requirement already satisfied: parso<0.9.0,>=0.8.0 in /usr/local/lib/python3.9/dist-packages (from jedi>=0.16->ipython->execnb>=0.1.4->nbdev) (0.8.3)\n",
      "Requirement already satisfied: ptyprocess>=0.5 in /usr/local/lib/python3.9/dist-packages (from pexpect>4.3->ipython->execnb>=0.1.4->nbdev) (0.7.0)\n",
      "Requirement already satisfied: wcwidth in /usr/local/lib/python3.9/dist-packages (from prompt-toolkit!=3.0.0,!=3.0.1,<3.1.0,>=2.0.0->ipython->execnb>=0.1.4->nbdev) (0.2.5)\n",
      "Requirement already satisfied: executing in /usr/local/lib/python3.9/dist-packages (from stack-data->ipython->execnb>=0.1.4->nbdev) (0.8.3)\n",
      "Requirement already satisfied: pure-eval in /usr/local/lib/python3.9/dist-packages (from stack-data->ipython->execnb>=0.1.4->nbdev) (0.2.2)\n",
      "\u001b[33mWARNING: Running pip as the 'root' user can result in broken permissions and conflicting behaviour with the system package manager. It is recommended to use a virtual environment instead: https://pip.pypa.io/warnings/venv\u001b[0m\u001b[33m\n",
      "\u001b[0m"
     ]
    }
   ],
   "source": [
    "#| hide\n",
    "!pip install nbdev"
   ]
  },
  {
   "cell_type": "code",
   "execution_count": 1,
   "metadata": {
    "vscode": {
     "languageId": "python"
    }
   },
   "outputs": [],
   "source": [
    "from fastai.vision.all import *"
   ]
  },
  {
   "cell_type": "code",
   "execution_count": 8,
   "metadata": {
    "collapsed": false,
    "vscode": {
     "languageId": "python"
    }
   },
   "outputs": [
    {
     "data": {
      "text/html": [
       "\n",
       "    <div>\n",
       "      <progress value='811712512' class='' max='811706944' style='width:300px; height:20px; vertical-align: middle;'></progress>\n",
       "      100.00% [811712512/811706944 00:17&lt;00:00]\n",
       "    </div>\n",
       "    "
      ],
      "text/plain": [
       "<IPython.core.display.HTML object>"
      ]
     },
     "metadata": {},
     "output_type": "display_data"
    }
   ],
   "source": [
    "path = untar_data(URLs.PETS, archive='/notebooks/pera')"
   ]
  },
  {
   "cell_type": "code",
   "execution_count": 18,
   "metadata": {
    "vscode": {
     "languageId": "python"
    }
   },
   "outputs": [
    {
     "data": {
      "text/plain": [
       "(#7393) [Path('/root/.fastai/data/oxford-iiit-pet/images/american_bulldog_56.jpg'),Path('/root/.fastai/data/oxford-iiit-pet/images/Siamese_61.jpg'),Path('/root/.fastai/data/oxford-iiit-pet/images/english_cocker_spaniel_66.jpg'),Path('/root/.fastai/data/oxford-iiit-pet/images/shiba_inu_55.jpg'),Path('/root/.fastai/data/oxford-iiit-pet/images/scottish_terrier_68.jpg'),Path('/root/.fastai/data/oxford-iiit-pet/images/Abyssinian_153.jpg'),Path('/root/.fastai/data/oxford-iiit-pet/images/Ragdoll_57.jpg'),Path('/root/.fastai/data/oxford-iiit-pet/images/pug_182.jpg'),Path('/root/.fastai/data/oxford-iiit-pet/images/Siamese_182.jpg'),Path('/root/.fastai/data/oxford-iiit-pet/images/newfoundland_100.jpg')...]"
      ]
     },
     "execution_count": 18,
     "metadata": {},
     "output_type": "execute_result"
    }
   ],
   "source": [
    "(path/\"images\").ls()\n"
   ]
  },
  {
   "cell_type": "code",
   "execution_count": null,
   "metadata": {
    "vscode": {
     "languageId": "python"
    }
   },
   "outputs": [],
   "source": []
  },
  {
   "cell_type": "markdown",
   "metadata": {
    "collapsed": false
   },
   "source": []
  }
 ],
 "metadata": {
  "kernelspec": {
   "display_name": "Python 3 (ipykernel)",
   "language": "python",
   "name": "python3"
  },
  "vscode": {
   "interpreter": {
    "hash": "dc33d1bc04d8bf3140c0c2acc7d3f386ef31af7a810d4da0f6de530a4cc16a7a"
   }
  }
 },
 "nbformat": 4,
 "nbformat_minor": 0
}
