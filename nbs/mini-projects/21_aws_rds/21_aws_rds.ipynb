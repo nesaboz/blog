{
 "cells": [
  {
   "cell_type": "markdown",
   "metadata": {},
   "source": [
    "# Amazon RDS"
   ]
  },
  {
   "cell_type": "markdown",
   "metadata": {},
   "source": [
    "Before we can start working with RDS, we'll have to set up other resources that are required while creating an RDS DB instance. The first of those resources is VPC (virtual private cloud). An RDS DB instance must be created inside a VPC. This is to enhance security and provide network isolation. "
   ]
  },
  {
   "cell_type": "markdown",
   "metadata": {},
   "source": [
    "### Set up VPC"
   ]
  },
  {
   "cell_type": "markdown",
   "metadata": {},
   "source": [
    "Name will autotag `-vpc`. Set \"Number of Availability Zones (AZs)\". \"None\" for the \"VPC\" endpoints."
   ]
  },
  {
   "cell_type": "markdown",
   "metadata": {},
   "source": [
    "### Set up RDS\n",
    "\n",
    "From the \"Templates\" section, select the \"Dev/Test\" option because it'll allow you to select the deployment options.\n",
    "Choose: \"Single DB instance\", \"Multi-AZ DB instance\", or \"Multi-AZ DB cluster\"\n",
    "Burstable classes (includes t classes)\n"
   ]
  },
  {
   "cell_type": "markdown",
   "metadata": {},
   "source": [
    "### Set up EC2\n",
    "This is straightforward. Just make sure to have RDS-client-key-pair.pem.\n",
    "\n"
   ]
  },
  {
   "cell_type": "markdown",
   "metadata": {},
   "source": [
    "### Connect"
   ]
  },
  {
   "cell_type": "markdown",
   "metadata": {},
   "source": [
    "\n",
    "```zsh\n",
    "chmod 400 usercode/RDS-client-key-pair.pem\n",
    "ssh -i usercode/RDS-client-key-pair.pem ubuntu@{public-ipv4-address}\n",
    "sudo apt update\n",
    "sudo apt install mysql-client-core-8.0\n",
    "mysql -h {endpoint} -P 3306 -u admin -p\n",
    "aws rds describe-db-instances --db-instance-identifier mysql8\n",
    "```"
   ]
  }
 ],
 "metadata": {
  "language_info": {
   "name": "python"
  }
 },
 "nbformat": 4,
 "nbformat_minor": 2
}
