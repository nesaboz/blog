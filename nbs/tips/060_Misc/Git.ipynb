{
 "cells": [
  {
   "cell_type": "markdown",
   "metadata": {},
   "source": [
    "# Git"
   ]
  },
  {
   "cell_type": "markdown",
   "metadata": {},
   "source": [
    "`.gitignore` file (no extension) example:\n",
    "```\n",
    "/data/*\n",
    "/.idea/*\n",
    "/.pytest_cache/*\n",
    "/.ipynb_checkpoints/*\n",
    "/pycode/.ipynb_checkpoints/*\n",
    "```"
   ]
  },
  {
   "cell_type": "markdown",
   "metadata": {},
   "source": [
    "When pushing from a remote server, user is asked for username/password. Instead of a password, provide a [token](https://docs.github.com/en/get-started/getting-started-with-git/about-remote-repositories#cloning-with-https-urls), that can be generated like [this](https://docs.github.com/en/authentication/keeping-your-account-and-data-secure/creating-a-personal-access-token)."
   ]
  },
  {
   "cell_type": "markdown",
   "metadata": {},
   "source": [
    "```zsh\n",
    "git clone\n",
    "git fetch\n",
    "git pull\n",
    "git push\n",
    "git commit\n",
    "git add\n",
    "git remote -v  # shows URL of a remote\n",
    "```\n"
   ]
  }
 ],
 "metadata": {
  "kernelspec": {
   "display_name": "python3",
   "language": "python",
   "name": "python3"
  }
 },
 "nbformat": 4,
 "nbformat_minor": 0
}
