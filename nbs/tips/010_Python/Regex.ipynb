{
 "cells": [
  {
   "cell_type": "markdown",
   "metadata": {},
   "source": [
    "# Regex"
   ]
  },
  {
   "attachments": {},
   "cell_type": "markdown",
   "metadata": {},
   "source": [
    "Suppose we need to extract `row` and `col` from a string 'R1C2_row62_col24.png':"
   ]
  },
  {
   "cell_type": "code",
   "execution_count": 12,
   "metadata": {},
   "outputs": [],
   "source": [
    "import re\n",
    "some_string = 'R1C2_row62_col24.png'\n",
    "m = re.match(r\".*row(\\d+)_col(\\d+).*.png\", some_string)\n",
    "row = int(m.group(1))\n",
    "col = int(m.group(2))\n",
    "assert row == 62\n",
    "assert col == 24"
   ]
  },
  {
   "cell_type": "markdown",
   "metadata": {},
   "source": [
    "\n",
    "\n",
    "or suppose we want to extract a string from a name 'some_class_name_123.jpg':\n"
   ]
  },
  {
   "cell_type": "code",
   "execution_count": 14,
   "metadata": {},
   "outputs": [],
   "source": [
    "import re\n",
    "some_string = 'some_class_name_123.jpg'\n",
    "m = re.match(r\"(.+)_\\d+.jpg\", some_string)\n",
    "assert m.group(1) == 'some_class_name'"
   ]
  },
  {
   "cell_type": "markdown",
   "metadata": {},
   "source": [
    "\n",
    "\n",
    "\n",
    "\n",
    "Test here [https://regex101.com/](https://regex101.com/)\n",
    "\n",
    "| Character | Action |\n",
    "| - | - |\n",
    "|  `.` | any character |\n",
    "| `\\d` | only numbers (if we need decimal point user a backslash (\\.) |\n",
    "| `?`  | Zero or one character | \n",
    "| `+`  | One or many |\n",
    "| `*`  | Any character count |\n",
    "\n",
    "Good [tutorial](https://medium.com/factory-mind/regex-tutorial-a-simple-cheatsheet-by-examples-649dc1c3f285)."
   ]
  }
 ],
 "metadata": {
  "kernelspec": {
   "display_name": "website",
   "language": "python",
   "name": "python3"
  },
  "language_info": {
   "codemirror_mode": {
    "name": "ipython",
    "version": 3
   },
   "file_extension": ".py",
   "mimetype": "text/x-python",
   "name": "python",
   "nbconvert_exporter": "python",
   "pygments_lexer": "ipython3",
   "version": "3.10.9"
  },
  "vscode": {
   "interpreter": {
    "hash": "dc33d1bc04d8bf3140c0c2acc7d3f386ef31af7a810d4da0f6de530a4cc16a7a"
   }
  }
 },
 "nbformat": 4,
 "nbformat_minor": 4
}
