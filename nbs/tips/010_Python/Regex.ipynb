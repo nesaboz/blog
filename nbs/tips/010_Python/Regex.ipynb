{
 "cells": [
  {
   "cell_type": "markdown",
   "metadata": {},
   "source": [
    "# Regex"
   ]
  },
  {
   "attachments": {},
   "cell_type": "markdown",
   "metadata": {},
   "source": [
    "Suppose we need to extract `row` and `col` from a string 'R1C2_row62_col24.png':"
   ]
  },
  {
   "cell_type": "code",
   "execution_count": null,
   "metadata": {},
   "outputs": [],
   "source": [
    "import re\n",
    "some_string = 'R1C2_row62_col24.png'\n",
    "m = re.match(r\".*row(\\d+)_col(\\d+).*.png\", some_string)\n",
    "row = int(m.group(1))\n",
    "col = int(m.group(2))\n",
    "assert row == 62\n",
    "assert col == 24"
   ]
  },
  {
   "cell_type": "markdown",
   "metadata": {},
   "source": [
    "\n",
    "\n",
    "or suppose we want to extract a string from a name 'some_class_name_123.jpg':\n"
   ]
  },
  {
   "cell_type": "code",
   "execution_count": null,
   "metadata": {},
   "outputs": [],
   "source": [
    "import re\n",
    "some_string = 'some_class_name_123.jpg'\n",
    "m = re.match(r\"(.+)_\\d+.jpg\", some_string)\n",
    "assert m.group(1) == 'some_class_name'"
   ]
  },
  {
   "cell_type": "markdown",
   "metadata": {},
   "source": [
    "\n",
    "\n",
    "\n",
    "\n",
    "Test here [https://regex101.com/](https://regex101.com/)\n",
    "\n",
    "| Character | Action |\n",
    "| - | - |\n",
    "|  `.` | any character |\n",
    "| `\\d` | only numbers (if we need decimal point user a backslash (\\.) |\n",
    "| `?`  | Zero or one character | \n",
    "| `+`  | One or many |\n",
    "| `*`  | Any character count |\n",
    "\n",
    "Good [tutorial](https://medium.com/factory-mind/regex-tutorial-a-simple-cheatsheet-by-examples-649dc1c3f285)."
   ]
  }
 ],
 "metadata": {
  "kernelspec": {
   "display_name": "python3",
   "language": "python",
   "name": "python3"
  }
 },
 "nbformat": 4,
 "nbformat_minor": 4
}
