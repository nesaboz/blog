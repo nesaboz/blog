{
 "cells": [
  {
   "cell_type": "markdown",
   "id": "eb7e7b02",
   "metadata": {},
   "source": [
    "# Setup account\n",
    "\n",
    "To use AWS services one needs additional Beckman's account (called `adm` account, for example admnbozinovic@beckman.com). Request this account from IT and follow [these](https://wiki.beckman.com/display/GC/Log+In+AWS+Console+using+ADM+account) instructions.  \n",
    "\n",
    "Use Microsoft Edge or Chrome private mode or Firefox browser \n",
    "SageMaker container (d-ekzpkxrxgszq) and open:\n",
    "https://beckman.awsapps.com/start#/\n",
    "\n",
    "\n",
    "# Set up new conda environment\n",
    "\n",
    "SageMaker comes with many built-in [Images](https://docs.aws.amazon.com/sagemaker/latest/dg/notebooks-available-images.html) that have many preloaded packages. Each image can support different Jupyter kernels (or equivalent conda environments). Let's create a new conda environment 'hana' on 'Data Science 3.0' Image and run a notebook on it.\n",
    "\n",
    "First access Image terminal directly (navigate to the Launcher (click on \"Amazon SageMaker Studio in the top left corner) and \"Open Image terminal\")\n",
    "![](assets/aws0.png)\n",
    "![](assets/aws1.png)\n",
    "\n",
    "\n",
    "```zsh\n",
    "conda env list\n",
    "```\n",
    "will print `opt/conda` only.\n",
    "\n",
    "I had to install pip (for some reason it is not preinstalled):\n",
    "```zsh\n",
    "apt-get update\n",
    "apt-get install python-pip\n",
    "```\n",
    "\n",
    "Let's create a new environment:\n",
    "```zsh\n",
    "conda create -n hana python=3.9\n",
    "conda activate hana\n",
    "conda install jupyter\n",
    "```\n",
    "\n",
    "Let's also add this environment as a Jupyter kernel:\n",
    "```\n",
    "jupyter kernelspec list\n",
    "```\n",
    "```\n",
    "ipython kernel install --name hana --user\n",
    "```\n",
    "Now our custom environment is showing up:\n",
    "![aws2](assets/aws2.png)\n",
    "\n",
    "Let's install required packages in the `hana` env:\n",
    "\n",
    "```zsh\n",
    "pip install streamlit pandas polars\n",
    "pip install torch torchvision torchaudio\n",
    "pip install jupyter methodtools pytorch-lightning scikit-learn colorama libtmux onnxruntime openpyxl xlsxwriter matplotlib pulp\n",
    "```\n",
    "most of these are already preinstalled.\n",
    "\n",
    "That's it. Our kernel is now ready to be used.\n",
    "\n",
    "There are [more](https://aws.amazon.com/blogs/machine-learning/four-approaches-to-manage-python-packages-in-amazon-sagemaker-studio-notebooks/) ways this can be done and I dabbled in [Lifecycle Configuration](#optional-set-up-lifecycle-configuration-not-functional-yet) but haven't had success.\n",
    "\n",
    "# Clone HANA GitHub repository\n",
    "\n",
    "Best way to do this is via terminal (SageMaker has GitHub tab option but couldn't make it run). We'll show here one of the easy ways to do this is via Personal Access Token (there is ssh-key option as well). First, In Github, navigate to [Personal Access Tokens](https://github.com/settings/tokens). \n",
    "\n",
    "Generate a token (give it some name you like) and make sure to configure it for Single-Sign-On (SSO).\n",
    "![](assets/github_personal_access_token.png)\n",
    "\n",
    "then in SageMaker Studio terminal clone the repo:\n",
    "```\n",
    "git clone https://github.com/BecdxMicrobiology/HANA.git\n",
    "```\n",
    "**when asked for password enter the token that you just created!**\n",
    "\n",
    "To set up global git credentials, edit and run following lines:\n",
    "```zsh\n",
    "git config --global user.email \"you@example.com\"\n",
    "git config --global user.name \"Your Name\"\n",
    "```\n",
    "that way all the git changes will have your credentials.\n",
    "\n",
    "# To run SageMaker in VS-Code web UI\n",
    "\n",
    "SageMaker Studio is the AWSs' UI. If you prefer the VSCode look then you need to install somewhat awkwardly named \"Code Server\" (see installation [instructions](https://aws.amazon.com/blogs/machine-learning/host-code-server-on-amazon-sagemaker/). You will now be able to run VS Code in a browser.\n",
    "\n",
    "![Alt Text](https://d2908q01vomqb2.cloudfront.net/f1f836cb4ea6efb2a0b1b99f41ad8b103eff4b59/2022/10/14/Screenshot-2022-09-29-at-11.33.15-2-1024x267.png)\n"
   ]
  },
  {
   "cell_type": "markdown",
   "id": "7ab8c654-21d0-4367-ae4f-c362a971474e",
   "metadata": {},
   "source": [
    "# S3 access"
   ]
  },
  {
   "cell_type": "markdown",
   "id": "9116e6f4-3602-4a0b-919a-bd2a01718f89",
   "metadata": {},
   "source": [
    "For s3 access one must set up credentials. Follow instructions from AWS account command line screen to set up `aws configure sso` or other way to set up credentials:\n",
    "\n",
    "![](../assets/aws_access.jpeg)\n",
    "\n",
    "Accessing S3 files is not as straightforward as if having them locally since interaction has to go via AWS APIs. `boto3` and `s3fs` are two libraries that have their own APIs. I find s3fs to be better since \"S3Fs is a Pythonic file interface to S3. It builds on top of botocore\". Pandas is an exception and `pd.read_csv` just works. There is `s3fs-fuse` library (and apparently one with even higher performance called `goofys`) that kind of offer mounting s3 option, however, I ran into issues when trying to install them. Following are some examples:  "
   ]
  },
  {
   "cell_type": "code",
   "execution_count": 32,
   "id": "61ddd04b-5b30-4469-b803-c4a0ea237b32",
   "metadata": {
    "tags": []
   },
   "outputs": [],
   "source": [
    "import boto3\n",
    "import s3fs\n",
    "import pandas as pd\n",
    "import os\n",
    "\n",
    "bucket_name = 'bec-ip-prod-sac-projecthana'\n",
    "file_key = 'part1_data/FF1/All_Retest_Isolates_Dropped_Read.csv'"
   ]
  },
  {
   "cell_type": "markdown",
   "id": "70589015-fd4e-40bd-9acb-ca5189abb941",
   "metadata": {},
   "source": [
    "## Read into DataFrame"
   ]
  },
  {
   "cell_type": "code",
   "execution_count": 5,
   "id": "e72ee411-0556-49ca-99b4-5ba5722ca8fe",
   "metadata": {
    "tags": []
   },
   "outputs": [],
   "source": [
    "df = pd.read_csv(f's3://{bucket_name}/{file_key}')"
   ]
  },
  {
   "cell_type": "markdown",
   "id": "1e6ee83a-4b2d-4d5a-ad2d-40f7237dbdb0",
   "metadata": {},
   "source": [
    "## s3fs"
   ]
  },
  {
   "cell_type": "code",
   "execution_count": 24,
   "id": "cfe0f459-fe3c-4d75-81fc-0af73c9b0c19",
   "metadata": {
    "tags": []
   },
   "outputs": [],
   "source": [
    "s3 = s3fs.S3FileSystem(anon=False)  # Set anon to True for public buckets"
   ]
  },
  {
   "cell_type": "markdown",
   "id": "52b809fb-ed7f-4ffc-8290-e2711c82dc64",
   "metadata": {},
   "source": [
    "### ls"
   ]
  },
  {
   "cell_type": "code",
   "execution_count": 37,
   "id": "ac5ad924-98f6-4506-aabd-72ef095905e6",
   "metadata": {
    "tags": []
   },
   "outputs": [
    {
     "name": "stdout",
     "output_type": "stream",
     "text": [
      "['bec-ip-prod-sac-projecthana/Flagging Tool', 'bec-ip-prod-sac-projecthana/part1_data', 'bec-ip-prod-sac-projecthana/part1_partitioned']\n"
     ]
    }
   ],
   "source": [
    "contents = s3.ls(bucket_name)\n",
    "print(contents)"
   ]
  },
  {
   "cell_type": "markdown",
   "id": "3101a3a1-b207-419f-80cf-72a363c5603d",
   "metadata": {},
   "source": [
    "### glob"
   ]
  },
  {
   "cell_type": "code",
   "execution_count": 28,
   "id": "0d282ec1-d499-42f4-be7c-700b57dd7376",
   "metadata": {
    "tags": []
   },
   "outputs": [
    {
     "data": {
      "text/plain": [
       "['bec-ip-prod-sac-projecthana/part1_partitioned/all_Tier_204112023.csv',\n",
       " 'bec-ip-prod-sac-projecthana/part1_partitioned/all_Tier_204112023_deduplicated.csv']"
      ]
     },
     "execution_count": 28,
     "metadata": {},
     "output_type": "execute_result"
    }
   ],
   "source": [
    "s3.glob(f's3://{bucket_name}/**/a*.csv')"
   ]
  },
  {
   "cell_type": "markdown",
   "id": "ab24134e-2b44-4cdb-af1e-71332243575a",
   "metadata": {},
   "source": [
    "### download"
   ]
  },
  {
   "cell_type": "code",
   "execution_count": 36,
   "id": "eeb158ab-76b8-4511-8ff1-9e02376ea024",
   "metadata": {
    "tags": []
   },
   "outputs": [],
   "source": [
    "# Specify local directory for downloaded file\n",
    "local_directory = '/tmp/'\n",
    "local_file_path = os.path.join(local_directory, 'All_Retest_Isolates_Dropped_Read.csv')\n",
    "\n",
    "# Ensure the local directory exists\n",
    "os.makedirs(local_directory, exist_ok=True)\n",
    "\n",
    "# Download CSV file\n",
    "s3.download(f's3://{bucket_name}/{file_key}', local_file_path)\n",
    "\n",
    "# Load CSV into Pandas DataFrame\n",
    "df = pd.read_csv(local_file_path)\n",
    "\n",
    "# Clean up downloaded file\n",
    "# os.remove(local_file_path)"
   ]
  },
  {
   "cell_type": "markdown",
   "id": "4c89841a-ced2-426d-bba8-c3a6060350e3",
   "metadata": {},
   "source": [
    "## boto3"
   ]
  },
  {
   "cell_type": "code",
   "execution_count": 6,
   "id": "6f90a4ef-55b5-42fc-a138-d22429ca56af",
   "metadata": {
    "tags": []
   },
   "outputs": [],
   "source": [
    "s3_client = boto3.client('s3')  "
   ]
  },
  {
   "cell_type": "markdown",
   "id": "85363e3f-674f-4a87-be24-88be358d5a4c",
   "metadata": {},
   "source": [
    "### download"
   ]
  },
  {
   "cell_type": "code",
   "execution_count": 46,
   "id": "8b529961-9c3b-45fe-b8e1-1a7ed7add8d9",
   "metadata": {
    "tags": []
   },
   "outputs": [],
   "source": [
    "# Specify local directory for downloaded file\n",
    "local_directory = '/tmp/'\n",
    "local_file_path = os.path.join(local_directory, 'All_Retest_Isolates_Dropped_Read.csv')\n",
    "\n",
    "# Ensure the local directory exists\n",
    "os.makedirs(local_directory, exist_ok=True)\n",
    "\n",
    "# Download CSV file\n",
    "s3_client.download_file(bucket_name, file_key, local_file_path)\n",
    "\n",
    "# Load CSV into Pandas DataFrame\n",
    "df = pd.read_csv(local_file_path)\n",
    "\n",
    "# Clean up downloaded file\n",
    "os.remove(local_file_path)\n"
   ]
  },
  {
   "cell_type": "markdown",
   "id": "484341b4-7094-4b24-84a6-04c5e029d4e6",
   "metadata": {},
   "source": [
    "### ls"
   ]
  },
  {
   "cell_type": "code",
   "execution_count": null,
   "id": "8ee7ad05-5461-44a5-a839-2ae140aa9bcf",
   "metadata": {
    "tags": []
   },
   "outputs": [],
   "source": [
    "contents = s3_client.list_objects(Bucket=bucket_name, Prefix='part1')['Contents']  \n",
    "for f in contents:  \n",
    "    print(f['Key'])"
   ]
  },
  {
   "cell_type": "markdown",
   "id": "3496b706",
   "metadata": {},
   "source": [
    "# (Optional) Set up LifeCycle configuration (not functional yet)\n",
    "\n",
    "There is a way to run a startup script when running the Kernel. To do this we'll follow this [link](https://aws.amazon.com/blogs/machine-learning/customize-amazon-sagemaker-studio-using-lifecycle-configurations/). \n",
    "\n",
    "First find out SageMaker domain ID (this should be `d-ekzpkxrxgszq`):\n",
    "```zsh\n",
    "aws sagemaker list-domains\n",
    "```\n",
    "\n",
    "Find out your username (for example: `admnbozinovic-beckman-com-f0f`):\n",
    "```zsh\n",
    "aws sagemaker list-user-profiles --domain-id d-ekzpkxrxgszq\n",
    "```\n",
    "Next create a startup bash script, for example with the name `install-package.sh`, here is just an example and there are many [more](https://github.com/aws-samples/sagemaker-studio-lifecycle-config-examples):\n",
    "\n",
    "\n",
    "```zsh\n",
    "#!/bin/bash\n",
    "# This script installs a single pip package on a SageMaker Studio Kernel Application\n",
    "\n",
    "set -eux  # for logging errors\n",
    "\n",
    "# PARAMETERS\n",
    "PACKAGE=pyarrow\n",
    "\n",
    "pip install --upgrade $PACKAGE\n",
    "```\n",
    "\n",
    "Next convert the script to a base64 encoded string:\n",
    "```zsh\n",
    "LCC_CONTENT=`openssl base64 -A -in install-package.sh`\n",
    "```\n",
    "\n",
    "Next we create lifecycle configuration entity:\n",
    "```zsh\n",
    "aws sagemaker create-studio-lifecycle-config \\\n",
    "--studio-lifecycle-config-name install-pip-package-on-kernel \\\n",
    "--studio-lifecycle-config-content $LCC_CONTENT \\\n",
    "--studio-lifecycle-config-app-type KernelGateway\n",
    "```\n",
    "\n",
    "this will print an `ARN` which will be immutable (you will have to create a new one if script changes):\n",
    "```\n",
    "\"StudioLifecycleConfigArn\": \"arn:aws:sagemaker:us-west-2:327333652600:studio-lifecycle-config/install-pip-package-on-kernel\"\n",
    "```\n",
    "\n",
    "Associate the lifecycle configuration to the domain and username:\n",
    "\n",
    "```zsh\n",
    "aws sagemaker update-user-profile --domain-id d-ekzpkxrxgszq \\\n",
    "--user-profile-name admnbozinovic-beckman-com-f0f \\\n",
    "--user-settings '{\n",
    "\"KernelGatewayAppSettings\": {\n",
    "  \"LifecycleConfigArns\":\n",
    "    [\"arn:aws:sagemaker:us-west-2:327333652600:studio-lifecycle-config/install-pip-package-on-kernel\"]\n",
    "  }\n",
    "}'\n",
    "```\n",
    "I get error:  \n",
    "\n",
    "```\n",
    "An error occurred (AccessDeniedException) when calling the UpdateUserProfile operation: User: arn:aws:sts::327333652600:assumed-role/AmazonSageMaker-ExecutionRole-20230803T101829/SageMaker is not authorized to perform: sagemaker:UpdateUserProfile on resource: arn:aws:sagemaker:us-west-2:327333652600:user-profile/d-ekzpkxrxgszq/admnbozinovic-beckman-com-f0f because no identity-based policy allows the sagemaker:UpdateUserProfile action\n",
    "```\n"
   ]
  }
 ],
 "metadata": {
  "availableInstances": [
   {
    "_defaultOrder": 0,
    "_isFastLaunch": true,
    "category": "General purpose",
    "gpuNum": 0,
    "hideHardwareSpecs": false,
    "memoryGiB": 4,
    "name": "ml.t3.medium",
    "vcpuNum": 2
   },
   {
    "_defaultOrder": 1,
    "_isFastLaunch": false,
    "category": "General purpose",
    "gpuNum": 0,
    "hideHardwareSpecs": false,
    "memoryGiB": 8,
    "name": "ml.t3.large",
    "vcpuNum": 2
   },
   {
    "_defaultOrder": 2,
    "_isFastLaunch": false,
    "category": "General purpose",
    "gpuNum": 0,
    "hideHardwareSpecs": false,
    "memoryGiB": 16,
    "name": "ml.t3.xlarge",
    "vcpuNum": 4
   },
   {
    "_defaultOrder": 3,
    "_isFastLaunch": false,
    "category": "General purpose",
    "gpuNum": 0,
    "hideHardwareSpecs": false,
    "memoryGiB": 32,
    "name": "ml.t3.2xlarge",
    "vcpuNum": 8
   },
   {
    "_defaultOrder": 4,
    "_isFastLaunch": true,
    "category": "General purpose",
    "gpuNum": 0,
    "hideHardwareSpecs": false,
    "memoryGiB": 8,
    "name": "ml.m5.large",
    "vcpuNum": 2
   },
   {
    "_defaultOrder": 5,
    "_isFastLaunch": false,
    "category": "General purpose",
    "gpuNum": 0,
    "hideHardwareSpecs": false,
    "memoryGiB": 16,
    "name": "ml.m5.xlarge",
    "vcpuNum": 4
   },
   {
    "_defaultOrder": 6,
    "_isFastLaunch": false,
    "category": "General purpose",
    "gpuNum": 0,
    "hideHardwareSpecs": false,
    "memoryGiB": 32,
    "name": "ml.m5.2xlarge",
    "vcpuNum": 8
   },
   {
    "_defaultOrder": 7,
    "_isFastLaunch": false,
    "category": "General purpose",
    "gpuNum": 0,
    "hideHardwareSpecs": false,
    "memoryGiB": 64,
    "name": "ml.m5.4xlarge",
    "vcpuNum": 16
   },
   {
    "_defaultOrder": 8,
    "_isFastLaunch": false,
    "category": "General purpose",
    "gpuNum": 0,
    "hideHardwareSpecs": false,
    "memoryGiB": 128,
    "name": "ml.m5.8xlarge",
    "vcpuNum": 32
   },
   {
    "_defaultOrder": 9,
    "_isFastLaunch": false,
    "category": "General purpose",
    "gpuNum": 0,
    "hideHardwareSpecs": false,
    "memoryGiB": 192,
    "name": "ml.m5.12xlarge",
    "vcpuNum": 48
   },
   {
    "_defaultOrder": 10,
    "_isFastLaunch": false,
    "category": "General purpose",
    "gpuNum": 0,
    "hideHardwareSpecs": false,
    "memoryGiB": 256,
    "name": "ml.m5.16xlarge",
    "vcpuNum": 64
   },
   {
    "_defaultOrder": 11,
    "_isFastLaunch": false,
    "category": "General purpose",
    "gpuNum": 0,
    "hideHardwareSpecs": false,
    "memoryGiB": 384,
    "name": "ml.m5.24xlarge",
    "vcpuNum": 96
   },
   {
    "_defaultOrder": 12,
    "_isFastLaunch": false,
    "category": "General purpose",
    "gpuNum": 0,
    "hideHardwareSpecs": false,
    "memoryGiB": 8,
    "name": "ml.m5d.large",
    "vcpuNum": 2
   },
   {
    "_defaultOrder": 13,
    "_isFastLaunch": false,
    "category": "General purpose",
    "gpuNum": 0,
    "hideHardwareSpecs": false,
    "memoryGiB": 16,
    "name": "ml.m5d.xlarge",
    "vcpuNum": 4
   },
   {
    "_defaultOrder": 14,
    "_isFastLaunch": false,
    "category": "General purpose",
    "gpuNum": 0,
    "hideHardwareSpecs": false,
    "memoryGiB": 32,
    "name": "ml.m5d.2xlarge",
    "vcpuNum": 8
   },
   {
    "_defaultOrder": 15,
    "_isFastLaunch": false,
    "category": "General purpose",
    "gpuNum": 0,
    "hideHardwareSpecs": false,
    "memoryGiB": 64,
    "name": "ml.m5d.4xlarge",
    "vcpuNum": 16
   },
   {
    "_defaultOrder": 16,
    "_isFastLaunch": false,
    "category": "General purpose",
    "gpuNum": 0,
    "hideHardwareSpecs": false,
    "memoryGiB": 128,
    "name": "ml.m5d.8xlarge",
    "vcpuNum": 32
   },
   {
    "_defaultOrder": 17,
    "_isFastLaunch": false,
    "category": "General purpose",
    "gpuNum": 0,
    "hideHardwareSpecs": false,
    "memoryGiB": 192,
    "name": "ml.m5d.12xlarge",
    "vcpuNum": 48
   },
   {
    "_defaultOrder": 18,
    "_isFastLaunch": false,
    "category": "General purpose",
    "gpuNum": 0,
    "hideHardwareSpecs": false,
    "memoryGiB": 256,
    "name": "ml.m5d.16xlarge",
    "vcpuNum": 64
   },
   {
    "_defaultOrder": 19,
    "_isFastLaunch": false,
    "category": "General purpose",
    "gpuNum": 0,
    "hideHardwareSpecs": false,
    "memoryGiB": 384,
    "name": "ml.m5d.24xlarge",
    "vcpuNum": 96
   },
   {
    "_defaultOrder": 20,
    "_isFastLaunch": false,
    "category": "General purpose",
    "gpuNum": 0,
    "hideHardwareSpecs": true,
    "memoryGiB": 0,
    "name": "ml.geospatial.interactive",
    "supportedImageNames": [
     "sagemaker-geospatial-v1-0"
    ],
    "vcpuNum": 0
   },
   {
    "_defaultOrder": 21,
    "_isFastLaunch": true,
    "category": "Compute optimized",
    "gpuNum": 0,
    "hideHardwareSpecs": false,
    "memoryGiB": 4,
    "name": "ml.c5.large",
    "vcpuNum": 2
   },
   {
    "_defaultOrder": 22,
    "_isFastLaunch": false,
    "category": "Compute optimized",
    "gpuNum": 0,
    "hideHardwareSpecs": false,
    "memoryGiB": 8,
    "name": "ml.c5.xlarge",
    "vcpuNum": 4
   },
   {
    "_defaultOrder": 23,
    "_isFastLaunch": false,
    "category": "Compute optimized",
    "gpuNum": 0,
    "hideHardwareSpecs": false,
    "memoryGiB": 16,
    "name": "ml.c5.2xlarge",
    "vcpuNum": 8
   },
   {
    "_defaultOrder": 24,
    "_isFastLaunch": false,
    "category": "Compute optimized",
    "gpuNum": 0,
    "hideHardwareSpecs": false,
    "memoryGiB": 32,
    "name": "ml.c5.4xlarge",
    "vcpuNum": 16
   },
   {
    "_defaultOrder": 25,
    "_isFastLaunch": false,
    "category": "Compute optimized",
    "gpuNum": 0,
    "hideHardwareSpecs": false,
    "memoryGiB": 72,
    "name": "ml.c5.9xlarge",
    "vcpuNum": 36
   },
   {
    "_defaultOrder": 26,
    "_isFastLaunch": false,
    "category": "Compute optimized",
    "gpuNum": 0,
    "hideHardwareSpecs": false,
    "memoryGiB": 96,
    "name": "ml.c5.12xlarge",
    "vcpuNum": 48
   },
   {
    "_defaultOrder": 27,
    "_isFastLaunch": false,
    "category": "Compute optimized",
    "gpuNum": 0,
    "hideHardwareSpecs": false,
    "memoryGiB": 144,
    "name": "ml.c5.18xlarge",
    "vcpuNum": 72
   },
   {
    "_defaultOrder": 28,
    "_isFastLaunch": false,
    "category": "Compute optimized",
    "gpuNum": 0,
    "hideHardwareSpecs": false,
    "memoryGiB": 192,
    "name": "ml.c5.24xlarge",
    "vcpuNum": 96
   },
   {
    "_defaultOrder": 29,
    "_isFastLaunch": true,
    "category": "Accelerated computing",
    "gpuNum": 1,
    "hideHardwareSpecs": false,
    "memoryGiB": 16,
    "name": "ml.g4dn.xlarge",
    "vcpuNum": 4
   },
   {
    "_defaultOrder": 30,
    "_isFastLaunch": false,
    "category": "Accelerated computing",
    "gpuNum": 1,
    "hideHardwareSpecs": false,
    "memoryGiB": 32,
    "name": "ml.g4dn.2xlarge",
    "vcpuNum": 8
   },
   {
    "_defaultOrder": 31,
    "_isFastLaunch": false,
    "category": "Accelerated computing",
    "gpuNum": 1,
    "hideHardwareSpecs": false,
    "memoryGiB": 64,
    "name": "ml.g4dn.4xlarge",
    "vcpuNum": 16
   },
   {
    "_defaultOrder": 32,
    "_isFastLaunch": false,
    "category": "Accelerated computing",
    "gpuNum": 1,
    "hideHardwareSpecs": false,
    "memoryGiB": 128,
    "name": "ml.g4dn.8xlarge",
    "vcpuNum": 32
   },
   {
    "_defaultOrder": 33,
    "_isFastLaunch": false,
    "category": "Accelerated computing",
    "gpuNum": 4,
    "hideHardwareSpecs": false,
    "memoryGiB": 192,
    "name": "ml.g4dn.12xlarge",
    "vcpuNum": 48
   },
   {
    "_defaultOrder": 34,
    "_isFastLaunch": false,
    "category": "Accelerated computing",
    "gpuNum": 1,
    "hideHardwareSpecs": false,
    "memoryGiB": 256,
    "name": "ml.g4dn.16xlarge",
    "vcpuNum": 64
   },
   {
    "_defaultOrder": 35,
    "_isFastLaunch": false,
    "category": "Accelerated computing",
    "gpuNum": 1,
    "hideHardwareSpecs": false,
    "memoryGiB": 61,
    "name": "ml.p3.2xlarge",
    "vcpuNum": 8
   },
   {
    "_defaultOrder": 36,
    "_isFastLaunch": false,
    "category": "Accelerated computing",
    "gpuNum": 4,
    "hideHardwareSpecs": false,
    "memoryGiB": 244,
    "name": "ml.p3.8xlarge",
    "vcpuNum": 32
   },
   {
    "_defaultOrder": 37,
    "_isFastLaunch": false,
    "category": "Accelerated computing",
    "gpuNum": 8,
    "hideHardwareSpecs": false,
    "memoryGiB": 488,
    "name": "ml.p3.16xlarge",
    "vcpuNum": 64
   },
   {
    "_defaultOrder": 38,
    "_isFastLaunch": false,
    "category": "Accelerated computing",
    "gpuNum": 8,
    "hideHardwareSpecs": false,
    "memoryGiB": 768,
    "name": "ml.p3dn.24xlarge",
    "vcpuNum": 96
   },
   {
    "_defaultOrder": 39,
    "_isFastLaunch": false,
    "category": "Memory Optimized",
    "gpuNum": 0,
    "hideHardwareSpecs": false,
    "memoryGiB": 16,
    "name": "ml.r5.large",
    "vcpuNum": 2
   },
   {
    "_defaultOrder": 40,
    "_isFastLaunch": false,
    "category": "Memory Optimized",
    "gpuNum": 0,
    "hideHardwareSpecs": false,
    "memoryGiB": 32,
    "name": "ml.r5.xlarge",
    "vcpuNum": 4
   },
   {
    "_defaultOrder": 41,
    "_isFastLaunch": false,
    "category": "Memory Optimized",
    "gpuNum": 0,
    "hideHardwareSpecs": false,
    "memoryGiB": 64,
    "name": "ml.r5.2xlarge",
    "vcpuNum": 8
   },
   {
    "_defaultOrder": 42,
    "_isFastLaunch": false,
    "category": "Memory Optimized",
    "gpuNum": 0,
    "hideHardwareSpecs": false,
    "memoryGiB": 128,
    "name": "ml.r5.4xlarge",
    "vcpuNum": 16
   },
   {
    "_defaultOrder": 43,
    "_isFastLaunch": false,
    "category": "Memory Optimized",
    "gpuNum": 0,
    "hideHardwareSpecs": false,
    "memoryGiB": 256,
    "name": "ml.r5.8xlarge",
    "vcpuNum": 32
   },
   {
    "_defaultOrder": 44,
    "_isFastLaunch": false,
    "category": "Memory Optimized",
    "gpuNum": 0,
    "hideHardwareSpecs": false,
    "memoryGiB": 384,
    "name": "ml.r5.12xlarge",
    "vcpuNum": 48
   },
   {
    "_defaultOrder": 45,
    "_isFastLaunch": false,
    "category": "Memory Optimized",
    "gpuNum": 0,
    "hideHardwareSpecs": false,
    "memoryGiB": 512,
    "name": "ml.r5.16xlarge",
    "vcpuNum": 64
   },
   {
    "_defaultOrder": 46,
    "_isFastLaunch": false,
    "category": "Memory Optimized",
    "gpuNum": 0,
    "hideHardwareSpecs": false,
    "memoryGiB": 768,
    "name": "ml.r5.24xlarge",
    "vcpuNum": 96
   },
   {
    "_defaultOrder": 47,
    "_isFastLaunch": false,
    "category": "Accelerated computing",
    "gpuNum": 1,
    "hideHardwareSpecs": false,
    "memoryGiB": 16,
    "name": "ml.g5.xlarge",
    "vcpuNum": 4
   },
   {
    "_defaultOrder": 48,
    "_isFastLaunch": false,
    "category": "Accelerated computing",
    "gpuNum": 1,
    "hideHardwareSpecs": false,
    "memoryGiB": 32,
    "name": "ml.g5.2xlarge",
    "vcpuNum": 8
   },
   {
    "_defaultOrder": 49,
    "_isFastLaunch": false,
    "category": "Accelerated computing",
    "gpuNum": 1,
    "hideHardwareSpecs": false,
    "memoryGiB": 64,
    "name": "ml.g5.4xlarge",
    "vcpuNum": 16
   },
   {
    "_defaultOrder": 50,
    "_isFastLaunch": false,
    "category": "Accelerated computing",
    "gpuNum": 1,
    "hideHardwareSpecs": false,
    "memoryGiB": 128,
    "name": "ml.g5.8xlarge",
    "vcpuNum": 32
   },
   {
    "_defaultOrder": 51,
    "_isFastLaunch": false,
    "category": "Accelerated computing",
    "gpuNum": 1,
    "hideHardwareSpecs": false,
    "memoryGiB": 256,
    "name": "ml.g5.16xlarge",
    "vcpuNum": 64
   },
   {
    "_defaultOrder": 52,
    "_isFastLaunch": false,
    "category": "Accelerated computing",
    "gpuNum": 4,
    "hideHardwareSpecs": false,
    "memoryGiB": 192,
    "name": "ml.g5.12xlarge",
    "vcpuNum": 48
   },
   {
    "_defaultOrder": 53,
    "_isFastLaunch": false,
    "category": "Accelerated computing",
    "gpuNum": 4,
    "hideHardwareSpecs": false,
    "memoryGiB": 384,
    "name": "ml.g5.24xlarge",
    "vcpuNum": 96
   },
   {
    "_defaultOrder": 54,
    "_isFastLaunch": false,
    "category": "Accelerated computing",
    "gpuNum": 8,
    "hideHardwareSpecs": false,
    "memoryGiB": 768,
    "name": "ml.g5.48xlarge",
    "vcpuNum": 192
   },
   {
    "_defaultOrder": 55,
    "_isFastLaunch": false,
    "category": "Accelerated computing",
    "gpuNum": 8,
    "hideHardwareSpecs": false,
    "memoryGiB": 1152,
    "name": "ml.p4d.24xlarge",
    "vcpuNum": 96
   },
   {
    "_defaultOrder": 56,
    "_isFastLaunch": false,
    "category": "Accelerated computing",
    "gpuNum": 8,
    "hideHardwareSpecs": false,
    "memoryGiB": 1152,
    "name": "ml.p4de.24xlarge",
    "vcpuNum": 96
   }
  ],
  "instance_type": "ml.t3.medium",
  "kernelspec": {
   "display_name": "Python [conda env:hana-medbravo] (arn:aws:sagemaker:us-west-2:236514542706:image/sagemaker-data-science-310-v1)",
   "language": "python",
   "name": "conda-env-hana-medbravo-py__SAGEMAKER_INTERNAL__arn:aws:sagemaker:us-west-2:236514542706:image/sagemaker-data-science-310-v1"
  },
  "language_info": {
   "codemirror_mode": {
    "name": "ipython",
    "version": 3
   },
   "file_extension": ".py",
   "mimetype": "text/x-python",
   "name": "python",
   "nbconvert_exporter": "python",
   "pygments_lexer": "ipython3",
   "version": "3.9.17"
  }
 },
 "nbformat": 4,
 "nbformat_minor": 5
}
