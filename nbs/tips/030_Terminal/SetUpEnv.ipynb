{
 "cells": [
  {
   "attachments": {},
   "cell_type": "markdown",
   "metadata": {},
   "source": [
    "# Set up env"
   ]
  },
  {
   "cell_type": "markdown",
   "metadata": {},
   "source": [
    "Update conda:\n",
    "```zsh\n",
    "conda update -n base -c conda-forge conda\n",
    "```"
   ]
  },
  {
   "cell_type": "markdown",
   "metadata": {},
   "source": [
    "Init conda:\n",
    "```zsh\n",
    "conda init zsh  # Must restart terminal if running this one.\n",
    "```"
   ]
  },
  {
   "attachments": {},
   "cell_type": "markdown",
   "metadata": {},
   "source": [
    "Create environment:\n",
    "```zsh\n",
    "yes | conda create -n repo_name python=python_ver\n",
    "conda activate repo_name\n",
    "```"
   ]
  },
  {
   "attachments": {},
   "cell_type": "markdown",
   "metadata": {},
   "source": [
    "Alternatively, export environment to a file:\n",
    "```zsh\n",
    "conda env export > env.yml\n",
    "```\n",
    "or if it is cross-platform export simpler no-build number environment:\n",
    "```zsh\n",
    "`conda env export --no-builds | grep -v \"prefix\" > env.yml`\n",
    "```\n",
    "\n",
    "To create environment with `env.yml`:\n",
    "```zsh\n",
    "conda env create -f env.yml\n",
    "```"
   ]
  },
  {
   "attachments": {},
   "cell_type": "markdown",
   "metadata": {},
   "source": [
    "Or install packages:\n",
    "```zsh\n",
    "pip install -U numpy pandas matplotlib torchviz scikit-learn tensorboard torchvision torch tqdm torch-lr-finder ipyplot ipywidgets opencv-python\n",
    "yes | conda install -c conda-forge jupyter_contrib_nbextensions graphviz python-graphviz\n",
    "```\n",
    "\n",
    "to install specific version of a package:\n",
    "```zsh\n",
    "pip install example-package==2.0.1"
   ]
  },
  {
   "cell_type": "markdown",
   "metadata": {},
   "source": [
    "\n",
    "Add a kernel:\n",
    "```zsh\n",
    "ipython kernel install --name $repo_name --user\n",
    "```"
   ]
  },
  {
   "attachments": {},
   "cell_type": "markdown",
   "metadata": {},
   "source": [
    "# Using bash script\n",
    "\n",
    "- If making shell file make sure it has correct line endings for the system (for example in PyCharm go to File -> File Properties -> Line Separators)\n",
    "\n",
    "Make sure the file is executable:\n",
    "```zsh\n",
    "chmod +x utils/setup_new_project.sh check with ls -l\n",
    "./utils/setup_new_project.sh <repo_name> <python_version>\n",
    "# for example ./setup_new_project.sh test_repo 3.10\n",
    "```\n",
    "\n",
    "To stop execution after a failure use `|| exit`, for example if the folder doesn't exist following command will stop the script:\n",
    "```zsh\n",
    "cd $repo_name || exit\n",
    "```\n"
   ]
  }
 ],
 "metadata": {
  "kernelspec": {
   "display_name": "python3",
   "language": "python",
   "name": "python3"
  }
 },
 "nbformat": 4,
 "nbformat_minor": 4
}
