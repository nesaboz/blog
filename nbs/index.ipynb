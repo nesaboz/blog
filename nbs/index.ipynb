{
 "cells": [
  {
   "cell_type": "markdown",
   "source": [
    "---\n",
    "comments: false\n",
    "---"
   ],
   "metadata": {
    "collapsed": false
   }
  },
  {
   "cell_type": "markdown",
   "metadata": {},
   "source": [
    "# Home"
   ]
  },
  {
   "cell_type": "markdown",
   "source": [
    "Hi there and welcome to my website! Here you will find my work on deep learning [projects](projects.ipynb) and some [smaller projects](mini-projects.ipynb) too. You can browse some [publications, patents and media covers](media.ipnb) of my work, and some general software [tips](tips.ipynb) I accumulated over time. Feel free to [contact me](about.qmd) if you have any questions. Enjoy!"
   ],
   "metadata": {
    "collapsed": false
   }
  }
 ],
 "metadata": {
  "kernelspec": {
   "display_name": "python3",
   "language": "python",
   "name": "python3"
  }
 },
 "nbformat": 4,
 "nbformat_minor": 0
}
