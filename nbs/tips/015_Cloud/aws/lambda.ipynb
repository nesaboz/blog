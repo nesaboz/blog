{
 "cells": [
  {
   "cell_type": "markdown",
   "metadata": {},
   "source": [
    "# AWS Lambdas with layers and from containers"
   ]
  },
  {
   "cell_type": "markdown",
   "metadata": {},
   "source": [
    "Credits **Educative.io**"
   ]
  },
  {
   "cell_type": "markdown",
   "metadata": {},
   "source": [
    "AWS Lambda function is great to run something small and fast. In case where you need to use some external libraries, you can use layers or the whole container. \n",
    "Layers are zip files that contain libraries, custom runtimes, or other dependencies. You can upload and use your own layers with your function or use layers from AWS Lambda layers library.\n",
    "We'll now try all three options.\n",
    "\n",
    "## 1. Mix code and libraries\n",
    "First we will directly incorporate the requests library into our lambda function:\n",
    "\n",
    "Install virtual env and requests:\n",
    "\n",
    "`python3.11 -m venv virtual_env && source virtual_env/bin/activate && pip install requests && deactivate`\n",
    "\n",
    "Create zip file:\n",
    "\n",
    "`cd virtual_env/lib/python3.11/site-packages && zip -r requests_package.zip . && cp requests_package.zip /usercode/LambdaFolder && cd /usercode/LambdaFolder`\n",
    "\n",
    "Now add lambda function and HTML template to the requests_package.zip: \n",
    "\n",
    "`zip requests_package.zip lambda_function.py template.html`\n",
    "\n",
    "We can now deploy requests_package.zip, that again has mixed code and dependencies:\n",
    "\n",
    "`aws lambda update-function-code --function-name function_call_api --zip-file fileb://requests_package.zip  --no-cli-pager`"
   ]
  },
  {
   "cell_type": "markdown",
   "metadata": {},
   "source": [
    "Lambda function:\n",
    "\n",
    "```python\n",
    "import requests\n",
    "\n",
    "def lambda_handler(event, context):\n",
    "    api_endpoint = 'XYZ'\n",
    "    api_key = 'XYZ'\n",
    "\n",
    "    try:\n",
    "        header_parameters = {\n",
    "            'Content-Type': 'application/json',\n",
    "            'x-api-key': api_key,\n",
    "        }\n",
    "\n",
    "        response = requests.get(api_endpoint, headers=header_parameters)\n",
    "        response.raise_for_status()  # Raise an exception for HTTP errors\n",
    "\n",
    "        data = response.json()[0]  # Reading the first item in the list\n",
    "        \n",
    "        # Read the HTML template from the file\n",
    "        with open('template.html', 'r') as template_file:\n",
    "            html_template = template_file.read()\n",
    "\n",
    "        # Replace placeholders with actual quote data and author name\n",
    "        html_response = html_template.replace('{{QUOTE}}', data['content'])\n",
    "        html_response = html_response.replace('{{AUTHOR}}', data['author'])\n",
    "        \n",
    "        return {\n",
    "            'statusCode': 200,\n",
    "            'headers': {\n",
    "                'Content-Type': 'text/html',\n",
    "            },\n",
    "            'body': html_response\n",
    "        }\n",
    "    except requests.exceptions.RequestException as error:\n",
    "        print(error)\n",
    "        raise Exception('An error occurred while fetching data')\n",
    "```"
   ]
  },
  {
   "cell_type": "markdown",
   "metadata": {},
   "source": [
    "## 2. Use layers\n",
    "\n",
    "Now we are going to do the same but instead of mixing code and libraries, we are going to push libraries to a layer:\n",
    "\n",
    "```bash\n",
    "pip install requests -t ./requestsFolder/python\n",
    "cd requestsFolder\n",
    "zip -r requests_layer.zip .\n",
    "aws lambda publish-layer-version --layer-name requests_layer --zip-file fileb://requests_layer.zip --compatible-runtimes python3.11 --no-cli-pager\n",
    "# or by specifying region, one can do the same via aws configure\n",
    "aws lambda publish-layer-version --layer-name requests_layer --zip-file fileb://requests_layer.zip --compatible-runtimes python3.11 --no-cli-pager --region us-east-1\n",
    "```\n",
    "\n",
    "Now, we attach the layer to the lambda function. That's it. We now have pre-installed libraries (like `requests`) available to the lambda function."
   ]
  },
  {
   "cell_type": "markdown",
   "metadata": {},
   "source": [
    "Side note: to get some random quote:\n",
    "\n",
    "`curl \"http://api.forismatic.com/api/1.0/?method=getQuote&lang=en&format=json\"`\n"
   ]
  },
  {
   "cell_type": "markdown",
   "metadata": {},
   "source": [
    "## 3. Use container"
   ]
  },
  {
   "cell_type": "markdown",
   "metadata": {},
   "source": [
    "Let's create Amazon Elastic Container Registry (ECR), then we install Docker in Cloud9 and push our image to ECR.\n",
    "\n",
    "```bash\n",
    "sudo apt-get update\n",
    "sudo apt-get -y install docker-ce docker-ce-cli containerd.io docker-buildx-plugin docker-compose-plugin\n",
    "sudo systemctl start docker\n",
    "sudo systemctl enable docker\n",
    "docker --version\n",
    "```\n",
    "We now create application.py and Dockerfile and any Lambda will automatically have installed libraries specified in a Dockerfile, and code from application.py.\n",
    "\n",
    "Now we push, this is simple using `view push commands` in ECR console.\n",
    "\n",
    "We can now create lambda function from container image."
   ]
  }
 ],
 "metadata": {
  "kernelspec": {
   "display_name": "blog",
   "language": "python",
   "name": "python3"
  },
  "language_info": {
   "codemirror_mode": {
    "name": "ipython",
    "version": 3
   },
   "file_extension": ".py",
   "mimetype": "text/x-python",
   "name": "python",
   "nbconvert_exporter": "python",
   "pygments_lexer": "ipython3",
   "version": "3.11.5"
  }
 },
 "nbformat": 4,
 "nbformat_minor": 2
}
