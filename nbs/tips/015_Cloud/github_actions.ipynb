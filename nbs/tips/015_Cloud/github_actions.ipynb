{
 "cells": [
  {
   "cell_type": "markdown",
   "metadata": {},
   "source": [
    "# GitHub Actions with access to AWS\n"
   ]
  },
  {
   "cell_type": "markdown",
   "metadata": {},
   "source": [
    "If you are completely new to GitHub actions watch this ~10 minute [video](https://www.youtube.com/watch?v=mFFXuXjVgkU) first."
   ]
  },
  {
   "cell_type": "markdown",
   "metadata": {},
   "source": [
    "I wanted for Actions to run command my EC2 instance. To do that, we first need to provide user AWS credentials to GitHub. We can do this by creating a repo settings/secrets and variables/ then create environment I named \"AWS\" and copy/pasted AWS_ACCESS_KEY_ID and AWS_SECRET_ACCESS_KEY to the secrets. Below you can see reference to these. The needs to have policy `AmazonSSMFullAccess` attached to it.\n",
    "\n",
    "Then I use actions/checkout@v4 and aws-actions/configure-aws-credentials@v4 and `aws ssm send-command` to run a command on my EC2 instance.\n",
    "\n",
    "The `aws ssm` does the following:\n",
    "- git pull latest code\n",
    "- kill currently running streamlit app\n",
    "- start a new streamlit app\n",
    "- log everything to a file\n",
    "\n",
    "```yml\n",
    "name: Execute SSM SendCommand\n",
    "\n",
    "on: \n",
    "  push:\n",
    "    branches:\n",
    "      - main\n",
    "\n",
    "jobs:\n",
    "  ssm-command:\n",
    "    runs-on: ubuntu-latest\n",
    "    environment: AWS\n",
    "    steps:\n",
    "    - name: Checkout repository\n",
    "      uses: actions/checkout@v4\n",
    "\n",
    "    - name: Configure AWS credentials\n",
    "      uses: aws-actions/configure-aws-credentials@v4\n",
    "      with:\n",
    "        aws-access-key-id: ${{ secrets.AWS_ACCESS_KEY_ID }}\n",
    "        aws-secret-access-key: ${{ secrets.AWS_SECRET_ACCESS_KEY }}\n",
    "        aws-region: us-west-1 \n",
    "\n",
    "    - name: Send SSM Command\n",
    "      run: |\n",
    "        aws ssm send-command \\\n",
    "            --document-name \"AWS-RunShellScript\" \\\n",
    "            --targets \"Key=instanceids,Values=i-08b8b6691ed2e1b6d\" \\\n",
    "            --parameters commands=\"date >> /home/ubuntu/output.log && sudo -u ubuntu git -C /home/ubuntu/blog pull >> /home/ubuntu/output.log 2>&1 && sudo pkill -f streamlit >> /home/ubuntu/output.log 2>&1 && nohup /home/ubuntu/miniconda/bin/streamlit run /home/ubuntu/blog/nbs/projects/myGPT/myGPT.py --server.enableCORS false --server.enableXsrfProtection false >> /home/ubuntu/output.log 2>&1\" \\\n",
    "            --region us-west-1\n",
    "```\n",
    "\n"
   ]
  },
  {
   "cell_type": "markdown",
   "metadata": {},
   "source": []
  }
 ],
 "metadata": {
  "language_info": {
   "name": "python"
  }
 },
 "nbformat": 4,
 "nbformat_minor": 2
}
