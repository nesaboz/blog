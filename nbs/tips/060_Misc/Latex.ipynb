{
 "cells": [
  {
   "cell_type": "markdown",
   "metadata": {},
   "source": [
    "# Latex"
   ]
  },
  {
   "cell_type": "markdown",
   "metadata": {},
   "source": [
    "New line `\\\\`\n",
    "\n",
    "URL link `\\href{link}{label}`\n",
    "\n",
    "To have hyperlinks available one must have proper library installed (use external TypeSetter like MacTeX). Also have this line in a template file `\\usepackage[hidelinks, linkcolor=blue]{hyperref}` to hide the default boxes around links in PDFs.\n"
   ]
  }
 ],
 "metadata": {
  "kernelspec": {
   "display_name": "python3",
   "language": "python",
   "name": "python3"
  }
 },
 "nbformat": 4,
 "nbformat_minor": 0
}
