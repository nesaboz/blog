{
 "cells": [
  {
   "cell_type": "markdown",
   "source": [
    "# Image Classification"
   ],
   "metadata": {
    "collapsed": false
   }
  },
  {
   "cell_type": "markdown",
   "source": [
    "Let's first download the data:"
   ],
   "metadata": {
    "collapsed": false
   }
  },
  {
   "cell_type": "code",
   "execution_count": 2,
   "outputs": [],
   "source": [
    "from fastai.vision.all import *"
   ],
   "metadata": {
    "collapsed": false
   }
  },
  {
   "cell_type": "code",
   "execution_count": 3,
   "outputs": [
    {
     "data": {
      "text/plain": "<IPython.core.display.HTML object>",
      "text/html": "\n<style>\n    /* Turns off some styling */\n    progress {\n        /* gets rid of default border in Firefox and Opera. */\n        border: none;\n        /* Needs to be in here for Safari polyfill so background images work as expected. */\n        background-size: auto;\n    }\n    progress:not([value]), progress:not([value])::-webkit-progress-bar {\n        background: repeating-linear-gradient(45deg, #7e7e7e, #7e7e7e 10px, #5c5c5c 10px, #5c5c5c 20px);\n    }\n    .progress-bar-interrupted, .progress-bar-interrupted::-webkit-progress-bar {\n        background: #F44336;\n    }\n</style>\n"
     },
     "metadata": {},
     "output_type": "display_data"
    },
    {
     "data": {
      "text/plain": "<IPython.core.display.HTML object>",
      "text/html": "\n    <div>\n      <progress value='0' class='' max='811706944' style='width:300px; height:20px; vertical-align: middle;'></progress>\n      \n    </div>\n    "
     },
     "metadata": {},
     "output_type": "display_data"
    },
    {
     "ename": "KeyboardInterrupt",
     "evalue": "",
     "output_type": "error",
     "traceback": [
      "\u001B[0;31m---------------------------------------------------------------------------\u001B[0m",
      "\u001B[0;31mKeyboardInterrupt\u001B[0m                         Traceback (most recent call last)",
      "Cell \u001B[0;32mIn[3], line 1\u001B[0m\n\u001B[0;32m----> 1\u001B[0m path \u001B[38;5;241m=\u001B[39m \u001B[43muntar_data\u001B[49m\u001B[43m(\u001B[49m\u001B[43mURLs\u001B[49m\u001B[38;5;241;43m.\u001B[39;49m\u001B[43mPETS\u001B[49m\u001B[43m)\u001B[49m\n",
      "File \u001B[0;32m~/mambaforge/envs/website/lib/python3.10/site-packages/fastai/data/external.py:136\u001B[0m, in \u001B[0;36muntar_data\u001B[0;34m(url, archive, data, c_key, force_download, base)\u001B[0m\n\u001B[1;32m    134\u001B[0m \u001B[38;5;124m\"\u001B[39m\u001B[38;5;124mDownload `url` using `FastDownload.get`\u001B[39m\u001B[38;5;124m\"\u001B[39m\n\u001B[1;32m    135\u001B[0m d \u001B[38;5;241m=\u001B[39m FastDownload(fastai_cfg(), module\u001B[38;5;241m=\u001B[39mfastai\u001B[38;5;241m.\u001B[39mdata, archive\u001B[38;5;241m=\u001B[39marchive, data\u001B[38;5;241m=\u001B[39mdata, base\u001B[38;5;241m=\u001B[39mbase)\n\u001B[0;32m--> 136\u001B[0m \u001B[38;5;28;01mreturn\u001B[39;00m \u001B[43md\u001B[49m\u001B[38;5;241;43m.\u001B[39;49m\u001B[43mget\u001B[49m\u001B[43m(\u001B[49m\u001B[43murl\u001B[49m\u001B[43m,\u001B[49m\u001B[43m \u001B[49m\u001B[43mforce\u001B[49m\u001B[38;5;241;43m=\u001B[39;49m\u001B[43mforce_download\u001B[49m\u001B[43m,\u001B[49m\u001B[43m \u001B[49m\u001B[43mextract_key\u001B[49m\u001B[38;5;241;43m=\u001B[39;49m\u001B[43mc_key\u001B[49m\u001B[43m)\u001B[49m\n",
      "File \u001B[0;32m~/mambaforge/envs/website/lib/python3.10/site-packages/fastdownload/core.py:118\u001B[0m, in \u001B[0;36mFastDownload.get\u001B[0;34m(self, url, extract_key, force)\u001B[0m\n\u001B[1;32m    116\u001B[0m     \u001B[38;5;28;01mif\u001B[39;00m data\u001B[38;5;241m.\u001B[39mexists(): \u001B[38;5;28;01mreturn\u001B[39;00m data\n\u001B[1;32m    117\u001B[0m \u001B[38;5;28mself\u001B[39m\u001B[38;5;241m.\u001B[39mdownload(url, force\u001B[38;5;241m=\u001B[39mforce)\n\u001B[0;32m--> 118\u001B[0m \u001B[38;5;28;01mreturn\u001B[39;00m \u001B[38;5;28;43mself\u001B[39;49m\u001B[38;5;241;43m.\u001B[39;49m\u001B[43mextract\u001B[49m\u001B[43m(\u001B[49m\u001B[43murl\u001B[49m\u001B[43m,\u001B[49m\u001B[43m \u001B[49m\u001B[43mextract_key\u001B[49m\u001B[38;5;241;43m=\u001B[39;49m\u001B[43mextract_key\u001B[49m\u001B[43m,\u001B[49m\u001B[43m \u001B[49m\u001B[43mforce\u001B[49m\u001B[38;5;241;43m=\u001B[39;49m\u001B[43mforce\u001B[49m\u001B[43m)\u001B[49m\n",
      "File \u001B[0;32m~/mambaforge/envs/website/lib/python3.10/site-packages/fastdownload/core.py:110\u001B[0m, in \u001B[0;36mFastDownload.extract\u001B[0;34m(self, url, extract_key, force)\u001B[0m\n\u001B[1;32m    108\u001B[0m dest \u001B[38;5;241m=\u001B[39m \u001B[38;5;28mself\u001B[39m\u001B[38;5;241m.\u001B[39mdata_path(extract_key)\n\u001B[1;32m    109\u001B[0m dest\u001B[38;5;241m.\u001B[39mmkdir(exist_ok\u001B[38;5;241m=\u001B[39m\u001B[38;5;28;01mTrue\u001B[39;00m, parents\u001B[38;5;241m=\u001B[39m\u001B[38;5;28;01mTrue\u001B[39;00m)\n\u001B[0;32m--> 110\u001B[0m \u001B[38;5;28;01mreturn\u001B[39;00m \u001B[43muntar_dir\u001B[49m\u001B[43m(\u001B[49m\u001B[43march\u001B[49m\u001B[43m,\u001B[49m\u001B[43m \u001B[49m\u001B[43mdest\u001B[49m\u001B[43m,\u001B[49m\u001B[43m \u001B[49m\u001B[43mrename\u001B[49m\u001B[38;5;241;43m=\u001B[39;49m\u001B[38;5;28;43;01mTrue\u001B[39;49;00m\u001B[43m,\u001B[49m\u001B[43m \u001B[49m\u001B[43moverwrite\u001B[49m\u001B[38;5;241;43m=\u001B[39;49m\u001B[43mforce\u001B[49m\u001B[43m)\u001B[49m\n",
      "File \u001B[0;32m~/mambaforge/envs/website/lib/python3.10/site-packages/fastcore/xtras.py:175\u001B[0m, in \u001B[0;36muntar_dir\u001B[0;34m(fname, dest, rename, overwrite)\u001B[0m\n\u001B[1;32m    173\u001B[0m     \u001B[38;5;28;01mif\u001B[39;00m overwrite: shutil\u001B[38;5;241m.\u001B[39mrmtree(dest) \u001B[38;5;28;01mif\u001B[39;00m dest\u001B[38;5;241m.\u001B[39mis_dir() \u001B[38;5;28;01melse\u001B[39;00m dest\u001B[38;5;241m.\u001B[39munlink()\n\u001B[1;32m    174\u001B[0m     \u001B[38;5;28;01melse\u001B[39;00m: \u001B[38;5;28;01mreturn\u001B[39;00m dest\n\u001B[0;32m--> 175\u001B[0m \u001B[38;5;28;01mif\u001B[39;00m rename: src \u001B[38;5;241m=\u001B[39m \u001B[43m_unpack\u001B[49m\u001B[43m(\u001B[49m\u001B[43mfname\u001B[49m\u001B[43m,\u001B[49m\u001B[43m \u001B[49m\u001B[43mout\u001B[49m\u001B[43m)\u001B[49m\n\u001B[1;32m    176\u001B[0m shutil\u001B[38;5;241m.\u001B[39mmove(\u001B[38;5;28mstr\u001B[39m(src), dest)\n\u001B[1;32m    177\u001B[0m \u001B[38;5;28;01mreturn\u001B[39;00m dest\n",
      "File \u001B[0;32m~/mambaforge/envs/website/lib/python3.10/site-packages/fastcore/xtras.py:157\u001B[0m, in \u001B[0;36m_unpack\u001B[0;34m(fname, out)\u001B[0m\n\u001B[1;32m    155\u001B[0m \u001B[38;5;28;01mdef\u001B[39;00m \u001B[38;5;21m_unpack\u001B[39m(fname, out):\n\u001B[1;32m    156\u001B[0m     \u001B[38;5;28;01mimport\u001B[39;00m \u001B[38;5;21;01mshutil\u001B[39;00m\n\u001B[0;32m--> 157\u001B[0m     \u001B[43mshutil\u001B[49m\u001B[38;5;241;43m.\u001B[39;49m\u001B[43munpack_archive\u001B[49m\u001B[43m(\u001B[49m\u001B[38;5;28;43mstr\u001B[39;49m\u001B[43m(\u001B[49m\u001B[43mfname\u001B[49m\u001B[43m)\u001B[49m\u001B[43m,\u001B[49m\u001B[43m \u001B[49m\u001B[38;5;28;43mstr\u001B[39;49m\u001B[43m(\u001B[49m\u001B[43mout\u001B[49m\u001B[43m)\u001B[49m\u001B[43m)\u001B[49m\n\u001B[1;32m    158\u001B[0m     ls \u001B[38;5;241m=\u001B[39m out\u001B[38;5;241m.\u001B[39mls()\n\u001B[1;32m    159\u001B[0m     \u001B[38;5;28;01mreturn\u001B[39;00m ls[\u001B[38;5;241m0\u001B[39m] \u001B[38;5;28;01mif\u001B[39;00m \u001B[38;5;28mlen\u001B[39m(ls) \u001B[38;5;241m==\u001B[39m \u001B[38;5;241m1\u001B[39m \u001B[38;5;28;01melse\u001B[39;00m out\n",
      "File \u001B[0;32m~/mambaforge/envs/website/lib/python3.10/shutil.py:1307\u001B[0m, in \u001B[0;36munpack_archive\u001B[0;34m(filename, extract_dir, format)\u001B[0m\n\u001B[1;32m   1305\u001B[0m func \u001B[38;5;241m=\u001B[39m _UNPACK_FORMATS[\u001B[38;5;28mformat\u001B[39m][\u001B[38;5;241m1\u001B[39m]\n\u001B[1;32m   1306\u001B[0m kwargs \u001B[38;5;241m=\u001B[39m \u001B[38;5;28mdict\u001B[39m(_UNPACK_FORMATS[\u001B[38;5;28mformat\u001B[39m][\u001B[38;5;241m2\u001B[39m])\n\u001B[0;32m-> 1307\u001B[0m \u001B[43mfunc\u001B[49m\u001B[43m(\u001B[49m\u001B[43mfilename\u001B[49m\u001B[43m,\u001B[49m\u001B[43m \u001B[49m\u001B[43mextract_dir\u001B[49m\u001B[43m,\u001B[49m\u001B[43m \u001B[49m\u001B[38;5;241;43m*\u001B[39;49m\u001B[38;5;241;43m*\u001B[39;49m\u001B[43mkwargs\u001B[49m\u001B[43m)\u001B[49m\n",
      "File \u001B[0;32m~/mambaforge/envs/website/lib/python3.10/shutil.py:1235\u001B[0m, in \u001B[0;36m_unpack_tarfile\u001B[0;34m(filename, extract_dir)\u001B[0m\n\u001B[1;32m   1232\u001B[0m     \u001B[38;5;28;01mraise\u001B[39;00m ReadError(\n\u001B[1;32m   1233\u001B[0m         \u001B[38;5;124m\"\u001B[39m\u001B[38;5;132;01m%s\u001B[39;00m\u001B[38;5;124m is not a compressed or uncompressed tar file\u001B[39m\u001B[38;5;124m\"\u001B[39m \u001B[38;5;241m%\u001B[39m filename)\n\u001B[1;32m   1234\u001B[0m \u001B[38;5;28;01mtry\u001B[39;00m:\n\u001B[0;32m-> 1235\u001B[0m     \u001B[43mtarobj\u001B[49m\u001B[38;5;241;43m.\u001B[39;49m\u001B[43mextractall\u001B[49m\u001B[43m(\u001B[49m\u001B[43mextract_dir\u001B[49m\u001B[43m)\u001B[49m\n\u001B[1;32m   1236\u001B[0m \u001B[38;5;28;01mfinally\u001B[39;00m:\n\u001B[1;32m   1237\u001B[0m     tarobj\u001B[38;5;241m.\u001B[39mclose()\n",
      "File \u001B[0;32m~/mambaforge/envs/website/lib/python3.10/tarfile.py:2052\u001B[0m, in \u001B[0;36mTarFile.extractall\u001B[0;34m(self, path, members, numeric_owner)\u001B[0m\n\u001B[1;32m   2049\u001B[0m \u001B[38;5;28;01mif\u001B[39;00m members \u001B[38;5;129;01mis\u001B[39;00m \u001B[38;5;28;01mNone\u001B[39;00m:\n\u001B[1;32m   2050\u001B[0m     members \u001B[38;5;241m=\u001B[39m \u001B[38;5;28mself\u001B[39m\n\u001B[0;32m-> 2052\u001B[0m \u001B[38;5;28;01mfor\u001B[39;00m tarinfo \u001B[38;5;129;01min\u001B[39;00m members:\n\u001B[1;32m   2053\u001B[0m     \u001B[38;5;28;01mif\u001B[39;00m tarinfo\u001B[38;5;241m.\u001B[39misdir():\n\u001B[1;32m   2054\u001B[0m         \u001B[38;5;66;03m# Extract directories with a safe mode.\u001B[39;00m\n\u001B[1;32m   2055\u001B[0m         directories\u001B[38;5;241m.\u001B[39mappend(tarinfo)\n",
      "File \u001B[0;32m~/mambaforge/envs/website/lib/python3.10/tarfile.py:2475\u001B[0m, in \u001B[0;36mTarFile.__iter__\u001B[0;34m(self)\u001B[0m\n\u001B[1;32m   2473\u001B[0m     tarinfo \u001B[38;5;241m=\u001B[39m \u001B[38;5;28mself\u001B[39m\u001B[38;5;241m.\u001B[39mmembers[index]\n\u001B[1;32m   2474\u001B[0m \u001B[38;5;28;01melif\u001B[39;00m \u001B[38;5;129;01mnot\u001B[39;00m \u001B[38;5;28mself\u001B[39m\u001B[38;5;241m.\u001B[39m_loaded:\n\u001B[0;32m-> 2475\u001B[0m     tarinfo \u001B[38;5;241m=\u001B[39m \u001B[38;5;28;43mself\u001B[39;49m\u001B[38;5;241;43m.\u001B[39;49m\u001B[43mnext\u001B[49m\u001B[43m(\u001B[49m\u001B[43m)\u001B[49m\n\u001B[1;32m   2476\u001B[0m     \u001B[38;5;28;01mif\u001B[39;00m \u001B[38;5;129;01mnot\u001B[39;00m tarinfo:\n\u001B[1;32m   2477\u001B[0m         \u001B[38;5;28mself\u001B[39m\u001B[38;5;241m.\u001B[39m_loaded \u001B[38;5;241m=\u001B[39m \u001B[38;5;28;01mTrue\u001B[39;00m\n",
      "File \u001B[0;32m~/mambaforge/envs/website/lib/python3.10/tarfile.py:2350\u001B[0m, in \u001B[0;36mTarFile.next\u001B[0;34m(self)\u001B[0m\n\u001B[1;32m   2348\u001B[0m \u001B[38;5;28;01mwhile\u001B[39;00m \u001B[38;5;28;01mTrue\u001B[39;00m:\n\u001B[1;32m   2349\u001B[0m     \u001B[38;5;28;01mtry\u001B[39;00m:\n\u001B[0;32m-> 2350\u001B[0m         tarinfo \u001B[38;5;241m=\u001B[39m \u001B[38;5;28;43mself\u001B[39;49m\u001B[38;5;241;43m.\u001B[39;49m\u001B[43mtarinfo\u001B[49m\u001B[38;5;241;43m.\u001B[39;49m\u001B[43mfromtarfile\u001B[49m\u001B[43m(\u001B[49m\u001B[38;5;28;43mself\u001B[39;49m\u001B[43m)\u001B[49m\n\u001B[1;32m   2351\u001B[0m     \u001B[38;5;28;01mexcept\u001B[39;00m EOFHeaderError \u001B[38;5;28;01mas\u001B[39;00m e:\n\u001B[1;32m   2352\u001B[0m         \u001B[38;5;28;01mif\u001B[39;00m \u001B[38;5;28mself\u001B[39m\u001B[38;5;241m.\u001B[39mignore_zeros:\n",
      "File \u001B[0;32m~/mambaforge/envs/website/lib/python3.10/tarfile.py:1123\u001B[0m, in \u001B[0;36mTarInfo.fromtarfile\u001B[0;34m(cls, tarfile)\u001B[0m\n\u001B[1;32m   1119\u001B[0m \u001B[38;5;250m\u001B[39m\u001B[38;5;124;03m\"\"\"Return the next TarInfo object from TarFile object\u001B[39;00m\n\u001B[1;32m   1120\u001B[0m \u001B[38;5;124;03m   tarfile.\u001B[39;00m\n\u001B[1;32m   1121\u001B[0m \u001B[38;5;124;03m\"\"\"\u001B[39;00m\n\u001B[1;32m   1122\u001B[0m buf \u001B[38;5;241m=\u001B[39m tarfile\u001B[38;5;241m.\u001B[39mfileobj\u001B[38;5;241m.\u001B[39mread(BLOCKSIZE)\n\u001B[0;32m-> 1123\u001B[0m obj \u001B[38;5;241m=\u001B[39m \u001B[38;5;28;43mcls\u001B[39;49m\u001B[38;5;241;43m.\u001B[39;49m\u001B[43mfrombuf\u001B[49m\u001B[43m(\u001B[49m\u001B[43mbuf\u001B[49m\u001B[43m,\u001B[49m\u001B[43m \u001B[49m\u001B[43mtarfile\u001B[49m\u001B[38;5;241;43m.\u001B[39;49m\u001B[43mencoding\u001B[49m\u001B[43m,\u001B[49m\u001B[43m \u001B[49m\u001B[43mtarfile\u001B[49m\u001B[38;5;241;43m.\u001B[39;49m\u001B[43merrors\u001B[49m\u001B[43m)\u001B[49m\n\u001B[1;32m   1124\u001B[0m obj\u001B[38;5;241m.\u001B[39moffset \u001B[38;5;241m=\u001B[39m tarfile\u001B[38;5;241m.\u001B[39mfileobj\u001B[38;5;241m.\u001B[39mtell() \u001B[38;5;241m-\u001B[39m BLOCKSIZE\n\u001B[1;32m   1125\u001B[0m \u001B[38;5;28;01mreturn\u001B[39;00m obj\u001B[38;5;241m.\u001B[39m_proc_member(tarfile)\n",
      "File \u001B[0;32m~/mambaforge/envs/website/lib/python3.10/tarfile.py:1081\u001B[0m, in \u001B[0;36mTarInfo.frombuf\u001B[0;34m(cls, buf, encoding, errors)\u001B[0m\n\u001B[1;32m   1079\u001B[0m obj\u001B[38;5;241m.\u001B[39muname \u001B[38;5;241m=\u001B[39m nts(buf[\u001B[38;5;241m265\u001B[39m:\u001B[38;5;241m297\u001B[39m], encoding, errors)\n\u001B[1;32m   1080\u001B[0m obj\u001B[38;5;241m.\u001B[39mgname \u001B[38;5;241m=\u001B[39m nts(buf[\u001B[38;5;241m297\u001B[39m:\u001B[38;5;241m329\u001B[39m], encoding, errors)\n\u001B[0;32m-> 1081\u001B[0m obj\u001B[38;5;241m.\u001B[39mdevmajor \u001B[38;5;241m=\u001B[39m \u001B[43mnti\u001B[49m\u001B[43m(\u001B[49m\u001B[43mbuf\u001B[49m\u001B[43m[\u001B[49m\u001B[38;5;241;43m329\u001B[39;49m\u001B[43m:\u001B[49m\u001B[38;5;241;43m337\u001B[39;49m\u001B[43m]\u001B[49m\u001B[43m)\u001B[49m\n\u001B[1;32m   1082\u001B[0m obj\u001B[38;5;241m.\u001B[39mdevminor \u001B[38;5;241m=\u001B[39m nti(buf[\u001B[38;5;241m337\u001B[39m:\u001B[38;5;241m345\u001B[39m])\n\u001B[1;32m   1083\u001B[0m prefix \u001B[38;5;241m=\u001B[39m nts(buf[\u001B[38;5;241m345\u001B[39m:\u001B[38;5;241m500\u001B[39m], encoding, errors)\n",
      "File \u001B[0;32m~/mambaforge/envs/website/lib/python3.10/tarfile.py:186\u001B[0m, in \u001B[0;36mnti\u001B[0;34m(s)\u001B[0m\n\u001B[1;32m    184\u001B[0m \u001B[38;5;28;01melse\u001B[39;00m:\n\u001B[1;32m    185\u001B[0m     \u001B[38;5;28;01mtry\u001B[39;00m:\n\u001B[0;32m--> 186\u001B[0m         s \u001B[38;5;241m=\u001B[39m \u001B[43mnts\u001B[49m\u001B[43m(\u001B[49m\u001B[43ms\u001B[49m\u001B[43m,\u001B[49m\u001B[43m \u001B[49m\u001B[38;5;124;43m\"\u001B[39;49m\u001B[38;5;124;43mascii\u001B[39;49m\u001B[38;5;124;43m\"\u001B[39;49m\u001B[43m,\u001B[49m\u001B[43m \u001B[49m\u001B[38;5;124;43m\"\u001B[39;49m\u001B[38;5;124;43mstrict\u001B[39;49m\u001B[38;5;124;43m\"\u001B[39;49m\u001B[43m)\u001B[49m\n\u001B[1;32m    187\u001B[0m         n \u001B[38;5;241m=\u001B[39m \u001B[38;5;28mint\u001B[39m(s\u001B[38;5;241m.\u001B[39mstrip() \u001B[38;5;129;01mor\u001B[39;00m \u001B[38;5;124m\"\u001B[39m\u001B[38;5;124m0\u001B[39m\u001B[38;5;124m\"\u001B[39m, \u001B[38;5;241m8\u001B[39m)\n\u001B[1;32m    188\u001B[0m     \u001B[38;5;28;01mexcept\u001B[39;00m \u001B[38;5;167;01mValueError\u001B[39;00m:\n",
      "File \u001B[0;32m~/mambaforge/envs/website/lib/python3.10/tarfile.py:170\u001B[0m, in \u001B[0;36mnts\u001B[0;34m(s, encoding, errors)\u001B[0m\n\u001B[1;32m    168\u001B[0m \u001B[38;5;28;01mif\u001B[39;00m p \u001B[38;5;241m!=\u001B[39m \u001B[38;5;241m-\u001B[39m\u001B[38;5;241m1\u001B[39m:\n\u001B[1;32m    169\u001B[0m     s \u001B[38;5;241m=\u001B[39m s[:p]\n\u001B[0;32m--> 170\u001B[0m \u001B[38;5;28;01mreturn\u001B[39;00m \u001B[43ms\u001B[49m\u001B[38;5;241;43m.\u001B[39;49m\u001B[43mdecode\u001B[49m\u001B[43m(\u001B[49m\u001B[43mencoding\u001B[49m\u001B[43m,\u001B[49m\u001B[43m \u001B[49m\u001B[43merrors\u001B[49m\u001B[43m)\u001B[49m\n",
      "\u001B[0;31mKeyboardInterrupt\u001B[0m: "
     ]
    }
   ],
   "source": [
    "path = untar_data(URLs.PETS)"
   ],
   "metadata": {
    "collapsed": false
   }
  },
  {
   "cell_type": "code",
   "execution_count": null,
   "outputs": [],
   "source": [],
   "metadata": {
    "collapsed": false
   }
  },
  {
   "cell_type": "markdown",
   "source": [],
   "metadata": {
    "collapsed": false
   }
  }
 ],
 "metadata": {
  "kernelspec": {
   "display_name": "Python 3",
   "language": "python",
   "name": "python3"
  },
  "language_info": {
   "codemirror_mode": {
    "name": "ipython",
    "version": 2
   },
   "file_extension": ".py",
   "mimetype": "text/x-python",
   "name": "python",
   "nbconvert_exporter": "python",
   "pygments_lexer": "ipython2",
   "version": "2.7.6"
  }
 },
 "nbformat": 4,
 "nbformat_minor": 0
}
