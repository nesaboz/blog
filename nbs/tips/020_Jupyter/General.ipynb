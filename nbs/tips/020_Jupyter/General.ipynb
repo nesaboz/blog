{
 "cells": [
  {
   "attachments": {},
   "cell_type": "markdown",
   "metadata": {},
   "source": [
    "# Jupyter General"
   ]
  },
  {
   "attachments": {},
   "cell_type": "markdown",
   "metadata": {},
   "source": [
    "\n",
    "## Help\n",
    "To see parameters: `SHIFT + TAB`\n",
    "For help use `?` before or after the command.\n",
    "For autocompletion: `TAB + TAB`\n",
    "Merge cells, select cells then: `Shift + M` ``\n",
    "To see all available functions in numpy that have `sin` in their name: `np.*sin*?`\n"
   ]
  },
  {
   "attachments": {},
   "cell_type": "markdown",
   "metadata": {},
   "source": [
    "# Markdown"
   ]
  },
  {
   "attachments": {},
   "cell_type": "markdown",
   "metadata": {},
   "source": [
    "For raw text use:\n",
    "```text\n",
    "```text\n",
    "```\n",
    "and close with\n",
    "```text\n",
    "<```> but without the <> (that's the only one text that can't be displayed I guess!)\n",
    "```\n",
    "\n",
    "\n",
    "To add some empty vertical space one can use:\n",
    "```\n",
    "&nbsp;\n",
    "```\n",
    "or add a new line use `\\_` where `_` denotes space.\n"
   ]
  },
  {
   "attachments": {},
   "cell_type": "markdown",
   "metadata": {},
   "source": [
    "\n",
    "## Magic commands"
   ]
  },
  {
   "attachments": {},
   "cell_type": "markdown",
   "metadata": {},
   "source": [
    "\n",
    "To autoreload edited python files (doesn't include class signatures changes, these you have to re-import):\n",
    "```jupyter\n",
    "%load_ext autoreload\n",
    "%autoreload 2\n",
    "```\n",
    "\n"
   ]
  },
  {
   "attachments": {},
   "cell_type": "markdown",
   "metadata": {},
   "source": [
    "# Links"
   ]
  },
  {
   "attachments": {},
   "cell_type": "markdown",
   "metadata": {},
   "source": [
    "Links are useful to jump between sections and files. Here are few examples:"
   ]
  },
  {
   "attachments": {},
   "cell_type": "markdown",
   "metadata": {},
   "source": [
    "To jump to upper section [help](#help)."
   ]
  },
  {
   "attachments": {},
   "cell_type": "markdown",
   "metadata": {},
   "source": [
    "To jump to some section in another file one needs to scecify html link not a jupyter one, for example [SSH](/tips/030_Terminal/zsh.html#SSH). This link will run only in the browser of course, not in the VSCode."
   ]
  },
  {
   "attachments": {},
   "cell_type": "markdown",
   "metadata": {},
   "source": [
    "# nbimporter"
   ]
  },
  {
   "attachments": {},
   "cell_type": "markdown",
   "metadata": {},
   "source": [
    "To import methods from another jupyter notebook:"
   ]
  },
  {
   "cell_type": "code",
   "execution_count": null,
   "metadata": {
    "vscode": {
     "languageId": "python"
    }
   },
   "outputs": [],
   "source": [
    "!pip install nbimporter"
   ]
  },
  {
   "attachments": {},
   "cell_type": "markdown",
   "metadata": {},
   "source": [
    "For more see [here](https://stackoverflow.com/questions/50576404/importing-functions-from-another-jupyter-notebook)."
   ]
  },
  {
   "attachments": {},
   "cell_type": "markdown",
   "metadata": {},
   "source": [
    "# nbconvert"
   ]
  },
  {
   "attachments": {},
   "cell_type": "markdown",
   "metadata": {},
   "source": [
    "`nbconvert` is a command line tool that can convert notebooks to other formats. To convert to pdfs, use the following command:\n",
    "\n",
    "```zsh\n",
    "jupyter nbconvert --to pdf notebook.ipynb\n",
    "```\n",
    "and it will create a pdf file with the same name as the notebook (in the case above notebook.pdf).\n",
    "\n",
    "One quirk is that it doens't render images properly, I found it works only if the image is refered to in markdown as:  \n",
    " `![image](images/image.png)`. \n",
    "\n",
    "The following WILL NOT work however:  \n",
    "- `![](images/image.png)`  apparently image caption is necesseary to reference it.  \n",
    "- `![image](images/image.png){width=500px}`  this will fail to render properly, image will be squished wierdly\n",
    "```"
   ]
  },
  {
   "attachments": {},
   "cell_type": "markdown",
   "metadata": {},
   "source": [
    "Another option is to use `notebook-as-pdf` package (this will install `nbconvert` as well, and bunch of other packages).\n",
    "From [here](https://towardsdatascience.com/jupyter-notebook-to-pdf-in-a-few-lines-3c48d68a7a63):\n",
    "\n",
    "```python\n",
    "pip install -U notebook-as-pdf\n",
    "```\n",
    "wait to finish installation. Then:\n",
    "```\n",
    "pyppeteer-install\n",
    "pip uninstall pypdf2\n",
    "pip install \"pypdf2<3.0\"\n",
    "```\n",
    "\n",
    "Then run the following command line:\n",
    "`jupyter-nbconvert --to PDFviaHTML <jupyter_notebook_file.ipynb>`\n",
    "this will create PDF file with the same name `jupyter_notebook_file.pdf` (ignore the warning on IPython3 lexer unavailable).\n",
    "To rename a file:\n",
    "`mv old_name new_name`"
   ]
  },
  {
   "attachments": {},
   "cell_type": "markdown",
   "metadata": {},
   "source": [
    "Unfortunately only command line works, `Download as` option in a browser doesn't."
   ]
  },
  {
   "attachments": {},
   "cell_type": "markdown",
   "metadata": {},
   "source": [
    "# Extensions"
   ]
  },
  {
   "attachments": {},
   "cell_type": "markdown",
   "metadata": {},
   "source": [
    "\n",
    "```zsh\n",
    "conda install -c conda-forge jupyter_contrib_nbextensions\n",
    "```\n",
    "\n",
    "After installation and restart, you will see `nbextensions` tab, most notable extensions are `collapsable headings`, `table of context 2 (toc2)`, `spellcheck`.\n"
   ]
  }
 ],
 "metadata": {
  "kernelspec": {
   "display_name": "python3",
   "language": "python",
   "name": "python3"
  }
 },
 "nbformat": 4,
 "nbformat_minor": 4
}
