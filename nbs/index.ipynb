{
 "cells": [
  {
   "cell_type": "markdown",
   "metadata": {},
   "source": [
    "# Home"
   ]
  },
  {
   "cell_type": "markdown",
   "source": [
    "Welcome to my website where you will find my work on deep learning Projects, my publications and media covers of my work, and some general software tips and utilities accumulated over time. Enjoy browsing around!\n",
    "\n",
    "- [Projects](projects.ipynb)\n",
    "- [MiniProjects](mini-projects.ipynb)\n",
    "- [Media](media.ipynb)\n",
    "- [Tips](tips.ipynb)\n",
    "- [About me](about.qmd)"
   ],
   "metadata": {
    "collapsed": false
   }
  }
 ],
 "metadata": {
  "kernelspec": {
   "display_name": "python3",
   "language": "python",
   "name": "python3"
  }
 },
 "nbformat": 4,
 "nbformat_minor": 0
}
