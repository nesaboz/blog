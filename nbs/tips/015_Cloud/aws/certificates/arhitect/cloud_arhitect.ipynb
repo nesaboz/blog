{
 "cells": [
  {
   "cell_type": "markdown",
   "metadata": {},
   "source": [
    "# ECS\n",
    "\n",
    "ECS can be deployed on both EC2 and Fargate.\n",
    "\n"
   ]
  }
 ],
 "metadata": {
  "language_info": {
   "name": "python"
  }
 },
 "nbformat": 4,
 "nbformat_minor": 2
}
