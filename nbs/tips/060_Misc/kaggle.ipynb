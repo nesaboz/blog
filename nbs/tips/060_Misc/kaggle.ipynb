{
 "cells": [
  {
   "attachments": {},
   "cell_type": "markdown",
   "metadata": {},
   "source": [
    "# Kaggle\n",
    "\n",
    "[Kaggle APIs](https://www.kaggle.com/docs/api)\n",
    "\n",
    "## To install Kaggle locally\n",
    "1. `pip install kaggle`  \n",
    "2. `cd ~/.kaggle`  # this folder is created when you install kaggle in a user account folder  \n",
    "3. homepage www.kaggle.com -> Your Account -> Create New API token (and download the json file)  \n",
    "4. `mv ~/Downloads/kaggle.json ./`  \n",
    "5. `chmod 600 ./kaggle.json`  \n"
   ]
  },
  {
   "cell_type": "markdown",
   "metadata": {},
   "source": [
    "\n",
    "`kaggle -h` # to see the help"
   ]
  },
  {
   "cell_type": "markdown",
   "metadata": {},
   "source": [
    "List the currently active competitions:\n",
    "```zsh\n",
    "kaggle competitions list\n",
    "```\n",
    "download files associated with a competition:\n",
    "```zsh\n",
    "kaggle competitions download -c [COMPETITION]\n",
    "```\n",
    "make a competition submission:\n",
    "```zsh\n",
    "kaggle competitions submit -c [COMPETITION] -f [FILE] -m [MESSAGE]\n",
    "```"
   ]
  }
 ],
 "metadata": {
  "kernelspec": {
   "display_name": "python3",
   "language": "python",
   "name": "python3"
  }
 },
 "nbformat": 4,
 "nbformat_minor": 0
}
