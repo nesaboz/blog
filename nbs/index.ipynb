{
 "cells": [
  {
   "cell_type": "markdown",
   "metadata": {},
   "source": [
    "---\n",
    "title: \"\"\n",
    "about:\n",
    "  template: solana\n",
    "  image: assets/mugshot.jpg\n",
    "  links:\n",
    "    - icon: twitter\n",
    "      text: twitter\n",
    "      href: https://twitter.com\n",
    "    - icon: github\n",
    "      text: Github\n",
    "      href: https://github.com\n",
    "comments: false\n",
    "format: \n",
    "  html:\n",
    "    page-layout: full\n",
    "---"
   ]
  },
  {
   "cell_type": "markdown",
   "metadata": {},
   "source": [
    "&nbsp;\n",
    "\n",
    "Hi there and welcome to my website! Here you will find my work on deep learning [projects](projects.ipynb) and some [smaller projects](mini-projects.ipynb) too. You can browse some [publications, patents, and media covers](media.ipynb) of my work, and some general software [tips](tips.ipynb) I accumulated over time.\n",
    "\n",
    "About me, I'm a software engineer with PhD in Electrical Engineering. I've published Science Journal paper with 2500+ citations,\n",
    "patented instrument software that enabled COVID-19 antibody discovery, and built optical instruments that went to the bottom of the\n",
    "ocean. I'm passionate about machine learning, innovation, and great teams.\n",
    "\n",
    "Feel free to comment or [contact me](mailto:nesaboz@gmail.com) if you have any questions!\n"
   ]
  },
  {
   "cell_type": "markdown",
   "metadata": {},
   "source": []
  }
 ],
 "metadata": {
  "kernelspec": {
   "display_name": "python3",
   "language": "python",
   "name": "python3"
  }
 },
 "nbformat": 4,
 "nbformat_minor": 0
}
