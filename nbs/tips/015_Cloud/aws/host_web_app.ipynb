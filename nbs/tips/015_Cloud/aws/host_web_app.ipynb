{
 "cells": [
  {
   "cell_type": "markdown",
   "metadata": {},
   "source": [
    "# Host Web App\n",
    "\n",
    "There are many ways to host a web app, here we'll simply run EC2 instance and host the web app on it. We'll use Streamlit for it.\n",
    "\n",
    "Here is a similar [blog post](https://towardsdatascience.com/how-to-deploy-a-streamlit-app-using-an-amazon-free-ec2-instance-416a41f69dc3) which explains the process in detail.\n",
    "\n",
    "![](assets/system.jpg)\n",
    "## Create an instance\n",
    "\n",
    "This should be straightforward: \n",
    "- AMI: I use ubuntu since it is easier.\n",
    "- Security group: create a new one with two inbound rules:\n",
    "    - SSH on port 22 and \n",
    "    - Custom TCP on port 8501, this is Streamlit default port. Any new app will run on 8502, etc. so make sure to add those to rules as well.\n",
    "    - HTTP at port 80, if you want to host a website.\n",
    "- Key-pair: create a new one and download it, say it's name is `streamlit.pam`. This is the only time you can download it, so make sure to keep it safe.\n"
   ]
  },
  {
   "cell_type": "markdown",
   "metadata": {},
   "source": [
    "\n",
    "## Connect to the instance \n",
    "\n",
    "Connect to the instance using the following command. Replace `<Your Public DNS(IPv4) Address>` with your instance's public DNS address.\n",
    "```zsh\n",
    "chmod 400 streamlit.pem\n",
    "ssh -i \"streamlit.pem\" ubuntu@<Your Public DNS(IPv4) Address>\n",
    "```\n",
    "\n",
    "Now we install miniconda:\n",
    "```zsh\n",
    "sudo apt-get update\n",
    "wget https://repo.continuum.io/miniconda/Miniconda3-latest-Linux-x86_64.sh -O ~/miniconda.sh\n",
    "bash ~/miniconda.sh -b -p ~/miniconda\n",
    "echo \"PATH=$PATH:$HOME/miniconda/bin\" >> ~/.bashrc\n",
    "source ~/.bashrc\n",
    "```\n",
    "\n",
    "Get the code from our repository and install the requirements.\n",
    "```zsh\n",
    "git clone XYZ\n",
    "pip install -r requirements.txt\n",
    "```\n"
   ]
  },
  {
   "cell_type": "markdown",
   "metadata": {},
   "source": [
    "\n",
    "## Tmux\n",
    "\n",
    "```zsh\n",
    "sudo apt-get install tmux\n",
    "tmux new -s StreamSession  # create a new session called StreamSession\n",
    "tmux list-sessions  # to discover sessions\n",
    "tmux attach -t StreamSession  # to reatach\n",
    "tmux kill-session -t StreamSession  # to kill session\n",
    "```\n",
    "\n",
    "To leave tmux session, press `Ctrl+b` and then `d`.\n"
   ]
  },
  {
   "cell_type": "markdown",
   "metadata": {},
   "source": [
    "\n",
    "## Add DNS name \n",
    "\n",
    "One option is to add subdomain, for example mygpt.nenadbozinovic.com will now go to IP address of the EC2 instance. The port will be 80 by default.\n",
    "\n",
    "![dns](assets/DNS_setup2.jpg)\n",
    "\n"
   ]
  },
  {
   "cell_type": "markdown",
   "metadata": {},
   "source": [
    "\n",
    "## Prep for SendCommand remotely\n",
    "\n",
    "First we need to assume user role, which is done by specifying AWS_ACCESS_KEY_ID and AWS_SECRET_ACCESS_KEY. And we need to make sure this user has the necessary permissions to send command, by attaching SendCommand policy to the user.\n",
    "\n",
    "```json\n",
    "{\n",
    "    \"Version\": \"2012-10-17\",\n",
    "    \"Statement\": [\n",
    "        {\n",
    "            \"Effect\": \"Allow\",\n",
    "            \"Action\": \"ssm:SendCommand\",\n",
    "            \"Resource\": \"*\"\n",
    "        }\n",
    "    ]\n",
    "}\n",
    "```\n",
    "\n",
    "Note that we don't care what role instance has only what role user who is trying to access instance has.\n",
    "\n",
    "We also need to make sure instance can accept commands, this should be default and done by snap, double check it is installed, enabled, and active:\n",
    "```zsh\n",
    "snap services amazon-ssm-agent\n",
    "```\n",
    "\n",
    "We need to run streamlit so we need to execute these commands:\n",
    "```zsh\n",
    "cd /home/ubuntu/blog && git pull && cd nbs/projects/myGPT && streamlit run myGPT.py --server.enableCORS false --server.enableXsrfProtection false\n",
    "```\n",
    "\n",
    "Note that `--server.enableCORS false --server.enableXsrfProtection false` reduces security but allows app to run on servers. One can get away running without the flags too.\n",
    "\n",
    "This should have myGPT running when executing on a remote machine."
   ]
  },
  {
   "cell_type": "markdown",
   "metadata": {},
   "source": [
    "## SendCommand\n",
    "\n",
    "To run command remotely, we need a few more things:\n",
    "- we need `nohup` call so the process can run in the background\n",
    "- we need to specify path to streamlit, since it is not in the PATH\n",
    "- we should also redirect output to a file so we can see what is happening\n",
    "\n",
    "```zsh\n",
    "cd /home/ubuntu/blog && git pull && cd nbs/projects/myGPT && nohup /home/ubuntu/miniconda/bin/streamlit run myGPT.py --server.enableCORS false --server.enableXsrfProtection false >> output.log 2>&1\n",
    "```\n",
    "\n",
    "The following allows to append (>>) to output.log and redirect stderr to stdout (2>&1):\n",
    "```zsh\n",
    ">> output.log 2>&1\n",
    "```\n",
    "\n",
    "So let's do it then, we execute command remotely using AWS Systems Manager (or `aws ssm`):\n",
    "```zsh\n",
    "aws ssm send-command \\\n",
    "    --document-name \"AWS-RunShellScript\" \\\n",
    "    --targets \"Key=instanceids,Values=i-08b8b6691ed2e1b6d\" \\\n",
    "    --parameters commands=\"cd /home/ubuntu/blog && git pull && cd nbs/projects/myGPT && nohup /home/ubuntu/miniconda/bin/streamlit run myGPT.py --server.enableCORS false --server.enableXsrfProtection false >> output.log 2>&1\" \\\n",
    "    --region us-west-1\n",
    "```\n",
    "\n",
    "We can now go to the remote machine and see what is running on the instance (and or kill it):\n",
    "```zsh\n",
    "ps aux | grep streamlit\n",
    "kill <PID>\n",
    "```\n"
   ]
  },
  {
   "cell_type": "markdown",
   "metadata": {},
   "source": [
    "To run app:\n",
    "```zsh\n",
    "streamlit run main.py --server.enableCORS false --server.enableXsrfProtection false\n",
    "```"
   ]
  },
  {
   "cell_type": "markdown",
   "metadata": {},
   "source": []
  }
 ],
 "metadata": {
  "language_info": {
   "name": "python"
  }
 },
 "nbformat": 4,
 "nbformat_minor": 2
}
