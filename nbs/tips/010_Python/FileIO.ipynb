{
 "cells": [
  {
   "cell_type": "markdown",
   "metadata": {},
   "source": [
    "# FileIO"
   ]
  },
  {
   "attachments": {},
   "cell_type": "markdown",
   "metadata": {},
   "source": [
    "## JSON\n",
    "\n",
    "To dump data to json file:\n",
    "\n",
    "```python\n",
    "output_path = <some_dir> / \"some_file.json\"\n",
    "params = {'a': 1, 'b': 2}\n",
    "with output_path.open('w') as f:\n",
    "    json.dump(params, f, indent=4)  # `indent` writes each new input on a new line\n",
    "```"
   ]
  },
  {
   "cell_type": "markdown",
   "metadata": {},
   "source": [
    "to load from json file:"
   ]
  },
  {
   "attachments": {},
   "cell_type": "markdown",
   "metadata": {},
   "source": [
    "```python\n",
    "with input_path.open() as f:\n",
    "    result = json.load(f)\n",
    "```"
   ]
  },
  {
   "attachments": {},
   "cell_type": "markdown",
   "metadata": {},
   "source": [
    "## shutil"
   ]
  },
  {
   "attachments": {},
   "cell_type": "markdown",
   "metadata": {},
   "source": [
    "```python\n",
    "shutil.copy(src_path, dst_path)\n",
    "from shutil import copyfile, rmtree, move\n",
    "```"
   ]
  },
  {
   "cell_type": "markdown",
   "metadata": {},
   "source": [
    "## CSV"
   ]
  },
  {
   "cell_type": "markdown",
   "metadata": {},
   "source": [
    "```python\n",
    "import csv\n",
    "def read_csv_file_into_dict(filename):\n",
    "    with open(filename, newline='') as csvfile:\n",
    "        reader = csv.reader(csvfile, delimiter=',')\n",
    "        x = {row[0]: row[1] for row in reader}\n",
    "    return x\n",
    "```"
   ]
  },
  {
   "attachments": {},
   "cell_type": "markdown",
   "metadata": {},
   "source": [
    "## `Readline` and `Readlines`"
   ]
  },
  {
   "attachments": {},
   "cell_type": "markdown",
   "metadata": {},
   "source": [
    "```python\n",
    "with open(f, \"r\") as f:\n",
    "    a = f.readlines()\n",
    "```"
   ]
  },
  {
   "attachments": {},
   "cell_type": "markdown",
   "metadata": {},
   "source": [
    "## Find and delete files/folders"
   ]
  },
  {
   "attachments": {},
   "cell_type": "markdown",
   "metadata": {},
   "source": [
    "```python\n",
    "from pathlib import Path\n",
    "a = list(Path('path_to_the_folder').glob('**/some_file_name'))\n",
    "for x in a:\n",
    "    x.unlink()\n",
    "```\n",
    "\n",
    "To delete a folder use `shutil.rmtree`:\n",
    "\n",
    "```python\n",
    "import shutil\n",
    "shutil.rmtree(Path(\"a_directory\"))\n",
    "\n",
    "```"
   ]
  },
  {
   "attachments": {},
   "cell_type": "markdown",
   "metadata": {},
   "source": [
    "# Download URL file into DataFrame\n",
    "One can do it directly from pandas:\n",
    "\n",
    "```python\n",
    "import pandas as pd\n",
    "\n",
    "# URL of the iris dataset\n",
    "url = 'https://archive.ics.uci.edu/ml/machine-learning-databases/iris/iris.data'\n",
    "\n",
    "# Read the iris dataset and store it in a DataFrame\n",
    "iris_df = pd.read_csv(url, header=None, names=['sepal_length', 'sepal_width', 'petal_length', 'petal_width', 'class'])\n",
    "\n",
    "# Display the first 5 rows of the iris DataFrame\n",
    "print(iris_df.head())\n",
    "```\n",
    "\n",
    "or using requests to download file first:\n",
    "\n",
    "```python\n",
    "response = requests.get(url)\n",
    "\n",
    "if response.status_code == 200:\n",
    "    with open(\"iris.csv\", \"wb\") as f:\n",
    "        f.write(response.content)\n",
    "else:\n",
    "    print(\"Failed to download dataset\")\n",
    "\n",
    "```\n"
   ]
  },
  {
   "cell_type": "markdown",
   "metadata": {},
   "source": []
  }
 ],
 "metadata": {
  "kernelspec": {
   "display_name": "python3",
   "language": "python",
   "name": "python3"
  }
 },
 "nbformat": 4,
 "nbformat_minor": 4
}
