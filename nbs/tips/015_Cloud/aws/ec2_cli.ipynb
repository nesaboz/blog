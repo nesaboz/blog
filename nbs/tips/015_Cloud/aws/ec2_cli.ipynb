{
 "cells": [
  {
   "cell_type": "markdown",
   "metadata": {},
   "source": [
    "# Manage EC2 via CLI\n",
    "\n"
   ]
  },
  {
   "cell_type": "markdown",
   "metadata": {},
   "source": [
    "Credits **Educative.io**"
   ]
  },
  {
   "cell_type": "markdown",
   "metadata": {},
   "source": [
    "Install AWS CLI:\n",
    "```zsh\n",
    "curl \"https://awscli.amazonaws.com/AWSCLIV2.pkg\" -o \"AWSCLIV2.pkg\"\n",
    "sudo installer -pkg AWSCLIV2.pkg -target /\n",
    "which aws\n",
    "aws --version\n",
    "```\n",
    "\n",
    "Check out help:\n",
    "\n",
    "```zsh\n",
    "aws ec2 help  | grep <some word>\n",
    "```\n",
    "\n",
    "To create a user (and also make sure to set up the AmazonEC2FullAccess user policy for the IAM user):\n",
    "\n",
    "```zsh\n",
    "aws iam create-user --user-name testuser\n",
    "aws iam create-group --group-name testgroup\n",
    "aws iam attach-group-policy --group-name testgroup --policy-arn arn:aws:iam::aws:policy/AdministratorAccess\n",
    "aws iam attach-group-policy --group-name testgroup --policy-arn arn:aws:iam::aws:policy/AmazonEC2FullAccess\n",
    "aws iam add-user-to-group --user-name testuser --group-name testgroup\n",
    "```\n"
   ]
  },
  {
   "cell_type": "markdown",
   "metadata": {},
   "source": [
    "\n",
    "To see key value pairs:\n",
    "```zsh\n",
    "aws ec2 describe-key-pairs\n",
    "aws ec2 describe-key-pairs --output table\n",
    "\n",
    "aws ec2 create-key-pair --key-name ec2project --query 'KeyMaterial' --output text > ec2project.pem\n",
    "```\n",
    "\n",
    "A VPC (virtual private cloud) is a virtual private network in Amazon’s data centers that has restrictions on its access. Within this VPC, all your instances and services can communicate, but other AWS customers can’t see them.\n",
    "\n",
    "```zsh\n",
    "aws ec2 describe-vpcs\n",
    "```\n",
    "\n",
    "In Amazon EC2, security groups are the virtual firewalls that control the inbound and outbound traffic for EC2 instances. \n",
    "\n",
    "```zsh\n",
    "aws ec2 describe-security-groups --filters Name=vpc-id,Values=$VPC_ID --query \"SecurityGroups[*].GroupId\"\n",
    "aws ec2 describe-security-groups --filters Name=vpc-id,Values=$VPC_ID --query \"SecurityGroups[*].GroupId\" --output table\n",
    "```\n"
   ]
  },
  {
   "cell_type": "markdown",
   "metadata": {},
   "source": [
    "\n",
    "Amazon Subnets are smaller ranges of IP addresses within a VPC:\n",
    "\n",
    "```zsh\n",
    "aws ec2 describe-availability-zones --query \"AvailabilityZones[*].{\"RegionName\":RegionName,\"ZoneName\":ZoneName}\" --output table\n",
    "```\n",
    "\n",
    "```zsh\n",
    "aws ec2 create-subnet --vpc-id $VPC_ID --cidr-block 172.31.0.0/16 --availability-zone us-west-1c --tag-specifications 'ResourceType=subnet, Tags=[{Key=name,Value=subnet-public-a},{Key=learning, Value=educative}]'\n",
    "```\n",
    "\n",
    "```zsh\n",
    "aws ec2 describe-subnets\n",
    "aws ec2 modify-subnet-attribute --subnet-id $SUBNET_ID --map-public-ip-on-launch\n",
    "```\n",
    "\n",
    "The default security group has some default inbound and outbound rules.\n",
    "Let's add port 5000 utilized by Flask\n",
    "```zsh\n",
    "aws ec2 authorize-security-group-ingress --group-id $SG_ID --protocol tcp --port 5000 --cidr 0.0.0.0/0\n",
    "```\n",
    "and port 22 used by ssh:\n",
    "```zsh\n",
    "aws ec2 authorize-security-group-ingress --group-id $SG_ID --protocol tcp --port 22 --cidr 0.0.0.0/0\n",
    "```\n"
   ]
  },
  {
   "cell_type": "markdown",
   "metadata": {},
   "source": [
    "To create an instance first find the AMI ID of Linux you want to use (for Ubuntu: `ami-0ce2cb35386fc22e9` for Amazon Linux: Amazon Linux 2 AMI:\n",
    "`ami-0082110c417e4726e`)\n",
    "```zsh\n",
    "aws ec2 run-instances --image-id $AMI_ID --count 1 --instance-type t2.micro --key-name ec2project --security-group-id $SG_ID --subnet-id $SUBNET_ID\n",
    "``` "
   ]
  },
  {
   "cell_type": "markdown",
   "metadata": {},
   "source": [
    "To check the status of instances:\n",
    "```zsh\n",
    "aws ec2 describe-instances\n",
    "aws ec2 describe-instances --instance-id i-04918bcdbf7cffd64 --output table\n",
    "aws ec2 describe-instances --instance-ids i-04918bcdbf7cffd64 --output table --query 'Reservations[*].Instances[*].[InstanceId,State.Name]'\n",
    "aws ec2 describe-instances --output table --query 'Reservations[*].Instances[*].[InstanceId,State.Name]'\n",
    "```"
   ]
  },
  {
   "cell_type": "markdown",
   "metadata": {},
   "source": [
    "To ssh into a EC2 instance:\n",
    "```\n",
    "ssh -i ec2project.pem ec2-user@13.57.29.210\n",
    "```"
   ]
  },
  {
   "cell_type": "markdown",
   "metadata": {},
   "source": [
    "To deploy anything to EC2 instance first change mode:\n",
    "`chmod 400 ec2project.pem`\n",
    "\n",
    "```zsh\n",
    "scp -i ec2project.pem flask.tar.gz ec2-user@13.57.29.210:flask.tar.gz\n",
    "```\n",
    "\n",
    "For Amazon Linux AMI username is `ec2-user`."
   ]
  },
  {
   "cell_type": "markdown",
   "metadata": {},
   "source": [
    "Install pip and packages:\n",
    "```zsh\n",
    "curl -O https://bootstrap.pypa.io/get-pip.py\n",
    "sudo python3 get-pip.py\n",
    "python3 -m pip install flask flask_sqlalchemy\n",
    "```\n",
    "\n",
    "```zsh\n",
    "tar -xvf flask.tar.gz\n",
    "export FLASK_APP=application.py \n",
    "flask run --host=0.0.0.0\n",
    "```\n",
    "\n",
    "To terminate instance:\n",
    "```zsh\n",
    "aws ec2 terminate-instances --instance-ids i-0ab286b95c7dd99da\n",
    "```\n",
    "\n",
    "To delete key-pair:\n",
    "```zsh\n",
    "aws ec2 delete-key-pair --key-name ec2project\n",
    "```\n",
    "To delete subnet:\n",
    "```zsh\n",
    "aws ec2 delete-subnet --subnet-id $SUBNET_ID\n",
    "```"
   ]
  }
 ],
 "metadata": {
  "language_info": {
   "name": "python"
  }
 },
 "nbformat": 4,
 "nbformat_minor": 2
}
