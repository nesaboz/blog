{
 "cells": [
  {
   "attachments": {},
   "cell_type": "markdown",
   "metadata": {},
   "source": [
    "# `copy` module"
   ]
  },
  {
   "attachments": {},
   "cell_type": "markdown",
   "metadata": {},
   "source": [
    "One has to be careful when wanting to copy a variable/objects in Python as simple assigment doesn't copy an object but just a reference. This problem is solver by the `copy` module.\n",
    "For simple lists and dictionaries use `copy.copy`, for class instances one must use `copy.deepcopy` to actually copy an object. Following is example that illustrates this:"
   ]
  },
  {
   "cell_type": "code",
   "execution_count": 1,
   "metadata": {},
   "outputs": [],
   "source": [
    "import copy"
   ]
  },
  {
   "cell_type": "code",
   "execution_count": 2,
   "metadata": {},
   "outputs": [],
   "source": [
    "class Something():\n",
    "    a = 1\n",
    "    def __init__(self):        \n",
    "        self.b = 1\n",
    "        self._value = 1\n",
    "        self.list = [1,1,1]\n",
    "\n",
    "    @property\n",
    "    def value(self):\n",
    "        return self._value\n",
    "    \n",
    "    @value.setter\n",
    "    def value(self, value):\n",
    "        self._value = value\n"
   ]
  },
  {
   "attachments": {},
   "cell_type": "markdown",
   "metadata": {},
   "source": [
    "Let's just assign a new variable `p=s`, this will not be a copy but just a refernece to the same object:"
   ]
  },
  {
   "cell_type": "code",
   "execution_count": 3,
   "metadata": {},
   "outputs": [
    {
     "data": {
      "text/plain": [
       "True"
      ]
     },
     "execution_count": 3,
     "metadata": {},
     "output_type": "execute_result"
    }
   ],
   "source": [
    "s = Something()\n",
    "p = s\n",
    "id(p) == id(s)"
   ]
  },
  {
   "attachments": {},
   "cell_type": "markdown",
   "metadata": {},
   "source": [
    "If we now change p, s will change too:"
   ]
  },
  {
   "cell_type": "code",
   "execution_count": 4,
   "metadata": {},
   "outputs": [],
   "source": [
    "def change_p_and_print(p, s):\n",
    "    print('s is initially:', s.a, s.b, s.value, s.list)\n",
    "    p.a = 10\n",
    "    p.b = 10\n",
    "    p.value = 10\n",
    "    p.list.append(10)\n",
    "    print('p is:          ', p.a, p.b, p.value, p.list)\n",
    "    print('s is now:      ', s.a, s.b, s.value, s.list)\n",
    "    print('s id:', id(s))\n",
    "    print('p id:', id(p))"
   ]
  },
  {
   "cell_type": "code",
   "execution_count": 5,
   "metadata": {},
   "outputs": [
    {
     "name": "stdout",
     "output_type": "stream",
     "text": [
      "s is initially: 1 1 1 [1, 1, 1]\n",
      "p is:           10 10 10 [1, 1, 1, 10]\n",
      "s is now:       10 10 10 [1, 1, 1, 10]\n",
      "s id: 4352964496\n",
      "p id: 4352964496\n"
     ]
    }
   ],
   "source": [
    "change_p_and_print(p, s)"
   ]
  },
  {
   "attachments": {},
   "cell_type": "markdown",
   "metadata": {},
   "source": []
  },
  {
   "attachments": {},
   "cell_type": "markdown",
   "metadata": {},
   "source": [
    "Let's now make a copy (aka shallow copy):"
   ]
  },
  {
   "cell_type": "code",
   "execution_count": 6,
   "metadata": {},
   "outputs": [
    {
     "name": "stdout",
     "output_type": "stream",
     "text": [
      "s is initially: 1 1 1 [1, 1, 1]\n",
      "p is:           10 10 10 [1, 1, 1, 10]\n",
      "s is now:       1 1 1 [1, 1, 1, 10]\n",
      "s id: 4352951920\n",
      "p id: 4352964352\n"
     ]
    }
   ],
   "source": [
    "s = Something()\n",
    "p = copy.copy(s)\n",
    "change_p_and_print(p, s)"
   ]
  },
  {
   "attachments": {},
   "cell_type": "markdown",
   "metadata": {},
   "source": [
    "So we see that non-list variables are now copied, but `list` variable is still just referenced, and can be changed. As [this](https://www.programiz.com/python-programming/shallow-deep-copy#:~:text=Copy%20an%20Object%20in%20Python,reference%20of%20the%20original%20object.) website puts it: \"a shallow copy doesn't create a copy of nested objects, instead it just copies the reference of nested objects. This means, a copy process does not recurse or create copies of nested objects itself.\". `id`-s are now different. \n",
    "\n",
    "To make a proper (i.e. deep copy) we use deep copy."
   ]
  },
  {
   "cell_type": "code",
   "execution_count": 7,
   "metadata": {},
   "outputs": [
    {
     "name": "stdout",
     "output_type": "stream",
     "text": [
      "1 1 1 [1, 1, 1]\n",
      "s is initially: 1 1 1 [1, 1, 1]\n",
      "p is:           10 10 10 [1, 1, 1, 10]\n",
      "s is now:       1 1 1 [1, 1, 1]\n",
      "s id: 4352956480\n",
      "p id: 4421994192\n"
     ]
    }
   ],
   "source": [
    "s = Something()\n",
    "print(s.a, s.b, s.value, s.list)\n",
    "p = copy.deepcopy(s)\n",
    "change_p_and_print(p, s)"
   ]
  }
 ],
 "metadata": {
  "kernelspec": {
   "display_name": "website",
   "language": "python",
   "name": "website"
  },
  "language_info": {
   "codemirror_mode": {
    "name": "ipython",
    "version": 3
   },
   "file_extension": ".py",
   "mimetype": "text/x-python",
   "name": "python",
   "nbconvert_exporter": "python",
   "pygments_lexer": "ipython3",
   "version": "3.10.9"
  },
  "orig_nbformat": 4
 },
 "nbformat": 4,
 "nbformat_minor": 2
}
