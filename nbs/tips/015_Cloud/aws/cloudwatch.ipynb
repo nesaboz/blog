{
 "cells": [
  {
   "cell_type": "markdown",
   "metadata": {},
   "source": [
    "Install stress library (not complete commands maybe):\n",
    "\n",
    "```\n",
    "sudo apt-get install stress\n",
    "sudo apt-get install htop\n",
    "```\n",
    "\n",
    "Run stress:\n",
    "```\n",
    "stress --cpu 6 --vm-bytes $(awk '/MemAvailable/{printf \"%d\\n\", $2 * 0.75;}' < /proc/meminfo)k --vm-keep -m 1\n",
    "```\n"
   ]
  },
  {
   "cell_type": "markdown",
   "metadata": {},
   "source": []
  }
 ],
 "metadata": {
  "language_info": {
   "name": "python"
  }
 },
 "nbformat": 4,
 "nbformat_minor": 2
}
