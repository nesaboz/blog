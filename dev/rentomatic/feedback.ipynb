{
 "cells": [
  {
   "cell_type": "markdown",
   "metadata": {},
   "source": [
    "A Simple Coding Example -> Domain Models -> test_room.py -> Remove line 15: room = Room.from_dict(init_dict)\n",
    "\n",
    "Domain models and Entities are interchangeable right?\n",
    "\n",
    "Repository and Storage Systems are interchangeable right?\n",
    "\n",
    "Does MemRepo stand for MemoryRepository?\n",
    "\n",
    "So many times we repeated the list object of 4 rooms (like \"size\": 215, \"price\": 39, ...), why not reuse this?\n",
    "\n",
    "A Simple Coding Example -> Quiz -> \"In clean architecture, the Command-Line Interface can belong to which layer(s)?\" How can it be both Entities and External Systems? \n",
    "\n",
    "User should be warned to install Flask from Appendix around introduction of `conftest.py`\n",
    "\n",
    "\n",
    "\n",
    "\n",
    "\n"
   ]
  },
  {
   "cell_type": "markdown",
   "metadata": {},
   "source": []
  },
  {
   "cell_type": "markdown",
   "metadata": {},
   "source": []
  },
  {
   "cell_type": "markdown",
   "metadata": {},
   "source": []
  },
  {
   "cell_type": "markdown",
   "metadata": {},
   "source": []
  }
 ],
 "metadata": {
  "language_info": {
   "name": "python"
  }
 },
 "nbformat": 4,
 "nbformat_minor": 2
}
