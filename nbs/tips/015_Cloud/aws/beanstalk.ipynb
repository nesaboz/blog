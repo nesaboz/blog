{
 "cells": [
  {
   "cell_type": "markdown",
   "metadata": {},
   "source": [
    "# AWS Beanstalk"
   ]
  },
  {
   "cell_type": "markdown",
   "metadata": {},
   "source": [
    "Credits **Educative.io** [course](https://www.educative.io/cloudlabs/deploying-web-applications-using-elastic-beanstalk)."
   ]
  },
  {
   "cell_type": "markdown",
   "metadata": {},
   "source": [
    "Elastic Beanstalk is designed to host web apps by creating the whole stack various resources for us such as, an EC2 instance, an EC2 security group, an S3 bucket, CloudWatch alarms, and CloudFormation stack. Elastic Beanstalk also provides us with a domain name for our application.\n",
    "It is also auto-scalable. It works well with Flask, Django, Node.js, PHP, Python, Ruby, Tomcat, and .NET.\n",
    "\n",
    "Take home messages:\n",
    "- Create IAM role that allows BeanStack to access EC2, policy: AWSElasticBeanstalkWebTier\n",
    "- Elastic Beanstalk looks for zip file, that has requirements.txt, and it looks for our code in the application.py file (in case of Flask app)."
   ]
  }
 ],
 "metadata": {
  "language_info": {
   "name": "python"
  }
 },
 "nbformat": 4,
 "nbformat_minor": 2
}
