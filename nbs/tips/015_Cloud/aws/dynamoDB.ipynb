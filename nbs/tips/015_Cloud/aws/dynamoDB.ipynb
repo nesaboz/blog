{
 "cells": [
  {
   "cell_type": "markdown",
   "metadata": {},
   "source": [
    "# AWS DocumentDB"
   ]
  },
  {
   "cell_type": "markdown",
   "metadata": {},
   "source": [
    "Credits **Educative.io**"
   ]
  },
  {
   "cell_type": "markdown",
   "metadata": {},
   "source": [
    "AWS DocumentDB creates a MongoDB database cluster, and we'll store some data in it. We can also create a snapshot and create a new cluster from it."
   ]
  },
  {
   "cell_type": "markdown",
   "metadata": {},
   "source": [
    "Some key points:\n",
    "\n",
    "- we need to create a DocumentDB cluster. There are two types of clusters using DocumentDB (Instance-based clusters and Elastic clusters). Instance-based clusters are used when we're working with applications that have predictable and consistent data and number of instances is fixed. Elastic clusters are used when we're working with applications that have unpredictable data and scaling is managed by AWS.\n",
    "- we need to create a security group, and add inbound rule, “Custom TCP”, “Port range” to 27017 (this is the default port through which our DocumentDB cluster communicates), and add security group associated with our Cloud9 environment from the drop-down list available (this security group will look like aws-cloud9-DocDBEnv-... | sgxxxxxxxxx.).\n",
    "- we can then install MongoDB shell on our Cloud9 environment, and connect to our DocumentDB cluster using the following command:\n",
    "    - echo -e \"[mongodb-org-4.0] \\nname=MongoDB Repository\\nbaseurl=https://repo.mongodb.org/yum/amazon/2013.03/mongodb-org/4.0/x86_64/\\ngpgcheck=1 \\nenabled=1 \\ngpgkey=https://www.mongodb.org/static/pgp/server-4.0.asc\" | sudo tee /etc/yum.repos.d/mongodb-org-4.0.repo &&/\n",
    "sudo yum install -y mongodb-org-shell\n",
    "    - wget https://truststore.pki.rds.amazonaws.com/global/global-bundle.pem\n",
    "    - mongo --ssl --host docdb-2024-01-13-00-57-19.cluster-cinfonv7x3oh.us-east-1.docdb.amazonaws.com:27017 --sslCAFile global-bundle.pem --username educative --password XYZ"
   ]
  },
  {
   "cell_type": "markdown",
   "metadata": {},
   "source": [
    "MongoDB shell has it's own language, and we can run commands like show dbs, db.createCollection(\"users\"), db.users.insert({name: \"John\"}), db.users.find(), etc. For example, to insert a row into a mp3players collection, we can run the following command:"
   ]
  },
  {
   "cell_type": "markdown",
   "metadata": {},
   "source": [
    "```python\n",
    "db.mp3playlist.insertMany([\n",
    "   {\n",
    "      id: 1,\n",
    "      title: \"Song 2\",\n",
    "      artist: \"Blur\",\n",
    "      duration: \"5:47\",\n",
    "      album: \"Blur\"\n",
    "    }\n",
    "])\n",
    "\n",
    "db.mp3playlist.find({ \"artist\": \"XYZ\" })\n",
    "```"
   ]
  }
 ],
 "metadata": {
  "language_info": {
   "name": "python"
  }
 },
 "nbformat": 4,
 "nbformat_minor": 2
}
