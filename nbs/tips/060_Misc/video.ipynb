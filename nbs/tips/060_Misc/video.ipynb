{
 "cells": [
  {
   "cell_type": "markdown",
   "metadata": {},
   "source": [
    "# Video capture and processing"
   ]
  },
  {
   "cell_type": "markdown",
   "metadata": {},
   "source": [
    "\n",
    "\n",
    "To grab a video on MacOS use `Command + Shift + 5`.\n",
    "\n",
    "To refer to the video in markdown like README.md use this (btw GitHub automatically embeds video):\n",
    "```markdown\n",
    "![description](demo.mov)\n",
    "```\n",
    "\n",
    "```zsh\n",
    "pip install moviepy\n",
    "```\n"
   ]
  },
  {
   "cell_type": "markdown",
   "metadata": {},
   "source": [
    "\n",
    "## Speed up video\n",
    "\n",
    "\n",
    "\n"
   ]
  },
  {
   "cell_type": "code",
   "execution_count": null,
   "metadata": {},
   "outputs": [],
   "source": [
    "from moviepy.editor import VideoFileClip\n",
    "\n",
    "def speed_up_video(input_video_path, output_video_path, speed_factor=2):\n",
    "    # Load the video file\n",
    "    video_clip = VideoFileClip(input_video_path)\n",
    "    \n",
    "    # Speed up the video\n",
    "    new_clip = video_clip.speedx(factor=speed_factor)\n",
    "    \n",
    "    # Write the resulting video to the output file\n",
    "    new_clip.write_videofile(output_video_path, codec='libx264', audio_codec='aac')\n",
    "\n",
    "input_video_path = 'demo.mov'\n",
    "output_video_path = 'demo_2x.mov'\n",
    "speed_up_video(input_video_path, output_video_path, 2)"
   ]
  },
  {
   "cell_type": "markdown",
   "metadata": {},
   "source": [
    "## Convert to gif"
   ]
  },
  {
   "cell_type": "code",
   "execution_count": 6,
   "metadata": {},
   "outputs": [
    {
     "name": "stdout",
     "output_type": "stream",
     "text": [
      "MoviePy - Building file /Users/nenadbozinovic/Desktop/demo_extracted_data_2.gif with imageio.\n"
     ]
    },
    {
     "name": "stderr",
     "output_type": "stream",
     "text": [
      "                                                            \r"
     ]
    }
   ],
   "source": [
    "from moviepy.editor import VideoFileClip\n",
    "\n",
    "def convert_mov_to_gif(source_file, target_file, frame_subsampling=1, start_time=None, end_time=None, resize=None):\n",
    "    # Load the source video file\n",
    "    clip = VideoFileClip(source_file)  # .subclip(start_time, end_time)\n",
    "    \n",
    "    # Optionally resize the clip if resize dimensions are provided\n",
    "    if resize:\n",
    "        clip = clip.resize(resize)\n",
    "    \n",
    "    if frame_subsampling > 1:\n",
    "        clip = clip.set_fps(clip.fps / frame_subsampling)\n",
    "        \n",
    "    # Write the result to a gif file\n",
    "    clip.write_gif(target_file)\n",
    "\n",
    "# Usage\n",
    "convert_mov_to_gif('/Users/nenadbozinovic/Desktop/demo_extracted_data.mov', '/Users/nenadbozinovic/Desktop/demo_extracted_data_2.gif', frame_subsampling=20)  # , resize=(320, 240))"
   ]
  }
 ],
 "metadata": {
  "kernelspec": {
   "display_name": "venv_blog",
   "language": "python",
   "name": "python3"
  },
  "language_info": {
   "codemirror_mode": {
    "name": "ipython",
    "version": 3
   },
   "file_extension": ".py",
   "mimetype": "text/x-python",
   "name": "python",
   "nbconvert_exporter": "python",
   "pygments_lexer": "ipython3",
   "version": "3.12.3"
  }
 },
 "nbformat": 4,
 "nbformat_minor": 2
}
