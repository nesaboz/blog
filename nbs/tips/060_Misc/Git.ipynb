{
 "cells": [
  {
   "attachments": {},
   "cell_type": "markdown",
   "metadata": {},
   "source": [
    "# Git"
   ]
  },
  {
   "attachments": {},
   "cell_type": "markdown",
   "metadata": {},
   "source": [
    "`.gitignore` file (no extension) example (finish folder with / to add all files)\n",
    "```\n",
    "some_folder/\n",
    "**/some_folder no matter the parent folder/  # great for cache folders\n",
    "/specific_file.txt\n",
    "*/    # all folders\n",
    "*.ext   # all files with extension ext\n",
    "\n",
    "```"
   ]
  },
  {
   "attachments": {},
   "cell_type": "markdown",
   "metadata": {},
   "source": []
  },
  {
   "attachments": {},
   "cell_type": "markdown",
   "metadata": {},
   "source": [
    "```zsh\n",
    "git status\n",
    "git clone # use SSH instead of HTTPS always\n",
    "git fetch\n",
    "git pull\n",
    "git push\n",
    "git commit\n",
    "git add\n",
    "git remote -v  # shows origin URL\n",
    "git remote update\n",
    "git branch new-feature  # this will create branch of a current branch, but not switch \n",
    "git branch -d my-feature-branch  # deletes local branch, use -D to force it\n",
    "git branch -r  # see all remote branches\n",
    "git push origin -d my-feature-branch   # to delete remote branch \n",
    "git checkout feature-branch\n",
    "git merge feature-branch  # to merge feature-branch into current branch \n",
    "git config --global user.email \"you@example.com\"\n",
    "git config --global user.name \"Your Name\"\n",
    "```\n"
   ]
  },
  {
   "attachments": {},
   "cell_type": "markdown",
   "metadata": {},
   "source": [
    "## `git clone` via SSH\n",
    "\n",
    "There are several ways to clone a repo but SSH is the easiest and most secure so use it always instead of HTTPS.\n",
    "\n",
    "See [this](/tips/030_Terminal/zsh.html#ssh) to set up SSH access.\n",
    "\n",
    "If git connection is HTTPS then user is asked for username/password. Instead of a password, provide a [token](https://docs.github.com/en/get-started/getting-started-with-git/about-remote-repositories#cloning-with-https-urls), that can be generated like [this](https://docs.github.com/en/authentication/keeping-your-account-and-data-secure/creating-a-personal-access-token). It's better however to simply use SSH.\n"
   ]
  }
 ],
 "metadata": {
  "kernelspec": {
   "display_name": "python3",
   "language": "python",
   "name": "python3"
  }
 },
 "nbformat": 4,
 "nbformat_minor": 0
}
