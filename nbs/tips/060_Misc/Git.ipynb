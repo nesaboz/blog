{
 "cells": [
  {
   "attachments": {},
   "cell_type": "markdown",
   "metadata": {},
   "source": [
    "# Git"
   ]
  },
  {
   "attachments": {},
   "cell_type": "markdown",
   "metadata": {},
   "source": [
    "`.gitignore` file (no extension) example:\n",
    "```\n",
    "/data/*\n",
    "/.idea/*\n",
    "/.pytest_cache/*\n",
    "/.ipynb_checkpoints/*\n",
    "/pycode/.ipynb_checkpoints/*\n",
    "```"
   ]
  },
  {
   "attachments": {},
   "cell_type": "markdown",
   "metadata": {},
   "source": [
    "When pushing from a remote server, user is asked for username/password. Instead of a password, provide a [token](https://docs.github.com/en/get-started/getting-started-with-git/about-remote-repositories#cloning-with-https-urls), that can be generated like [this](https://docs.github.com/en/authentication/keeping-your-account-and-data-secure/creating-a-personal-access-token)."
   ]
  },
  {
   "attachments": {},
   "cell_type": "markdown",
   "metadata": {},
   "source": [
    "```zsh\n",
    "git clone   # use SSH instead of HTTPS always\n",
    "git fetch\n",
    "git pull\n",
    "git push\n",
    "git commit\n",
    "git add\n",
    "git remote -v  # shows URL of a remote\n",
    "```\n"
   ]
  },
  {
   "attachments": {},
   "cell_type": "markdown",
   "metadata": {},
   "source": [
    "## `git clone` via SSH\n",
    "\n",
    "There are several ways to clone a repo but SSH is the easiest and most secure so use it always instead of HTTPS.\n",
    "\n",
    "See [this](/tips/030_Terminal/zsh.html#ssh) to set up SSH access.\n"
   ]
  },
  {
   "attachments": {},
   "cell_type": "markdown",
   "metadata": {},
   "source": []
  }
 ],
 "metadata": {
  "kernelspec": {
   "display_name": "python3",
   "language": "python",
   "name": "python3"
  }
 },
 "nbformat": 4,
 "nbformat_minor": 0
}
