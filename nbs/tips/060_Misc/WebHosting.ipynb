{
 "cells": [
  {
   "cell_type": "markdown",
   "metadata": {},
   "source": [
    "# Web hosting"
   ]
  },
  {
   "cell_type": "markdown",
   "metadata": {},
   "source": [
    "To have custom domain host github pages follow [this](https://stackoverflow.com/questions/9082499/custom-domain-for-github-project-pages) stackoverflow post to a T. It is important to have a file CNAME (that is a simple text file that contains a custom domain) in the same folder with `_quarto.yml`."
   ]
  },
  {
   "cell_type": "markdown",
   "metadata": {},
   "source": [
    "I'm using google hosting services (GSH) for my website nenadbozinovic.com. GHS can be accessed here: [https://admin.google.com/](https://admin.google.com/)."
   ]
  },
  {
   "cell_type": "markdown",
   "metadata": {},
   "source": [
    "To enable comments on a website I'm using [gitcus](https://giscus.app/)."
   ]
  }
 ],
 "metadata": {
  "kernelspec": {
   "display_name": "python3",
   "language": "python",
   "name": "python3"
  }
 },
 "nbformat": 4,
 "nbformat_minor": 0
}
