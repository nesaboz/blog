{
 "cells": [
  {
   "cell_type": "markdown",
   "metadata": {
    "vscode": {
     "languageId": "plaintext"
    }
   },
   "source": [
    "# Custom CSS to inject for making buttons bigger\n",
    "\n",
    "```python\n",
    "css = \"\"\"\n",
    "<style>\n",
    ".stButton>button {\n",
    "    background-image: url('http://www.clker.com/cliparts/5/A/k/D/X/A/stop-button-md.png');\n",
    "    width: 150px !important;\n",
    "    height: 150px !important;\n",
    "    background-size: cover; /* Cover the entire area of the button */\n",
    "    border: none;\n",
    "}\n",
    "</style>\n",
    "\"\"\"\n",
    "\n",
    "# Inject custom CSS with markdown\n",
    "st.markdown(css, unsafe_allow_html=True)\n",
    "```"
   ]
  },
  {
   "cell_type": "markdown",
   "metadata": {},
   "source": []
  }
 ],
 "metadata": {
  "language_info": {
   "name": "python"
  }
 },
 "nbformat": 4,
 "nbformat_minor": 2
}
