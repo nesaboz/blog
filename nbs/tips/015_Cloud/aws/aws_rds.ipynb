{
 "cells": [
  {
   "cell_type": "markdown",
   "metadata": {},
   "source": [
    "# AWS RDS"
   ]
  },
  {
   "cell_type": "markdown",
   "metadata": {},
   "source": [
    "Credits **Educative.io**\n",
    "\n",
    "Before we can start working with RDS, we'll have to set up other resources that are required while creating an RDS DB instance. The first of those resources is VPC (virtual private cloud). An RDS DB instance must be created inside a VPC. This is to enhance security and provide network isolation. \n",
    "\n",
    "When setting VPC name will autotag `-vpc`. Set \"Number of Availability Zones (AZs)\". \"None\" for the \"VPC\" endpoints.\n",
    "\n",
    "Now we create RDS, from the \"Templates\" section, select the \"Dev/Test\" option because it'll allow you to select the deployment options.\n",
    "Choose: \"Single DB instance\", \"Multi-AZ DB instance\", or \"Multi-AZ DB cluster\"\n",
    "Burstable classes (includes t classes)\n",
    "We can now check the status of the RDS using EC2 instance:\n",
    "\n",
    "```zsh\n",
    "chmod 400 usercode/RDS-client-key-pair.pem\n",
    "ssh -i usercode/RDS-client-key-pair.pem ubuntu@{public-ipv4-address}\n",
    "sudo apt update\n",
    "sudo apt install mysql-client-core-8.0\n",
    "mysql -h {endpoint} -P 3306 -u admin -p\n",
    "aws rds describe-db-instances --db-instance-identifier mysql8\n",
    "```"
   ]
  },
  {
   "cell_type": "markdown",
   "metadata": {},
   "source": []
  }
 ],
 "metadata": {
  "language_info": {
   "name": "python"
  }
 },
 "nbformat": 4,
 "nbformat_minor": 2
}
