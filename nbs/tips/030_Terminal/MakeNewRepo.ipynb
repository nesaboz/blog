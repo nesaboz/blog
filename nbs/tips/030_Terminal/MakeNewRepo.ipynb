{
 "cells": [
  {
   "cell_type": "markdown",
   "metadata": {},
   "source": [
    "# MakeNewRepo"
   ]
  },
  {
   "cell_type": "markdown",
   "metadata": {},
   "source": [
    "If making shell file make sure it has correct line endings for the system, in PyCharm go to File -> File Properties -> Line Separators  \n",
    "- go to GitHub and create a new repo with name \n",
    "- go to the PyCharmProject folder  \n",
    "- update conda and init bash for new version of conda"
   ]
  },
  {
   "cell_type": "raw",
   "metadata": {},
   "source": [
    "\n",
    "```zsh\n",
    "conda update -n base -c conda-forge conda\n",
    "```"
   ]
  },
  {
   "cell_type": "raw",
   "metadata": {},
   "source": [
    "\n",
    "```zsh\n",
    "conda init zsh  # Must restart terminal if running this one.\n",
    "```"
   ]
  },
  {
   "cell_type": "raw",
   "metadata": {},
   "source": [
    "\n",
    "```zsh\n",
    "$repo_name = <enter repo name here>\n",
    "$python_ver = 3.10\n",
    "yes | conda create -n $repo_name python=$python_ver\n",
    "conda activate $repo_name\n",
    "```"
   ]
  },
  {
   "cell_type": "markdown",
   "metadata": {},
   "source": [
    "\n",
    "```zsh\n",
    "chmod +x utils/setup_new_project.sh check with ls -l\n",
    "./utils/setup_new_project.sh <repo_name> <python_version>\n",
    "# for example ./setup_new_project.sh test_repo 3.10\n",
    "```"
   ]
  },
  {
   "cell_type": "markdown",
   "metadata": {},
   "source": [
    "\n",
    "To create a folder:\n",
    "```\n",
    "mkdir $repo_name\n",
    "```"
   ]
  },
  {
   "cell_type": "markdown",
   "metadata": {},
   "source": [
    "\n",
    "```zsh\n",
    "cd $repo_name || exit\n",
    "```"
   ]
  },
  {
   "cell_type": "markdown",
   "metadata": {},
   "source": [
    "\n",
    "Install packages:\n",
    "```zsh\n",
    "pip install -U numpy pandas matplotlib torchviz scikit-learn tensorboard torchvision torch tqdm torch-lr-finder ipyplot ipywidgets opencv-python\n",
    "yes | conda install -c conda-forge jupyter_contrib_nbextensions graphviz python-graphviz\n",
    "```"
   ]
  },
  {
   "cell_type": "markdown",
   "metadata": {},
   "source": [
    "\n",
    "Add a kernel:\n",
    "```zsh\n",
    "ipython kernel install --name $repo_name --user\n",
    "```"
   ]
  },
  {
   "cell_type": "markdown",
   "metadata": {},
   "source": [
    "\n",
    "Git:\n",
    "\n",
    "```zsh\n",
    "echo $repo_name >> README.md\n",
    "git config --global init.defaultBranch main\n",
    "git init\n",
    "git add .\n",
    "git commit -m \"first commit\"\n",
    "git branch -M main\n",
    "remote_name=git@github.com:nesaboz/$repo_name.git\n",
    "git remote add origin $remote_name\n",
    "git push -u origin main\n",
    "```"
   ]
  },
  {
   "cell_type": "markdown",
   "metadata": {},
   "source": [
    "\n",
    "```\n",
    "jupyter notebook --generate-config\n",
    "```\n",
    "\n",
    "Change the default kernel by modifying and uncommenting in jupyter config file following line:  `c.MultiKernelManager.default_kernel_name='newDefault' \\n\"`\n",
    "\n",
    "Add jupyter notebook extensions `collapsable headings` and `table of context 2 (toc2)`"
   ]
  }
 ],
 "metadata": {
  "kernelspec": {
   "display_name": "python3",
   "language": "python",
   "name": "python3"
  }
 },
 "nbformat": 4,
 "nbformat_minor": 4
}
