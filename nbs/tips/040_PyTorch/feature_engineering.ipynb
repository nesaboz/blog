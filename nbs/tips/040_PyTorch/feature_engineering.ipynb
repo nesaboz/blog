{
 "cells": [
  {
   "attachments": {},
   "cell_type": "markdown",
   "metadata": {},
   "source": [
    "# Feature Engineering"
   ]
  },
  {
   "attachments": {},
   "cell_type": "markdown",
   "metadata": {},
   "source": [
    "Feature engineering is a critcal stage in any machine learning project. It's main purpose is to extract features from the raw data and generate numerical values that can be used to train a machine learning model. In this notebook, we will explore the different types of features and how to generate them."
   ]
  },
  {
   "attachments": {},
   "cell_type": "markdown",
   "metadata": {},
   "source": [
    "## Label encoding"
   ]
  },
  {
   "attachments": {},
   "cell_type": "markdown",
   "metadata": {},
   "source": [
    "Label encoding generates number for category:"
   ]
  },
  {
   "cell_type": "code",
   "execution_count": null,
   "metadata": {},
   "outputs": [
    {
     "name": "stdout",
     "output_type": "stream",
     "text": [
      "The original data\n",
      "['Sun' 'Sun' 'Moon' 'Earth' 'Monn' 'Venus']\n",
      "The transform data using LabelEncoder\n",
      "[3 3 2 0 1 4]\n"
     ]
    }
   ],
   "source": [
    "import sklearn.preprocessing as preprocessing\n",
    "targets = np.array([\"Sun\", \"Sun\", \"Moon\", \"Earth\", \"Monn\", \"Venus\"])\n",
    "labelenc = preprocessing.LabelEncoder()\n",
    "labelenc.fit(targets)\n",
    "targets_trans = labelenc.transform(targets)\n",
    "print(\"The original data\")\n",
    "print(targets)\n",
    "print(\"The transform data using LabelEncoder\")\n",
    "print(targets_trans)"
   ]
  },
  {
   "attachments": {},
   "cell_type": "markdown",
   "metadata": {},
   "source": [
    "The label encoding operation must be performed on both the train and test dataset at the same time. We can use `.astype(\"category\")` and `pandas.Series.cat.coded` to do the same: "
   ]
  },
  {
   "cell_type": "code",
   "execution_count": null,
   "metadata": {},
   "outputs": [
    {
     "name": "stdout",
     "output_type": "stream",
     "text": [
      "The original types of DataFrame\n",
      "col1    object\n",
      "dtype: object\n",
      "******************************\n",
      "The new types of DataFrame\n",
      "col1    category\n",
      "dtype: object\n",
      "******************************\n",
      "The new column.\n"
     ]
    },
    {
     "data": {
      "text/html": [
       "<div>\n",
       "<style scoped>\n",
       "    .dataframe tbody tr th:only-of-type {\n",
       "        vertical-align: middle;\n",
       "    }\n",
       "\n",
       "    .dataframe tbody tr th {\n",
       "        vertical-align: top;\n",
       "    }\n",
       "\n",
       "    .dataframe thead th {\n",
       "        text-align: right;\n",
       "    }\n",
       "</style>\n",
       "<table border=\"1\" class=\"dataframe\">\n",
       "  <thead>\n",
       "    <tr style=\"text-align: right;\">\n",
       "      <th></th>\n",
       "      <th>col1</th>\n",
       "      <th>col1_label_encoding</th>\n",
       "    </tr>\n",
       "  </thead>\n",
       "  <tbody>\n",
       "    <tr>\n",
       "      <th>0</th>\n",
       "      <td>Sun</td>\n",
       "      <td>3</td>\n",
       "    </tr>\n",
       "    <tr>\n",
       "      <th>1</th>\n",
       "      <td>Sun</td>\n",
       "      <td>3</td>\n",
       "    </tr>\n",
       "    <tr>\n",
       "      <th>2</th>\n",
       "      <td>Moon</td>\n",
       "      <td>2</td>\n",
       "    </tr>\n",
       "    <tr>\n",
       "      <th>3</th>\n",
       "      <td>Earth</td>\n",
       "      <td>0</td>\n",
       "    </tr>\n",
       "    <tr>\n",
       "      <th>4</th>\n",
       "      <td>Monn</td>\n",
       "      <td>1</td>\n",
       "    </tr>\n",
       "    <tr>\n",
       "      <th>5</th>\n",
       "      <td>Venus</td>\n",
       "      <td>4</td>\n",
       "    </tr>\n",
       "  </tbody>\n",
       "</table>\n",
       "</div>"
      ],
      "text/plain": [
       "    col1  col1_label_encoding\n",
       "0    Sun                    3\n",
       "1    Sun                    3\n",
       "2   Moon                    2\n",
       "3  Earth                    0\n",
       "4   Monn                    1\n",
       "5  Venus                    4"
      ]
     },
     "execution_count": null,
     "metadata": {},
     "output_type": "execute_result"
    }
   ],
   "source": [
    "df = pd.DataFrame({\"col1\": [\"Sun\", \"Sun\", \"Moon\", \"Earth\", \"Monn\", \"Venus\"]})\n",
    "print(\"The original types of DataFrame\")\n",
    "print(df.dtypes)\n",
    "print(\"*\"*30)\n",
    "df[\"col1\"] = df[\"col1\"].astype(\"category\")\n",
    "print(\"The new types of DataFrame\")\n",
    "print(df.dtypes)\n",
    "print(\"*\"*30)\n",
    "df[\"col1_label_encoding\"] = df[\"col1\"].cat.codes\n",
    "print(\"The new column.\")\n",
    "df"
   ]
  },
  {
   "attachments": {},
   "cell_type": "markdown",
   "metadata": {},
   "source": [
    "## One-hot encoding"
   ]
  },
  {
   "attachments": {},
   "cell_type": "markdown",
   "metadata": {},
   "source": [
    "Even though we generated numbers from catogory, most times these numbers have no order (i.e. they are nominal, not ordinal). In that case, proper way of encoding is to use one-hot encoding."
   ]
  },
  {
   "cell_type": "code",
   "execution_count": null,
   "metadata": {},
   "outputs": [
    {
     "name": "stdout",
     "output_type": "stream",
     "text": [
      "The original data\n",
      "['Sun' 'Sun' 'Moon' 'Earth' 'Moon' 'Venus']\n",
      "The transform data using OneHotEncoder\n",
      "[[0. 0. 1. 0.]\n",
      " [0. 0. 1. 0.]\n",
      " [0. 1. 0. 0.]\n",
      " [1. 0. 0. 0.]\n",
      " [0. 1. 0. 0.]\n",
      " [0. 0. 0. 1.]]\n"
     ]
    }
   ],
   "source": [
    "import sklearn.preprocessing as preprocessing\n",
    "\n",
    "targets = np.array([\"Sun\", \"Sun\", \"Moon\", \"Earth\", \"Moon\",\n",
    "                    \"Venus\"])\n",
    "labelEnc = preprocessing.LabelEncoder()\n",
    "new_target = labelEnc.fit_transform(targets)\n",
    "onehotEnc = preprocessing.OneHotEncoder()\n",
    "onehotEnc.fit(new_target.reshape(-1, 1))\n",
    "targets_trans = onehotEnc.transform(new_target.reshape(-1, 1))\n",
    "print(\"The original data\")\n",
    "print(targets)\n",
    "print(\"The transform data using OneHotEncoder\")\n",
    "print(targets_trans.toarray())"
   ]
  },
  {
   "cell_type": "code",
   "execution_count": null,
   "metadata": {},
   "outputs": [
    {
     "data": {
      "text/html": [
       "<div>\n",
       "<style scoped>\n",
       "    .dataframe tbody tr th:only-of-type {\n",
       "        vertical-align: middle;\n",
       "    }\n",
       "\n",
       "    .dataframe tbody tr th {\n",
       "        vertical-align: top;\n",
       "    }\n",
       "\n",
       "    .dataframe thead th {\n",
       "        text-align: right;\n",
       "    }\n",
       "</style>\n",
       "<table border=\"1\" class=\"dataframe\">\n",
       "  <thead>\n",
       "    <tr style=\"text-align: right;\">\n",
       "      <th></th>\n",
       "      <th>col1_label_encoding</th>\n",
       "      <th>Planet_Earth</th>\n",
       "      <th>Planet_Monn</th>\n",
       "      <th>Planet_Moon</th>\n",
       "      <th>Planet_Sun</th>\n",
       "      <th>Planet_Venus</th>\n",
       "    </tr>\n",
       "  </thead>\n",
       "  <tbody>\n",
       "    <tr>\n",
       "      <th>0</th>\n",
       "      <td>3</td>\n",
       "      <td>0</td>\n",
       "      <td>0</td>\n",
       "      <td>0</td>\n",
       "      <td>1</td>\n",
       "      <td>0</td>\n",
       "    </tr>\n",
       "    <tr>\n",
       "      <th>1</th>\n",
       "      <td>3</td>\n",
       "      <td>0</td>\n",
       "      <td>0</td>\n",
       "      <td>0</td>\n",
       "      <td>1</td>\n",
       "      <td>0</td>\n",
       "    </tr>\n",
       "    <tr>\n",
       "      <th>2</th>\n",
       "      <td>2</td>\n",
       "      <td>0</td>\n",
       "      <td>0</td>\n",
       "      <td>1</td>\n",
       "      <td>0</td>\n",
       "      <td>0</td>\n",
       "    </tr>\n",
       "    <tr>\n",
       "      <th>3</th>\n",
       "      <td>0</td>\n",
       "      <td>1</td>\n",
       "      <td>0</td>\n",
       "      <td>0</td>\n",
       "      <td>0</td>\n",
       "      <td>0</td>\n",
       "    </tr>\n",
       "    <tr>\n",
       "      <th>4</th>\n",
       "      <td>1</td>\n",
       "      <td>0</td>\n",
       "      <td>1</td>\n",
       "      <td>0</td>\n",
       "      <td>0</td>\n",
       "      <td>0</td>\n",
       "    </tr>\n",
       "    <tr>\n",
       "      <th>5</th>\n",
       "      <td>4</td>\n",
       "      <td>0</td>\n",
       "      <td>0</td>\n",
       "      <td>0</td>\n",
       "      <td>0</td>\n",
       "      <td>1</td>\n",
       "    </tr>\n",
       "  </tbody>\n",
       "</table>\n",
       "</div>"
      ],
      "text/plain": [
       "   col1_label_encoding  Planet_Earth  Planet_Monn  Planet_Moon  Planet_Sun  \\\n",
       "0                    3             0            0            0           1   \n",
       "1                    3             0            0            0           1   \n",
       "2                    2             0            0            1           0   \n",
       "3                    0             1            0            0           0   \n",
       "4                    1             0            1            0           0   \n",
       "5                    4             0            0            0           0   \n",
       "\n",
       "   Planet_Venus  \n",
       "0             0  \n",
       "1             0  \n",
       "2             0  \n",
       "3             0  \n",
       "4             0  \n",
       "5             1  "
      ]
     },
     "execution_count": null,
     "metadata": {},
     "output_type": "execute_result"
    }
   ],
   "source": [
    "df_new = pd.get_dummies(df, columns=[\"col1\"], prefix=\"Planet\")\n",
    "df_new"
   ]
  },
  {
   "attachments": {},
   "cell_type": "markdown",
   "metadata": {},
   "source": [
    "# Count encoding\n",
    "\n",
    "Count encoding is a prevalent encoding method for tree-based models. Drawback is that it might map different categories to the same value:"
   ]
  },
  {
   "cell_type": "code",
   "execution_count": null,
   "metadata": {},
   "outputs": [
    {
     "data": {
      "text/html": [
       "<div>\n",
       "<style scoped>\n",
       "    .dataframe tbody tr th:only-of-type {\n",
       "        vertical-align: middle;\n",
       "    }\n",
       "\n",
       "    .dataframe tbody tr th {\n",
       "        vertical-align: top;\n",
       "    }\n",
       "\n",
       "    .dataframe thead th {\n",
       "        text-align: right;\n",
       "    }\n",
       "</style>\n",
       "<table border=\"1\" class=\"dataframe\">\n",
       "  <thead>\n",
       "    <tr style=\"text-align: right;\">\n",
       "      <th></th>\n",
       "      <th>col1</th>\n",
       "      <th>col1_label_encoding</th>\n",
       "      <th>planet_count</th>\n",
       "    </tr>\n",
       "  </thead>\n",
       "  <tbody>\n",
       "    <tr>\n",
       "      <th>0</th>\n",
       "      <td>Sun</td>\n",
       "      <td>3</td>\n",
       "      <td>2</td>\n",
       "    </tr>\n",
       "    <tr>\n",
       "      <th>1</th>\n",
       "      <td>Sun</td>\n",
       "      <td>3</td>\n",
       "      <td>2</td>\n",
       "    </tr>\n",
       "    <tr>\n",
       "      <th>2</th>\n",
       "      <td>Moon</td>\n",
       "      <td>2</td>\n",
       "      <td>1</td>\n",
       "    </tr>\n",
       "    <tr>\n",
       "      <th>3</th>\n",
       "      <td>Earth</td>\n",
       "      <td>0</td>\n",
       "      <td>1</td>\n",
       "    </tr>\n",
       "    <tr>\n",
       "      <th>4</th>\n",
       "      <td>Monn</td>\n",
       "      <td>1</td>\n",
       "      <td>1</td>\n",
       "    </tr>\n",
       "  </tbody>\n",
       "</table>\n",
       "</div>"
      ],
      "text/plain": [
       "    col1  col1_label_encoding  planet_count\n",
       "0    Sun                    3             2\n",
       "1    Sun                    3             2\n",
       "2   Moon                    2             1\n",
       "3  Earth                    0             1\n",
       "4   Monn                    1             1"
      ]
     },
     "execution_count": null,
     "metadata": {},
     "output_type": "execute_result"
    }
   ],
   "source": [
    "df[\"planet_count\"] = df[\"col1\"].map(df[\"col1\"].value_counts().to_dict())\n",
    "df.head()"
   ]
  },
  {
   "attachments": {},
   "cell_type": "markdown",
   "metadata": {},
   "source": [
    "# Mean Encoding"
   ]
  },
  {
   "attachments": {},
   "cell_type": "markdown",
   "metadata": {},
   "source": [
    "Mean encoding maps each category to the mean of the target variable for that category (we could use statistic other then mean too like variance and stdev):"
   ]
  },
  {
   "cell_type": "code",
   "execution_count": null,
   "metadata": {},
   "outputs": [
    {
     "data": {
      "text/html": [
       "<div>\n",
       "<style scoped>\n",
       "    .dataframe tbody tr th:only-of-type {\n",
       "        vertical-align: middle;\n",
       "    }\n",
       "\n",
       "    .dataframe tbody tr th {\n",
       "        vertical-align: top;\n",
       "    }\n",
       "\n",
       "    .dataframe thead th {\n",
       "        text-align: right;\n",
       "    }\n",
       "</style>\n",
       "<table border=\"1\" class=\"dataframe\">\n",
       "  <thead>\n",
       "    <tr style=\"text-align: right;\">\n",
       "      <th></th>\n",
       "      <th>col1</th>\n",
       "      <th>price</th>\n",
       "      <th>col1_price_mean</th>\n",
       "    </tr>\n",
       "  </thead>\n",
       "  <tbody>\n",
       "    <tr>\n",
       "      <th>0</th>\n",
       "      <td>Sun</td>\n",
       "      <td>20</td>\n",
       "      <td>25.0</td>\n",
       "    </tr>\n",
       "    <tr>\n",
       "      <th>1</th>\n",
       "      <td>Moon</td>\n",
       "      <td>30</td>\n",
       "      <td>35.0</td>\n",
       "    </tr>\n",
       "    <tr>\n",
       "      <th>2</th>\n",
       "      <td>Sun</td>\n",
       "      <td>30</td>\n",
       "      <td>25.0</td>\n",
       "    </tr>\n",
       "    <tr>\n",
       "      <th>3</th>\n",
       "      <td>Moon</td>\n",
       "      <td>35</td>\n",
       "      <td>35.0</td>\n",
       "    </tr>\n",
       "    <tr>\n",
       "      <th>4</th>\n",
       "      <td>Moon</td>\n",
       "      <td>40</td>\n",
       "      <td>35.0</td>\n",
       "    </tr>\n",
       "    <tr>\n",
       "      <th>5</th>\n",
       "      <td>Mars</td>\n",
       "      <td>55</td>\n",
       "      <td>55.0</td>\n",
       "    </tr>\n",
       "  </tbody>\n",
       "</table>\n",
       "</div>"
      ],
      "text/plain": [
       "   col1  price  col1_price_mean\n",
       "0   Sun     20             25.0\n",
       "1  Moon     30             35.0\n",
       "2   Sun     30             25.0\n",
       "3  Moon     35             35.0\n",
       "4  Moon     40             35.0\n",
       "5  Mars     55             55.0"
      ]
     },
     "execution_count": null,
     "metadata": {},
     "output_type": "execute_result"
    }
   ],
   "source": [
    "df = pd.DataFrame({\n",
    "    \"col1\": [\"Sun\", \"Moon\", \"Sun\", \"Moon\", \"Moon\", \"Mars\"],\n",
    "    \"price\": [20, 30, 30, 35, 40, 55]\n",
    "})\n",
    "d = df.groupby([\"col1\"])[\"price\"].mean().to_dict()\n",
    "df[\"col1_price_mean\"] = df[\"col1\"].map(d)\n",
    "df"
   ]
  },
  {
   "attachments": {},
   "cell_type": "markdown",
   "metadata": {},
   "source": [
    "## Weight of Evidence (WOE) Encoding"
   ]
  },
  {
   "attachments": {},
   "cell_type": "markdown",
   "metadata": {},
   "source": [
    "WOE is a technique used to encode categorical features for classification tasks. We assign several probabilites to the categories. For example for binary classification problems, WOE is defined as: \n",
    "$$ WOE = \\log \\frac{p(1)}{p(0)} $$"
   ]
  },
  {
   "cell_type": "code",
   "execution_count": null,
   "metadata": {},
   "outputs": [
    {
     "name": "stdout",
     "output_type": "stream",
     "text": [
      "The original dataset\n",
      "   col1  Target\n",
      "0  Moon     1.0\n",
      "1   Sun     1.0\n",
      "2  Moon     0.0\n",
      "3   Sun     1.0\n",
      "4   Sun     0.0\n",
      "******************************\n",
      "The new transform dataset\n",
      "   col1  Target        p1        p0       woe\n",
      "0  Moon     1.0  0.500000  0.500000  0.000000\n",
      "1   Sun     1.0  0.666667  0.333333  0.693147\n",
      "2  Moon     0.0  0.500000  0.500000  0.000000\n",
      "3   Sun     1.0  0.666667  0.333333  0.693147\n",
      "4   Sun     0.0  0.666667  0.333333  0.693147\n"
     ]
    }
   ],
   "source": [
    "df = pd.DataFrame({\n",
    "    \"col1\": [\"Moon\", \"Sun\", \"Moon\", \"Sun\", \"Sun\"],\n",
    "    \"Target\": [1, 1, 0, 1, 0]\n",
    "})\n",
    "df[\"Target\"] = df[\"Target\"].astype(\"float64\")\n",
    "print(\"The original dataset\")\n",
    "print(df)\n",
    "print(\"*\" * 30)\n",
    "d = df.groupby([\"col1\"])[\"Target\"].mean().to_dict()\n",
    "df[\"p1\"] = df[\"col1\"].map(d)\n",
    "df[\"p0\"] = 1 - df[\"p1\"]\n",
    "df[\"woe\"] = np.log(df[\"p1\"] / df[\"p0\"])\n",
    "print(\"The new transform dataset\")\n",
    "print(df)"
   ]
  },
  {
   "attachments": {},
   "cell_type": "markdown",
   "metadata": {},
   "source": [
    "# Feature interaction \n",
    "\n",
    "Is a method where new features can be generated by interaction (merging, adding, etc.) of two or more existing features: "
   ]
  },
  {
   "cell_type": "code",
   "execution_count": null,
   "metadata": {},
   "outputs": [
    {
     "name": "stdout",
     "output_type": "stream",
     "text": [
      "The original feature matrix is\n",
      "  fea1    fea2\n",
      "0    a     red\n",
      "1    b  yellow\n",
      "2    a   white\n",
      "3    b    blue\n",
      "4    a     red\n",
      "==============================\n",
      "The new feature matrix is\n",
      "  fea1    fea2 fea1_fea2\n",
      "0    a     red     a_red\n",
      "1    b  yellow  b_yellow\n",
      "2    a   white   a_white\n",
      "3    b    blue    b_blue\n",
      "4    a     red     a_red\n"
     ]
    }
   ],
   "source": [
    "df = pd.DataFrame({\n",
    "    \"fea1\": [\"a\", \"b\", \"a\", \"b\", \"a\"],\n",
    "    \"fea2\": [\"red\", \"yellow\", \"white\", \"blue\", \"red\"]\n",
    "})\n",
    "\n",
    "print(\"The original feature matrix is\")\n",
    "print(df)\n",
    "\n",
    "print(\"=\" * 30)\n",
    "\n",
    "df[\"fea1_fea2\"] = df[\"fea1\"].astype('str') + \"_\" + df[\"fea2\"].astype('str')\n",
    "print(\"The new feature matrix is\")\n",
    "print(df)"
   ]
  },
  {
   "attachments": {},
   "cell_type": "markdown",
   "metadata": {},
   "source": [
    "# Datatime features\n",
    "\n"
   ]
  },
  {
   "attachments": {},
   "cell_type": "markdown",
   "metadata": {},
   "source": [
    "We encode datetime into year/month/day/hour/etc. features:"
   ]
  },
  {
   "cell_type": "code",
   "execution_count": null,
   "metadata": {},
   "outputs": [
    {
     "name": "stdout",
     "output_type": "stream",
     "text": [
      "The original dataset\n",
      "                 col1\n",
      "0 2019-02-09 13:48:25\n",
      "1 2019-05-01 21:08:25\n",
      "2 2019-09-29 13:30:05\n",
      "3 2020-01-23 11:48:25\n",
      "******************************\n",
      "The new transform dataset\n",
      "                 col1  month  week  hour\n",
      "0 2019-02-09 13:48:25      2     6    13\n",
      "1 2019-05-01 21:08:25      5    18    21\n",
      "2 2019-09-29 13:30:05      9    39    13\n",
      "3 2020-01-23 11:48:25      1     4    11\n"
     ]
    }
   ],
   "source": [
    "df = pd.DataFrame({\"col1\": [1549720105, 1556744905, 1569763805, 1579780105]})\n",
    "df[\"col1\"] = pd.to_datetime(df['col1'], unit='s')\n",
    "print(\"The original dataset\")\n",
    "print(df)\n",
    "print(\"*\" * 30)\n",
    "df[\"month\"] = df[\"col1\"].dt.month\n",
    "df[\"week\"] = df[\"col1\"].dt.isocalendar().week\n",
    "df[\"hour\"] = df[\"col1\"].dt.hour\n",
    "print(\"The new transform dataset\")\n",
    "print(df)"
   ]
  },
  {
   "cell_type": "code",
   "execution_count": null,
   "metadata": {},
   "outputs": [
    {
     "name": "stdout",
     "output_type": "stream",
     "text": [
      "The original dataset\n",
      "         col1        col2\n",
      "0  1529720105  1549720105\n",
      "1  1536744905  1556744905\n",
      "2  1529763805  1569763805\n",
      "3  1519780105  1579780105\n",
      "The new transform dataset\n",
      "                 col1                col2          interval  interval_days\n",
      "0 2018-06-23 02:15:05 2019-02-09 13:48:25 231 days 11:33:20            231\n",
      "1 2018-09-12 09:35:05 2019-05-01 21:08:25 231 days 11:33:20            231\n",
      "2 2018-06-23 14:23:25 2019-09-29 13:30:05 462 days 23:06:40            462\n",
      "3 2018-02-28 01:08:25 2020-01-23 11:48:25 694 days 10:40:00            694\n"
     ]
    }
   ],
   "source": [
    "df = pd.DataFrame({\n",
    "    \"col1\": [1529720105, 1536744905, 1529763805, 1519780105],\n",
    "    \"col2\": [1549720105, 1556744905, 1569763805, 1579780105]\n",
    "})\n",
    "print(\"The original dataset\")\n",
    "print(df)\n",
    "df[\"col1\"] = pd.to_datetime(df['col1'], unit='s')\n",
    "df[\"col2\"] = pd.to_datetime(df['col2'], unit='s')\n",
    "df[\"interval\"] = df[\"col2\"] - df[\"col1\"]\n",
    "df[\"interval_days\"] = df[\"interval\"].dt.days\n",
    "print(\"The new transform dataset\")\n",
    "print(df)"
   ]
  }
 ],
 "metadata": {
  "kernelspec": {
   "display_name": "python3",
   "language": "python",
   "name": "python3"
  }
 },
 "nbformat": 4,
 "nbformat_minor": 2
}
