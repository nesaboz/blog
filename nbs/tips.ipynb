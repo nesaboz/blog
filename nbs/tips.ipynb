{
 "cells": [
  {
   "cell_type": "markdown",
   "metadata": {},
   "source": [
    "---\n",
    "title: \"TILs\"\n",
    "listing:\n",
    "  contents: tips\n",
    "  type: table\n",
    "comments: false\n",
    "---"
   ]
  },
  {
   "cell_type": "markdown",
   "metadata": {},
   "source": [
    "Some people might call it TILs (\"today-I-learned\"), cheat-sheet, utilities, what matters is that these saved me a ton of time, that is before LLMs took over the world."
   ]
  }
 ],
 "metadata": {
  "kernelspec": {
   "display_name": "python3",
   "language": "python",
   "name": "python3"
  }
 },
 "nbformat": 4,
 "nbformat_minor": 0
}
