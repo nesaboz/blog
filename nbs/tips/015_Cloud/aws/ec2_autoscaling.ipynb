{
 "cells": [
  {
   "cell_type": "markdown",
   "metadata": {},
   "source": [
    "# Auto Scaling Group\n"
   ]
  },
  {
   "cell_type": "markdown",
   "metadata": {},
   "source": [
    "Credits **Educative.io**"
   ]
  },
  {
   "cell_type": "markdown",
   "metadata": {},
   "source": [
    "We'll create Auto Scaling Group (ASG), under EC2, and stress machines to see how auto-scaling works in action.\n",
    "\n",
    "Let's create:\n",
    "\n",
    "- EC2 instance, create Security Group, install nodejs and some packages (note: you can also use the EC2 “User Data” to run commands on your instance at launch)\n",
    "- a template based on this instance,\n",
    "- ASG, set min to 1 and max to 2 instances, with 20% CPU threshold,\n",
    "\n",
    "We then stress the instance to increase the load above 20% for 4 minutes, this triggers creating another instance automatically per auto-scaler:\n",
    "```bash\n",
    "sudo amazon-linux-extras install epel -y\n",
    "sudo yum install stress -y\n",
    "#Stress the CPU with four worker threads for 320 seconds\n",
    "sudo stress --cpu 4 --timeout 320\n",
    "```\n"
   ]
  },
  {
   "cell_type": "markdown",
   "metadata": {},
   "source": [
    "## To install node and express on a new EC2 instance\n",
    "\n",
    "```bash\n",
    "curl -o- https://raw.githubusercontent.com/nvm-sh/nvm/v0.38.0/install.sh | bash\n",
    ". ~/.nvm/nvm.sh\n",
    "nvm install 16\n",
    "```\n",
    "\n",
    "Then install express and ip:\n",
    "\n",
    "```bash\n",
    "mkdir eduapp\n",
    "cd eduapp/\n",
    "npm install --save express\n",
    "npm install --save ip\n",
    "cat > index.js << EOF\n",
    "```\n",
    "\n",
    "put this in `index.js`:\n",
    "```js\n",
    "const express = require('express');\n",
    "var ip = require(\"ip\");\n",
    "\n",
    "const app = express();\n",
    "const PORT = process.env.PORT || 3000;\n",
    "\n",
    "app.get('/',(req, res) => res.send(ip.address()));\n",
    "app.listen(PORT, () => console.log('Server listening at port 3000'))\n",
    "EOF\n",
    "```\n",
    "\n"
   ]
  }
 ],
 "metadata": {
  "language_info": {
   "name": "python"
  }
 },
 "nbformat": 4,
 "nbformat_minor": 2
}
