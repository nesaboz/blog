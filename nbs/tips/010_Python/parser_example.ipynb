{
 "cells": [
  {
   "cell_type": "markdown",
   "metadata": {},
   "source": [
    "# Parser example\n"
   ]
  },
  {
   "cell_type": "markdown",
   "metadata": {},
   "source": [
    "\n",
    "Usage in bash: `python parser_example.py -a1 \"hello\" -a2 42`\n"
   ]
  },
  {
   "cell_type": "code",
   "execution_count": null,
   "metadata": {
    "vscode": {
     "languageId": "plaintext"
    }
   },
   "outputs": [],
   "source": [
    "import argparse\n",
    "\n",
    "def main():\n",
    "    # Create the parser\n",
    "    parser = argparse.ArgumentParser(description=\"Example script.\")\n",
    "    \n",
    "    # Add arguments with both short and long options\n",
    "    parser.add_argument('-a1', '--arg1', type=str, required=True, help=\"First argument (string).\")\n",
    "    parser.add_argument('-a2', '--arg2', type=int, required=True, help=\"Second argument (integer).\")\n",
    "    \n",
    "    # Parse the arguments\n",
    "    args = parser.parse_args()\n",
    "    \n",
    "    # Use the arguments\n",
    "    print(f\"arg1: {args.arg1}\")\n",
    "    print(f\"arg2: {args.arg2}\")\n",
    "\n",
    "if __name__ == \"__main__\":\n",
    "    main()\n"
   ]
  }
 ],
 "metadata": {
  "language_info": {
   "name": "python"
  }
 },
 "nbformat": 4,
 "nbformat_minor": 2
}
