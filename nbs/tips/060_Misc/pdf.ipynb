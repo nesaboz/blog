{
 "cells": [
  {
   "cell_type": "markdown",
   "metadata": {},
   "source": [
    "# Extract pages from PDF"
   ]
  },
  {
   "cell_type": "code",
   "execution_count": null,
   "metadata": {},
   "outputs": [],
   "source": [
    "import PyPDF2\n",
    "\n",
    "def extract_pages(source_pdf_path, output_pdf_path, pages_to_extract):\n",
    "    \"\"\"\n",
    "    Extracts specific pages from a PDF and saves them into a new PDF file.\n",
    "\n",
    "    Parameters:\n",
    "    - source_pdf_path: The path to the source PDF from which to extract pages.\n",
    "    - output_pdf_path: The path to save the new PDF with the extracted pages.\n",
    "    - pages_to_extract: A list of page numbers (0-indexed) to extract.\n",
    "    \"\"\"\n",
    "    # Open the source PDF\n",
    "    with open(source_pdf_path, 'rb') as file:\n",
    "        reader = PyPDF2.PdfReader(file)\n",
    "        writer = PyPDF2.PdfWriter()\n",
    "\n",
    "        # Loop through the list of pages to extract and add them to the writer\n",
    "        for page_num in pages_to_extract:\n",
    "            try:\n",
    "                writer.add_page(reader.pages[page_num])\n",
    "            except IndexError:\n",
    "                print(f\"Page {page_num} is out of range.\")\n",
    "                continue\n",
    "\n",
    "        # Save the pages to a new PDF\n",
    "        with open(output_pdf_path, 'wb') as output_pdf:\n",
    "            writer.write(output_pdf)\n",
    "\n",
    "# Example usage\n",
    "source_pdf = \"input.pdf\"  # Replace this with your source PDF file path\n",
    "output_pdf = \"output.pdf\"  # The output file\n",
    "pages = [19,20,21]  # Example page numbers to extract (0-indexed)\n",
    "\n",
    "extract_pages(source_pdf, output_pdf, pages)"
   ]
  }
 ],
 "metadata": {
  "language_info": {
   "name": "python"
  }
 },
 "nbformat": 4,
 "nbformat_minor": 2
}
