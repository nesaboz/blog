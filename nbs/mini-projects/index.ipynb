{
 "cells": [
  {
   "cell_type": "markdown",
   "metadata": {},
   "source": [
    "# Summary"
   ]
  },
  {
   "cell_type": "markdown",
   "metadata": {},
   "source": [
    "Following mini-project cover my journey through some excellent resources I've learned so much from:\n",
    "\n",
    "- *PyTorch: Step by Step* [books](https://pytorchstepbystep.com/) (3 of them) by Daniel Voigt Godoy \\\n",
    "- *Deep Learning* [course](https://atcold.github.io/pytorch-Deep-Learning/) by Yann LeCun & Alfredo Canziani \\\n",
    "- *Practical Deep Learning for Coders* [course](https://course.fast.ai/) by Jeremy Howard.\n"
   ]
  },
  {
   "cell_type": "markdown",
   "source": [
    "\n",
    "\n"
   ],
   "metadata": {
    "collapsed": false
   }
  }
 ],
 "metadata": {
  "kernelspec": {
   "display_name": "Python 3 (ipykernel)",
   "language": "python",
   "name": "python3"
  }
 },
 "nbformat": 4,
 "nbformat_minor": 4
}
