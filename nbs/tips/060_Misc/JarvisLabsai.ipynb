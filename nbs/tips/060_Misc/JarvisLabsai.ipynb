{
 "cells": [
  {
   "cell_type": "markdown",
   "id": "0011bd25",
   "metadata": {},
   "source": [
    "# Jarvislabs.ai"
   ]
  },
  {
   "cell_type": "markdown",
   "id": "a3bcaf92",
   "metadata": {},
   "source": [
    "How to set up an environment [link](https://jarvislabs.ai/docs/env/). Make sure to add a prefix otherwise environment will be deleted after pausing."
   ]
  },
  {
   "cell_type": "markdown",
   "id": "d4b6cbf0",
   "metadata": {},
   "source": [
    "```zsh\n",
    "conda create --prefix /home/some_env_name python=3.10 ipykernel mamba -y\n",
    "conda activate /home/some_env_name\n",
    "```"
   ]
  },
  {
   "cell_type": "markdown",
   "id": "c2c69241",
   "metadata": {},
   "source": [
    "Set up a jupyter kernel:"
   ]
  },
  {
   "cell_type": "markdown",
   "id": "aee11f18",
   "metadata": {},
   "source": [
    "```zsh\n",
    "python -m ipykernel install --user --name=some_env_name\n",
    "```"
   ]
  },
  {
   "cell_type": "markdown",
   "id": "4ec47c28",
   "metadata": {},
   "source": [
    "\n",
    "# Data management"
   ]
  },
  {
   "cell_type": "markdown",
   "id": "e3c7c4e6",
   "metadata": {},
   "source": [
    "See https://jarvislabs.ai/docs/data-management/"
   ]
  },
  {
   "cell_type": "markdown",
   "metadata": {
    "collapsed": false
   },
   "source": [
    "This is the simplest method just drag and drop one file. Currently folders and not supported."
   ]
  },
  {
   "cell_type": "markdown",
   "metadata": {
    "collapsed": false
   },
   "source": [
    "Using google drive and curlwget: [CurlWget](https://www.youtube.com/watch?v=22jY0S8r8m4&t=79s)."
   ]
  },
  {
   "cell_type": "markdown",
   "metadata": {
    "collapsed": false
   },
   "source": [
    "# Set up SSH"
   ]
  },
  {
   "attachments": {},
   "cell_type": "markdown",
   "metadata": {
    "collapsed": false
   },
   "source": [
    "Following VSCode [tutorial](https://code.visualstudio.com/docs/remote/ssh-tutorial):\n",
    "1) First we locally create a private/public SSH key, this can be done using\n",
    "`ssh-keygen -t rsa -b 4096`\n",
    "for Jarvis we'll use former per [example](https://jarvislabs.ai/docs/accounts-user/setup-ssh/)\n",
    "\n",
    "2) Show the ssh public key:\n",
    "`cat ~/.ssh/id_rsa.pub`\n",
    "\n",
    "3) Copy paste on a Jarvis [here](https://cloud.jarvislabs.ai/addsshkey)\n",
    "4) To get the ssh link right click on the instance and copy paste ssh code:\n",
    "something like `ssh -p some_port_name root@ssha.jarvislabs.ai`\n",
    "In general we want to use `ssh user@hostname` to check the connection.\n",
    "\n",
    "\n"
   ]
  }
 ],
 "metadata": {
  "kernelspec": {
   "display_name": "Python 3",
   "language": "python",
   "name": "python3"
  },
  "language_info": {
   "name": "python",
   "version": "3.11.1"
  },
  "vscode": {
   "interpreter": {
    "hash": "1a1af0ee75eeea9e2e1ee996c87e7a2b11a0bebd85af04bb136d915cefc0abce"
   }
  }
 },
 "nbformat": 4,
 "nbformat_minor": 5
}
