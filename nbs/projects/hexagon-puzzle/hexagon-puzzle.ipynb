{
 "cells": [
  {
   "cell_type": "markdown",
   "metadata": {},
   "source": [
    "# Hexagonal-puzzle\n",
    "\n",
    "> Harder then it looks\n",
    "- author: Nenad Bozinovic\n",
    "- order: 8\n",
    "- image: pieces.png\n",
    "- callout-appearance: simple\n",
    "- toc-depth: 2\n",
    "- date: 2024-04-19\n"
   ]
  },
  {
   "cell_type": "markdown",
   "metadata": {},
   "source": [
    "<p align=\"left\">\n",
    "  <a href=\"https://github.com/nesaboz/hexagon-puzzle\">\n",
    "    <img src=\"https://badgen.net/badge/icon/GitHub?icon=github&label\" alt=\"Repo\">\n",
    "  </a>\n",
    "</p>\n",
    "\n",
    "There is this quite hard hexagonal puzzle with 14 pieces that I've been toying around with my kids. The goal is to fit all the pieces into one big hexagon shape:\n",
    "\n",
    "![](pieces.png)\n",
    "\n",
    "After hundreds of trials that led me to find only one solution, I had a feeling that the puzzle was winning. So I've decided to ask backtracking algorithm to help me out and do the heavy lifting.\n",
    "\n",
    "I first had to work in **oblique coordinate system** since shapes are hexagons, which I found fun. Then wrote `Piece` class and translation/rotation methods, as well as `Board` class with `put_piece` and `remove_piece` methods. At that point backtracking does all the job.\n",
    "\n",
    "Considering number of possibilities is exponential, I knew it wouldn't be able to find all the solutions in a reasonable time, but sure I could give it a good head start, so the search space is much smaller. I also used some heuristic to speed it up like symmetry of some pieces (another one, that I didn't use, would be restricting placement of the next piece only next to existing ones).\n",
    "\n",
    "After a day of tinkering with the code, it delivered! \n",
    "\n",
    "Behold the power of backtracking, here are some unique solutions (I reused some colors because I'm lazy, besides, I left at least some mystery in it):\n",
    "\n",
    "![solution1](solutions/1713519591_cropped.png)\n",
    "![solution3](solutions/1713527607_cropped.png)\n",
    "![solution4](solutions/1713531581_cropped.png)\n",
    "![solution5](solutions/1713527109_cropped.png)\n",
    "\n",
    "Here are some timings, for example with 6 pieces left it took only 5 minutes (which is not optimal but beats my 1 solution over many days):\n",
    "```\n",
    "2024-04-19 02:36:59,991 - INFO - For 3 leftover pieces, found 1 solutions in 1.12 seconds\n",
    "2024-04-19 02:37:21,539 - INFO - For 4 leftover pieces, found 1 solutions in 8.32 seconds\n",
    "2024-04-19 02:37:51,397 - INFO - For 5 leftover pieces, found 1 solutions in 17.57 seconds\n",
    "2024-04-19 02:46:41,460 - INFO - For 6 leftover pieces, found 3 solutions in 316.52 seconds\n",
    "2024-04-19 07:13:00,633 - INFO - For 8 leftover pieces, found 7 solutions in 15706.87 seconds\n",
    "(don't have a plan to use CPU time nor mine anymore)\n",
    "```\n",
    "\n",
    "The kids are little, until they grow up to understand all of this I'll mess with them that I have puzzle-solving superpowers.\n",
    "\n",
    "![](sample.png)\n",
    "\n",
    "See details at:\n",
    "<p align=\"left\">\n",
    "  <a href=\"https://github.com/nesaboz/hexagon-puzzle\">\n",
    "    <img src=\"https://badgen.net/badge/icon/GitHub?icon=github&label\" alt=\"Repo\">\n",
    "  </a>\n",
    "</p>"
   ]
  },
  {
   "cell_type": "markdown",
   "metadata": {},
   "source": []
  }
 ],
 "metadata": {
  "language_info": {
   "name": "python"
  }
 },
 "nbformat": 4,
 "nbformat_minor": 2
}
