{
 "cells": [
  {
   "cell_type": "markdown",
   "source": [
    "# Kaggle\n",
    "\n",
    "## To install Kaggle locally\n",
    "1.pip install kaggle\n",
    "2.cd ~/.kaggle  # this folder is created when you install kaggle in a user account folder\n",
    "3.homepage www.kaggle.com -> Your Account -> Create New API token\n",
    "4.mv ~/Downloads/kaggle.json ./\n",
    "5.chmod 600 ./kaggle.json\n"
   ],
   "metadata": {
    "collapsed": false
   }
  },
  {
   "cell_type": "markdown",
   "source": [
    "## To download data from Kaggle\n",
    "\n",
    "```zsh\n",
    "kaggle competitions download -c titanic\n"
   ],
   "metadata": {
    "collapsed": false
   }
  }
 ],
 "metadata": {
  "kernelspec": {
   "display_name": "Python 3",
   "language": "python",
   "name": "python3"
  },
  "language_info": {
   "codemirror_mode": {
    "name": "ipython",
    "version": 2
   },
   "file_extension": ".py",
   "mimetype": "text/x-python",
   "name": "python",
   "nbconvert_exporter": "python",
   "pygments_lexer": "ipython2",
   "version": "2.7.6"
  }
 },
 "nbformat": 4,
 "nbformat_minor": 0
}
