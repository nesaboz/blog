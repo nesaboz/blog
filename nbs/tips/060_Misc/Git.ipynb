{
 "cells": [
  {
   "attachments": {},
   "cell_type": "markdown",
   "metadata": {},
   "source": [
    "# Git"
   ]
  },
  {
   "attachments": {},
   "cell_type": "markdown",
   "metadata": {},
   "source": [
    "`.gitignore` file (no extension) example (finish folder with / to add all files)\n",
    "```\n",
    "/some_folder/\n",
    "**/some_folder no matter the parent folder/  # great for cache folders\n",
    "/specific/file.txt\n",
    "```"
   ]
  },
  {
   "attachments": {},
   "cell_type": "markdown",
   "metadata": {},
   "source": []
  },
  {
   "attachments": {},
   "cell_type": "markdown",
   "metadata": {},
   "source": [
    "```zsh\n",
    "git clone   # use SSH instead of HTTPS always\n",
    "git fetch\n",
    "git pull\n",
    "git push\n",
    "git commit\n",
    "git add\n",
    "git remote -v  # shows URL of a remote\n",
    "\n",
    "git config --global user.email \"you@example.com\"\n",
    "git config --global user.name \"Your Name\"\n",
    "```\n"
   ]
  },
  {
   "attachments": {},
   "cell_type": "markdown",
   "metadata": {},
   "source": [
    "## `git clone` via SSH\n",
    "\n",
    "There are several ways to clone a repo but SSH is the easiest and most secure so use it always instead of HTTPS.\n",
    "\n",
    "See [this](/tips/030_Terminal/zsh.html#ssh) to set up SSH access.\n",
    "\n",
    "If git connection is HTTPS then user is asked for username/password. Instead of a password, provide a [token](https://docs.github.com/en/get-started/getting-started-with-git/about-remote-repositories#cloning-with-https-urls), that can be generated like [this](https://docs.github.com/en/authentication/keeping-your-account-and-data-secure/creating-a-personal-access-token). It's better however to simply use SSH.\n"
   ]
  }
 ],
 "metadata": {
  "kernelspec": {
   "display_name": "python3",
   "language": "python",
   "name": "python3"
  }
 },
 "nbformat": 4,
 "nbformat_minor": 0
}
