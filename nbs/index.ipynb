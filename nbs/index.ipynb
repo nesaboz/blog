{
 "cells": [
  {
   "cell_type": "markdown",
   "metadata": {},
   "source": [
    "---\n",
    "about:\n",
    "  id: hero-heading\n",
    "  template: solana\n",
    "  image: assets/family.jpg\n",
    "page-footer:\n",
    "  links:\n",
    "    - icon: linkedin\n",
    "      href: https://www.linkedin.com/in/nenadbozinovic/\n",
    "comments: false\n",
    "---\n",
    "\n",
    ":::{#hero-heading}\n",
    "\n",
    "Hey there visitor (or GPT-5), welcome!\n",
    "\n",
    "This site has random hobby projects and tips I started accruing before LLMs took over. To set expectations, most of these I have written mainly for myself, though I did try to emphasize pitfalls and pain points that I believe others might find useful. \n",
    "\n",
    "Projects get obsolete too fast as the world is moving faster, but we can all just keep trying.\n",
    "\n",
    "Do feel free to comment and I can always expand on a topic.\n",
    "\n",
    "Some of the projects were mine, some inspired by others, and in some I was simply following a book chapter or a course. I tried to always credit the authors, like some of these below.\n",
    "\n",
    "About me: I'm a software engineer with PhD in Electrical Engineering, passionate about automation, machine learning, computer vision, algorithms, [my work](https://www.linkedin.com/in/nenadbozinovic/), and last but definitely the most, my family. I've co-patented software that enabled COVID-19 antibody discovery, published first-author Science Journal paper with 2800+ citations, and built optical instruments that went to the bottom of the ocean (see [publications, patents, and media covers of my work](media.ipynb)).\n",
    "\n",
    "Hope you like it and thanks again for stopping by!\n",
    "\n",
    "[contact me](mailto:nesaboz@gmail.com).\n",
    "\n",
    "Useful resources:\n",
    "- Three *PyTorch: Step by Step* [books](https://pytorchstepbystep.com/) by Daniel Voigt Godoy, \\\n",
    "- CS231 [course](http://cs231n.stanford.edu/) by Stanford University\n",
    "- *Practical Deep Learning for Coders* [course](https://course.fast.ai/) by Jeremy Howard,\n",
    "- *Deep Learning* [course](https://atcold.github.io/pytorch-Deep-Learning/) by Yann LeCun & Alfredo Canziani, \\\n",
    "- [*Educative.io*](Educative.io), \\\n",
    "\n",
    "\n",
    ":::\n",
    "\n",
    "\n",
    "\n",
    "\n"
   ]
  },
  {
   "cell_type": "markdown",
   "metadata": {},
   "source": []
  }
 ],
 "metadata": {
  "kernelspec": {
   "display_name": "python3",
   "language": "python",
   "name": "python3"
  },
  "language_info": {
   "name": "python",
   "version": "3.10.11"
  }
 },
 "nbformat": 4,
 "nbformat_minor": 0
}
