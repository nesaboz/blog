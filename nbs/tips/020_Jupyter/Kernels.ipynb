{
 "cells": [
  {
   "cell_type": "markdown",
   "metadata": {},
   "source": [
    "# Kernels"
   ]
  },
  {
   "cell_type": "markdown",
   "metadata": {},
   "source": [
    "To add existing environment as a jupyter kernel:"
   ]
  },
  {
   "attachments": {},
   "cell_type": "markdown",
   "metadata": {},
   "source": [
    "\n",
    "List kernels\n",
    "```zsh\n",
    "jupyter kernelspec list\n",
    "```\n",
    "\n",
    "Remove kernel\n",
    "```zsh\n",
    "jupyter kernelspec remove <kernel-name>  \n",
    "```\n",
    "\n",
    "Install new kernel\n",
    "```zsh\n",
    "ipython kernel install --name <local-venv> --user\n",
    "```"
   ]
  },
  {
   "cell_type": "code",
   "execution_count": null,
   "metadata": {},
   "outputs": [
    {
     "data": {
      "text/plain": [
       "True"
      ]
     },
     "execution_count": null,
     "metadata": {},
     "output_type": "execute_result"
    }
   ],
   "source": [
    "is_jupyter = get_ipython().__class__.__name__ == 'ZMQInteractiveShell'\n",
    "is_jupyter"
   ]
  },
  {
   "attachments": {},
   "cell_type": "markdown",
   "metadata": {},
   "source": [
    "# Paths\n"
   ]
  },
  {
   "attachments": {},
   "cell_type": "markdown",
   "metadata": {},
   "source": [
    "## Custom path for VSCode Jupyter notebook"
   ]
  },
  {
   "attachments": {},
   "cell_type": "markdown",
   "metadata": {},
   "source": [
    "Go to global VSCode settings (Cmd + ,) and search for `Jupyter Notebook File Root`, then set it to any path you like to be imported by default."
   ]
  },
  {
   "attachments": {},
   "cell_type": "markdown",
   "metadata": {},
   "source": [
    "\n",
    "## Custom path for Jupyter Notebook in a browser\n",
    "Go to `kernel.json` file:\n",
    "```zsh\n",
    "jupyter kernelspec list\n",
    "cd ~/.local/share/jupyter/kernels/mykernel/\n",
    "```\n",
    "add `PYTHONPATH` environmental variable in the `env` section:\n",
    "```text\n",
    "{\n",
    "\"argv\": [\n",
    "    \"/path/to/custom/python\",\n",
    "    \"-m\",\n",
    "    \"ipykernel_launcher\",\n",
    "    \"-f\",\n",
    "    \"{connection_file}\"\n",
    "],\n",
    "\"env\": {\n",
    "    \"PYTHONPATH\": \"/path/to/custom/path\"\n",
    "},\n",
    "```\n",
    "Note `PYTHONPATH` has nothing to do with the path to the python file set in argv."
   ]
  },
  {
   "attachments": {},
   "cell_type": "markdown",
   "metadata": {},
   "source": [
    "## Global path"
   ]
  },
  {
   "attachments": {},
   "cell_type": "markdown",
   "metadata": {},
   "source": [
    "To add a global path to all kernels we can use `ipython_config.py` file:"
   ]
  },
  {
   "attachments": {},
   "cell_type": "markdown",
   "metadata": {},
   "source": [
    "```zsh\n",
    "ipython profile create\n",
    "ipython locate\n",
    "```\n",
    "/Users/username/.ipython\n",
    "```zsh\n",
    "vi /Users/username/.ipython/profile_default/ipython_config.py\n",
    "```\n",
    "add these lines (use `i` to enter insert mode and `Esc` to exit, save and quit as `:wq`:\n",
    "```zsh\n",
    "c.InteractiveShellApp.exec_lines = [\n",
    "    'import sys; sys.path.append(\"/path/to/your/module\")'\n",
    "]\n",
    "```"
   ]
  },
  {
   "attachments": {},
   "cell_type": "markdown",
   "metadata": {},
   "source": [
    "## Manual path"
   ]
  },
  {
   "attachments": {},
   "cell_type": "markdown",
   "metadata": {},
   "source": [
    "One can always get the current folder in the notebook `a = os.path.abspath('')` and then manipulate it.\n",
    "Manually setting up some ENV path variable is also an option.\n",
    "Magic command for environemtal variables:\n",
    "```jupyter\n",
    "%env\n",
    "```"
   ]
  },
  {
   "attachments": {},
   "cell_type": "markdown",
   "metadata": {},
   "source": [
    "## Change the default kernel\n",
    "\n",
    "```zsh\n",
    "jupyter notebook --generate-config\n",
    "```\n",
    "\n",
    "In jupyter config file modify and uncomment following line:  `c.MultiKernelManager.default_kernel_name='newDefault' \\n\"`"
   ]
  }
 ],
 "metadata": {
  "kernelspec": {
   "display_name": "python3",
   "language": "python",
   "name": "python3"
  }
 },
 "nbformat": 4,
 "nbformat_minor": 4
}
