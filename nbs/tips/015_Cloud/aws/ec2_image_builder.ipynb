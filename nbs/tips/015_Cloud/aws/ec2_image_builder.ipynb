{
 "cells": [
  {
   "cell_type": "markdown",
   "metadata": {},
   "source": [
    "## Creating an Image Pipeline with EC2 Image Builder"
   ]
  },
  {
   "cell_type": "markdown",
   "metadata": {},
   "source": [
    "Credits **Educative.io**\n",
    "\n",
    "Let's create our own image that we can use to create EC2 instances with pre-installed Python and boto3. We will do this via *EC2 Image Builder*.\n",
    "\n",
    "- We create a SNS topic and a create an email subscriber to it (arn:aws:sns:us-east-1:332498689295:CL_SNS_Topic)\n",
    "- Then we create a IAM role for EC2 (under \"AWS service\") and assign “EC2InstanceProfileForImageBuilder” and “EC2InstanceProfileForImageBuilder” policies.\n",
    "- We create *build component* that’s used to specify the image operating system, configure settings, and perform any tasks that are necessary while creating an image. We do this via \"EC2 Image Builder\" with the following *definition document*:\n",
    "\n",
    "```yaml\n",
    "name: LinuxWithBoto3\n",
    "schemaVersion: 1.0\n",
    "phases:\n",
    "  - name: build\n",
    "    steps:\n",
    "      - name: Boto3\n",
    "        action: ExecuteBash\n",
    "        inputs:\n",
    "          commands:\n",
    "            - 'sudo yum install python3 -y'\n",
    "            - 'sudo yum install gcc openssl-devel bzip2-devel libffi-devel zlib-devel -y'\n",
    "            - 'cd /opt'\n",
    "            - 'sudo wget https://www.python.org/ftp/python/3.8.12/Python-3.8.12.tgz'\n",
    "            - 'sudo tar xzf Python-3.8.12.tgz'\n",
    "            - 'cd Python-3.8.12'\n",
    "            - 'sudo ./configure --enable-optimizations'\n",
    "            - 'sudo make altinstall'\n",
    "            - 'pip3.8 install pip --upgrade'\n",
    "            - 'pip3.8 install boto3'\n",
    "```\n",
    "\n",
    "- Now we create *image pipeline*, also under \"EC2 Image Builder\", with Amazon Machine Image (AMI) (and not Docker Image). This process has 6 steps: \n",
    "  - select build component (the one we created above), \n",
    "  - select recipe (that will also select SNS topic we create above to receive notifications about Image Builder process)\n",
    "  - infrastructure configurations (optional)\n",
    "  - distribution settings (optional)\n",
    "We then build and \"Run pipeline\" which might take **15-20 minutes** to build. When it's done we now have Image that has installed Python and boto3 (and of course can have anything we need as well).\n",
    "\n",
    "We can now go to EC2, create instance, and select image that we created in a previous step. If we now connect to the instance we can see that Python, boto3 are pre-installed, which was the goal.\n",
    "\n",
    "To add more packages, we can add them to the build component definition document (save it as a new version), and then rebuild the image."
   ]
  }
 ],
 "metadata": {
  "language_info": {
   "name": "python"
  }
 },
 "nbformat": 4,
 "nbformat_minor": 2
}
