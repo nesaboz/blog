{
 "cells": [
  {
   "cell_type": "markdown",
   "metadata": {},
   "source": [
    "# Docker container\n",
    "\n",
    "A docker contain is a great way to set up an environment. Once the docker container is built and running, one can attach to it from VSCode and use it as a remote machine. To do this, install \"Remote Development\" extension [pack](https://marketplace.visualstudio.com/items?itemName=ms-vscode-remote.vscode-remote-extensionpack), then one can attach the container in VSCode by going to a command pallette (Cmd+Shift+P) and typing \"Attach to running container\". If running into a user issue, you need to add user to docker group:\n",
    "```zsh\n",
    "sudo usermod -aG docker $USER\n",
    "```\n",
    "and (maybe, not always) restart the machine.\n",
    "\n",
    "To see running containers' info from paperspace machine use:\n",
    "```zsh\n",
    "docker ps\n",
    "```\n",
    "To stop all the docker containers:\n",
    "```zsh\n",
    "docker container stop ID_or_NAME\n",
    "docker container stop $(docker container ls -aq)\n",
    "```"
   ]
  }
 ],
 "metadata": {
  "language_info": {
   "name": "python"
  },
  "orig_nbformat": 4
 },
 "nbformat": 4,
 "nbformat_minor": 2
}
