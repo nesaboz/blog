{
 "cells": [
  {
   "cell_type": "markdown",
   "metadata": {},
   "source": [
    "# Data Engineer certificate\n"
   ]
  },
  {
   "cell_type": "markdown",
   "metadata": {},
   "source": [
    "## File upload to S3\n",
    "\n",
    "aws CLI automatically splits large file into multi-upload \n",
    "```bash\n",
    "$ aws s3 cp large_test_file s3://DOC-EXAMPLE-BUCKET/\n",
    "```\n",
    "For example in a case of multipart upload for a 100 GB file you would have the following API calls for the entire process:  \n",
    "- A CreateMultipartUpload call to start the process   \n",
    "- 1000 individual UploadPart calls, each uploading a part of 100 MB, for a total size of 100 GB   \n",
    "- A CompleteMultipartUpload call to finish the process   \n",
    "There would be a total of 1002 API calls   \n",
    "\n",
    "To store directly into S3 Glacier:\n",
    "```bash\n",
    "aws s3 cp your-file.txt s3://your-bucket-name/your-file.txt --storage-class DEEP_ARCHIVE\n",
    "```\n",
    "\n",
    "```bash\n",
    "aws s3api put-bucket-lifecycle-configuration --bucket your-bucket-name --lifecycle-configuration file://lifecycle_policy.json\n",
    "```\n",
    "\n",
    "To add a lifecycle policy:\n",
    "```json\n",
    "{\n",
    "    \"Rules\": [\n",
    "        {\n",
    "            \"ID\": \"Move to Glacier after 30 days\",\n",
    "            \"Filter\": {\n",
    "                \"Tag\": {\n",
    "                    \"Key\": \"Lifecycle\",\n",
    "                    \"Value\": \"Archive\"\n",
    "                }\n",
    "            },\n",
    "            \"Status\": \"Enabled\",\n",
    "            \"Transitions\": [\n",
    "                {\n",
    "                    \"Days\": 30,\n",
    "                    \"StorageClass\": \"GLACIER\"\n",
    "                }\n",
    "            ]\n",
    "        },\n",
    "        {\n",
    "            \"ID\": \"Delete after 365 days\",\n",
    "            \"Filter\": {\n",
    "                \"Tag\": {\n",
    "                    \"Key\": \"Lifecycle\",\n",
    "                    \"Value\": \"Archive\"\n",
    "                }\n",
    "            },\n",
    "            \"Status\": \"Enabled\",\n",
    "            \"Expiration\": {\n",
    "                \"Days\": 365\n",
    "            }\n",
    "        }\n",
    "    ]\n",
    "}\n",
    "```\n",
    "\n"
   ]
  }
 ],
 "metadata": {
  "language_info": {
   "name": "python"
  }
 },
 "nbformat": 4,
 "nbformat_minor": 2
}
