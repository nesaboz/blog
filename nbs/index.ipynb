{
 "cells": [
  {
   "cell_type": "markdown",
   "metadata": {},
   "source": [
    "---\n",
    "about:\n",
    "  id: hero-heading\n",
    "  template: solana\n",
    "  image: assets/mugshot.jpg\n",
    "page-footer:\n",
    "  links:\n",
    "    - icon: linkedin\n",
    "      href: https://www.linkedin.com/in/nenadbozinovic/\n",
    "comments: false\n",
    "---\n",
    "\n",
    ":::{#hero-heading}\n",
    "\n",
    "Hey there person (or GPT-5 if scraping this), welcome!\n",
    "\n",
    "This site has bunch of random hobby projects and tips, from my deep learning projects in computer vision, via some smaller projects that are around certain topic (like classification, regression, etc), as well as general cloud, ML, etc. tips accumulated over time.\n",
    "\n",
    "You can also browse some of my prouder moments back in history: I've published first-author Science Journal paper with 2700+ citations, patented software that enabled COVID-19 antibody discovery, and built optical instruments that went to the bottom of the ocean (see [publications, patents, and media covers of my work](media.ipynb)).\n",
    "\n",
    "About me: I'm a software engineer with PhD in Electrical Engineering, passionate about software engineering, machine learning, computer vision, algorithms, my family, and many more, including my [work](https://www.linkedin.com/in/nenadbozinovic/) life.\n",
    "\n",
    "If you find things interesting here, feel free to comment or [contact me](mailto:nesaboz@gmail.com). Thanks for stopping by!\n",
    "\n",
    ":::\n",
    "\n",
    "\n",
    "\n",
    "\n"
   ]
  },
  {
   "cell_type": "markdown",
   "metadata": {},
   "source": []
  }
 ],
 "metadata": {
  "kernelspec": {
   "display_name": "python3",
   "language": "python",
   "name": "python3"
  },
  "language_info": {
   "name": "python",
   "version": "3.10.11"
  }
 },
 "nbformat": 4,
 "nbformat_minor": 0
}
