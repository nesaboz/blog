{
 "cells": [
  {
   "cell_type": "markdown",
   "metadata": {},
   "source": [
    "# PyTorch Performance Tuning Guide\n",
    "\n",
    "From [this video](https://www.youtube.com/watch?v=9mS1fIYj1So) and summarized by [this tweet](https://twitter.com/karpathy/status/1299921324333170689?ref_src=twsrc%5Etfw%7Ctwcamp%5Etweetembed%7Ctwterm%5E1299921324333170689%7Ctwgr%5Edce4797f70cbc521d6f8e5823816c220eb2daf28%7Ctwcon%5Es1_&ref_url=https%3A%2F%2Fwandb.ai%2Fwandb%2Ftrace%2Freports%2FA-Public-Dissection-of-a-PyTorch-Training-Step--Vmlldzo5MDE3NjU):\n"
   ]
  },
  {
   "cell_type": "markdown",
   "metadata": {},
   "source": [
    "\n",
    "![](assets/optimizations.png)\n",
    "\n"
   ]
  },
  {
   "cell_type": "markdown",
   "metadata": {},
   "source": []
  }
 ],
 "metadata": {
  "language_info": {
   "name": "python"
  }
 },
 "nbformat": 4,
 "nbformat_minor": 2
}
