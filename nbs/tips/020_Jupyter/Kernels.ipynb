{
 "cells": [
  {
   "cell_type": "markdown",
   "metadata": {},
   "source": [
    "# Kernels"
   ]
  },
  {
   "cell_type": "markdown",
   "metadata": {},
   "source": [
    "To add existing environment as a jupyter kernel:"
   ]
  },
  {
   "attachments": {},
   "cell_type": "markdown",
   "metadata": {},
   "source": [
    "\n",
    "List kernels\n",
    "```zsh\n",
    "jupyter kernelspec list\n",
    "```\n",
    "\n",
    "Remove kernel\n",
    "```zsh\n",
    "jupyter kernelspec remove <kernel-name>  \n",
    "```\n",
    "\n",
    "Install new kernel\n",
    "```zsh\n",
    "ipython kernel install --name <local-venv> --user\n",
    "```"
   ]
  },
  {
   "cell_type": "code",
   "execution_count": null,
   "metadata": {
    "vscode": {
     "languageId": "python"
    }
   },
   "outputs": [
    {
     "data": {
      "text/plain": [
       "True"
      ]
     },
     "execution_count": null,
     "metadata": {},
     "output_type": "execute_result"
    }
   ],
   "source": [
    "is_jupyter = get_ipython().__class__.__name__ == 'ZMQInteractiveShell'\n",
    "is_jupyter"
   ]
  },
  {
   "attachments": {},
   "cell_type": "markdown",
   "metadata": {},
   "source": [
    "## Add default path(s) to sys.path\n",
    "\n",
    "To make sure path is always available in the jupyter kernel do the following (taken from [here](https://stackoverflow.com/questions/34976803/sys-path-different-in-jupyter-and-python-how-to-import-own-modules-in-jupyter)):"
   ]
  },
  {
   "cell_type": "markdown",
   "metadata": {},
   "source": [
    "```zsh\n",
    "ipython profile create\n",
    "ipython locate\n",
    "```\n",
    "/Users/username/.ipython\n",
    "```zsh\n",
    "cd /Users/username/.ipython\n",
    "vi profile_default/ipython_config.py\n",
    "```\n",
    "add these lines (use `i` to enter insert mode and `Esc` to exit, save and quit as `:wq`:\n",
    "```zsh\n",
    "c.InteractiveShellApp.exec_lines = [\n",
    "    'import sys; sys.path.append(\"/path/to/your/module\")'\n",
    "]\n",
    "```"
   ]
  },
  {
   "attachments": {},
   "cell_type": "markdown",
   "metadata": {},
   "source": [
    "`sys.path` can be different in python env and jupyter kernel. The solution that worked is [here](https://stackoverflow.com/questions/34389029/cannot-import-modules-in-jupyter-notebook-wrong-sys-path), in short, one has to compare the `sys.executable` for both the environment AND jupyter kernel (this one is listed using `jupyter kernelspec list` and looking into relevant `kernel.json` file)\n",
    "a must-read that I still need to go over is here [here](https://stackoverflow.com/questions/897792/where-is-pythons-sys-path-initialized-from)."
   ]
  },
  {
   "attachments": {},
   "cell_type": "markdown",
   "metadata": {},
   "source": [
    "## Change the default kernel\n",
    "\n",
    "```zsh\n",
    "jupyter notebook --generate-config\n",
    "```\n",
    "\n",
    "In jupyter config file modify and uncomment following line:  `c.MultiKernelManager.default_kernel_name='newDefault' \\n\"`"
   ]
  }
 ],
 "metadata": {
  "kernelspec": {
   "display_name": "python3",
   "language": "python",
   "name": "python3"
  }
 },
 "nbformat": 4,
 "nbformat_minor": 4
}
