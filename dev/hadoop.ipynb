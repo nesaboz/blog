{
 "cells": [
  {
   "cell_type": "markdown",
   "metadata": {},
   "source": [
    "\n",
    "# Hadoop\n",
    "\n",
    " The spectrum includes:\n",
    " - key-value stores (Redis, Amazon Dynamo DB), \n",
    " - column stores (HBase, Cassandra), \n",
    " - document stores (Mongo DB, Couchbase), \n",
    " - graph databases (Neo4J), and\n",
    " - search engines (Solr, ElasticSearch, Splunk). \n",
    " \n",
    "\n",
    " Yet Another Resource Negotiator (YARN)"
   ]
  },
  {
   "cell_type": "markdown",
   "metadata": {},
   "source": []
  }
 ],
 "metadata": {
  "language_info": {
   "name": "python"
  }
 },
 "nbformat": 4,
 "nbformat_minor": 2
}
