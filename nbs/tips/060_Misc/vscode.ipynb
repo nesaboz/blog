{
 "cells": [
  {
   "cell_type": "markdown",
   "metadata": {},
   "source": [
    "# VS Code\n"
   ]
  },
  {
   "cell_type": "markdown",
   "metadata": {},
   "source": [
    "## Debugging shortcuts\n",
    "\n",
    "- add breakpoint: F9   \n",
    "- rerun last test: Command + ; + L \n",
    "- step next: F10  \n",
    "- into: F11  \n",
    "- out: Shift + F11  \n",
    "- continue: F5  \n",
    "- stop: Shift F5  \n",
    "- evaluate in debug console: Command + E + C    # my shortcut  \n"
   ]
  },
  {
   "cell_type": "markdown",
   "metadata": {},
   "source": []
  }
 ],
 "metadata": {
  "language_info": {
   "name": "python"
  }
 },
 "nbformat": 4,
 "nbformat_minor": 2
}
